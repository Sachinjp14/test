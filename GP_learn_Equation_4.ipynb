{
  "nbformat": 4,
  "nbformat_minor": 0,
  "metadata": {
    "colab": {
      "name": "GP_learn_Equation_4.ipynb",
      "provenance": [],
      "collapsed_sections": []
    },
    "kernelspec": {
      "name": "python3",
      "display_name": "Python 3"
    },
    "language_info": {
      "name": "python"
    }
  },
  "cells": [
    {
      "cell_type": "code",
      "execution_count": 1,
      "metadata": {
        "colab": {
          "base_uri": "https://localhost:8080/"
        },
        "id": "cbAFw9qYbta_",
        "outputId": "e55b6c2c-31a0-405d-e24d-e57e9cfdb731"
      },
      "outputs": [
        {
          "output_type": "stream",
          "name": "stdout",
          "text": [
            "Looking in indexes: https://pypi.org/simple, https://us-python.pkg.dev/colab-wheels/public/simple/\n",
            "Collecting gplearn\n",
            "  Downloading gplearn-0.4.2-py3-none-any.whl (25 kB)\n",
            "Requirement already satisfied: scikit-learn>=1.0.2 in /usr/local/lib/python3.7/dist-packages (from gplearn) (1.0.2)\n",
            "Requirement already satisfied: joblib>=1.0.0 in /usr/local/lib/python3.7/dist-packages (from gplearn) (1.1.0)\n",
            "Requirement already satisfied: scipy>=1.1.0 in /usr/local/lib/python3.7/dist-packages (from scikit-learn>=1.0.2->gplearn) (1.4.1)\n",
            "Requirement already satisfied: threadpoolctl>=2.0.0 in /usr/local/lib/python3.7/dist-packages (from scikit-learn>=1.0.2->gplearn) (3.1.0)\n",
            "Requirement already satisfied: numpy>=1.14.6 in /usr/local/lib/python3.7/dist-packages (from scikit-learn>=1.0.2->gplearn) (1.21.6)\n",
            "Installing collected packages: gplearn\n",
            "Successfully installed gplearn-0.4.2\n"
          ]
        }
      ],
      "source": [
        "!pip install gplearn"
      ]
    },
    {
      "cell_type": "code",
      "source": [
        "import numpy as np\n",
        "import pandas as pd\n",
        "import matplotlib.pyplot as plt\n",
        "from gplearn.genetic import SymbolicRegressor\n",
        "import sklearn\n",
        "from sklearn.ensemble import RandomForestRegressor\n",
        "from sklearn.tree import DecisionTreeRegressor\n",
        "from sympy import *\n",
        "from sklearn.utils.random import check_random_state\n",
        "import graphviz\n",
        "import time"
      ],
      "metadata": {
        "id": "naRHNqobbydF"
      },
      "execution_count": 2,
      "outputs": []
    },
    {
      "cell_type": "code",
      "source": [
        "import pandas as pd\n",
        "import numpy as np\n",
        "\n",
        "df = pd.read_csv(\"https://github.com/Sachinjp14/Thesis/blob/3f5b58c56b972c9cbc3eee1864452e9be9b723a4/equation%204.csv?raw=true\")\n",
        "\n",
        "df.head()\n"
      ],
      "metadata": {
        "colab": {
          "base_uri": "https://localhost:8080/",
          "height": 206
        },
        "id": "cAOh12hLby-R",
        "outputId": "b88873d8-5441-42a5-ac31-abbd646efe87"
      },
      "execution_count": 3,
      "outputs": [
        {
          "output_type": "execute_result",
          "data": {
            "text/plain": [
              "         X1        X2        X3        X4         Y\n",
              "0  4.725219  1.735492  4.956655  1.984024  6.442611\n",
              "1  2.948350  3.917977  1.122311  2.076565  3.268741\n",
              "2  2.056012  4.279370  3.592577  2.878457  3.040191\n",
              "3  4.479831  4.364756  1.614712  3.498773  7.153415\n",
              "4  3.310144  1.695486  1.332648  2.947337  3.784738"
            ],
            "text/html": [
              "\n",
              "  <div id=\"df-9d3df6d3-2a14-47a2-9031-298067bbd45b\">\n",
              "    <div class=\"colab-df-container\">\n",
              "      <div>\n",
              "<style scoped>\n",
              "    .dataframe tbody tr th:only-of-type {\n",
              "        vertical-align: middle;\n",
              "    }\n",
              "\n",
              "    .dataframe tbody tr th {\n",
              "        vertical-align: top;\n",
              "    }\n",
              "\n",
              "    .dataframe thead th {\n",
              "        text-align: right;\n",
              "    }\n",
              "</style>\n",
              "<table border=\"1\" class=\"dataframe\">\n",
              "  <thead>\n",
              "    <tr style=\"text-align: right;\">\n",
              "      <th></th>\n",
              "      <th>X1</th>\n",
              "      <th>X2</th>\n",
              "      <th>X3</th>\n",
              "      <th>X4</th>\n",
              "      <th>Y</th>\n",
              "    </tr>\n",
              "  </thead>\n",
              "  <tbody>\n",
              "    <tr>\n",
              "      <th>0</th>\n",
              "      <td>4.725219</td>\n",
              "      <td>1.735492</td>\n",
              "      <td>4.956655</td>\n",
              "      <td>1.984024</td>\n",
              "      <td>6.442611</td>\n",
              "    </tr>\n",
              "    <tr>\n",
              "      <th>1</th>\n",
              "      <td>2.948350</td>\n",
              "      <td>3.917977</td>\n",
              "      <td>1.122311</td>\n",
              "      <td>2.076565</td>\n",
              "      <td>3.268741</td>\n",
              "    </tr>\n",
              "    <tr>\n",
              "      <th>2</th>\n",
              "      <td>2.056012</td>\n",
              "      <td>4.279370</td>\n",
              "      <td>3.592577</td>\n",
              "      <td>2.878457</td>\n",
              "      <td>3.040191</td>\n",
              "    </tr>\n",
              "    <tr>\n",
              "      <th>3</th>\n",
              "      <td>4.479831</td>\n",
              "      <td>4.364756</td>\n",
              "      <td>1.614712</td>\n",
              "      <td>3.498773</td>\n",
              "      <td>7.153415</td>\n",
              "    </tr>\n",
              "    <tr>\n",
              "      <th>4</th>\n",
              "      <td>3.310144</td>\n",
              "      <td>1.695486</td>\n",
              "      <td>1.332648</td>\n",
              "      <td>2.947337</td>\n",
              "      <td>3.784738</td>\n",
              "    </tr>\n",
              "  </tbody>\n",
              "</table>\n",
              "</div>\n",
              "      <button class=\"colab-df-convert\" onclick=\"convertToInteractive('df-9d3df6d3-2a14-47a2-9031-298067bbd45b')\"\n",
              "              title=\"Convert this dataframe to an interactive table.\"\n",
              "              style=\"display:none;\">\n",
              "        \n",
              "  <svg xmlns=\"http://www.w3.org/2000/svg\" height=\"24px\"viewBox=\"0 0 24 24\"\n",
              "       width=\"24px\">\n",
              "    <path d=\"M0 0h24v24H0V0z\" fill=\"none\"/>\n",
              "    <path d=\"M18.56 5.44l.94 2.06.94-2.06 2.06-.94-2.06-.94-.94-2.06-.94 2.06-2.06.94zm-11 1L8.5 8.5l.94-2.06 2.06-.94-2.06-.94L8.5 2.5l-.94 2.06-2.06.94zm10 10l.94 2.06.94-2.06 2.06-.94-2.06-.94-.94-2.06-.94 2.06-2.06.94z\"/><path d=\"M17.41 7.96l-1.37-1.37c-.4-.4-.92-.59-1.43-.59-.52 0-1.04.2-1.43.59L10.3 9.45l-7.72 7.72c-.78.78-.78 2.05 0 2.83L4 21.41c.39.39.9.59 1.41.59.51 0 1.02-.2 1.41-.59l7.78-7.78 2.81-2.81c.8-.78.8-2.07 0-2.86zM5.41 20L4 18.59l7.72-7.72 1.47 1.35L5.41 20z\"/>\n",
              "  </svg>\n",
              "      </button>\n",
              "      \n",
              "  <style>\n",
              "    .colab-df-container {\n",
              "      display:flex;\n",
              "      flex-wrap:wrap;\n",
              "      gap: 12px;\n",
              "    }\n",
              "\n",
              "    .colab-df-convert {\n",
              "      background-color: #E8F0FE;\n",
              "      border: none;\n",
              "      border-radius: 50%;\n",
              "      cursor: pointer;\n",
              "      display: none;\n",
              "      fill: #1967D2;\n",
              "      height: 32px;\n",
              "      padding: 0 0 0 0;\n",
              "      width: 32px;\n",
              "    }\n",
              "\n",
              "    .colab-df-convert:hover {\n",
              "      background-color: #E2EBFA;\n",
              "      box-shadow: 0px 1px 2px rgba(60, 64, 67, 0.3), 0px 1px 3px 1px rgba(60, 64, 67, 0.15);\n",
              "      fill: #174EA6;\n",
              "    }\n",
              "\n",
              "    [theme=dark] .colab-df-convert {\n",
              "      background-color: #3B4455;\n",
              "      fill: #D2E3FC;\n",
              "    }\n",
              "\n",
              "    [theme=dark] .colab-df-convert:hover {\n",
              "      background-color: #434B5C;\n",
              "      box-shadow: 0px 1px 3px 1px rgba(0, 0, 0, 0.15);\n",
              "      filter: drop-shadow(0px 1px 2px rgba(0, 0, 0, 0.3));\n",
              "      fill: #FFFFFF;\n",
              "    }\n",
              "  </style>\n",
              "\n",
              "      <script>\n",
              "        const buttonEl =\n",
              "          document.querySelector('#df-9d3df6d3-2a14-47a2-9031-298067bbd45b button.colab-df-convert');\n",
              "        buttonEl.style.display =\n",
              "          google.colab.kernel.accessAllowed ? 'block' : 'none';\n",
              "\n",
              "        async function convertToInteractive(key) {\n",
              "          const element = document.querySelector('#df-9d3df6d3-2a14-47a2-9031-298067bbd45b');\n",
              "          const dataTable =\n",
              "            await google.colab.kernel.invokeFunction('convertToInteractive',\n",
              "                                                     [key], {});\n",
              "          if (!dataTable) return;\n",
              "\n",
              "          const docLinkHtml = 'Like what you see? Visit the ' +\n",
              "            '<a target=\"_blank\" href=https://colab.research.google.com/notebooks/data_table.ipynb>data table notebook</a>'\n",
              "            + ' to learn more about interactive tables.';\n",
              "          element.innerHTML = '';\n",
              "          dataTable['output_type'] = 'display_data';\n",
              "          await google.colab.output.renderOutput(dataTable, element);\n",
              "          const docLink = document.createElement('div');\n",
              "          docLink.innerHTML = docLinkHtml;\n",
              "          element.appendChild(docLink);\n",
              "        }\n",
              "      </script>\n",
              "    </div>\n",
              "  </div>\n",
              "  "
            ]
          },
          "metadata": {},
          "execution_count": 3
        }
      ]
    },
    {
      "cell_type": "code",
      "source": [
        "df = df.dropna()"
      ],
      "metadata": {
        "id": "VvikTn74LWCL"
      },
      "execution_count": 4,
      "outputs": []
    },
    {
      "cell_type": "code",
      "source": [
        "df"
      ],
      "metadata": {
        "id": "rGzW25tr4ckv",
        "colab": {
          "base_uri": "https://localhost:8080/",
          "height": 424
        },
        "outputId": "11b824eb-4b7b-46db-fe05-87937aaa28a3"
      },
      "execution_count": 5,
      "outputs": [
        {
          "output_type": "execute_result",
          "data": {
            "text/plain": [
              "             X1        X2        X3        X4         Y\n",
              "0      4.725219  1.735492  4.956655  1.984024  6.442611\n",
              "1      2.948350  3.917977  1.122311  2.076565  3.268741\n",
              "2      2.056012  4.279370  3.592577  2.878457  3.040191\n",
              "3      4.479831  4.364756  1.614712  3.498773  7.153415\n",
              "4      3.310144  1.695486  1.332648  2.947337  3.784738\n",
              "...         ...       ...       ...       ...       ...\n",
              "99995  3.596992  4.233839  1.935430  3.787543  6.270531\n",
              "99996  2.140851  2.861804  4.098083  3.535171  1.552550\n",
              "99997  1.049337  1.483073  3.130511  2.408602  0.982115\n",
              "99998  3.932660  4.834658  3.405621  1.210054  7.815475\n",
              "99999  3.189236  2.788036  3.898669  2.571389  3.695469\n",
              "\n",
              "[100000 rows x 5 columns]"
            ],
            "text/html": [
              "\n",
              "  <div id=\"df-7ec2aaec-50a1-4c1e-b104-b88b5220c8e9\">\n",
              "    <div class=\"colab-df-container\">\n",
              "      <div>\n",
              "<style scoped>\n",
              "    .dataframe tbody tr th:only-of-type {\n",
              "        vertical-align: middle;\n",
              "    }\n",
              "\n",
              "    .dataframe tbody tr th {\n",
              "        vertical-align: top;\n",
              "    }\n",
              "\n",
              "    .dataframe thead th {\n",
              "        text-align: right;\n",
              "    }\n",
              "</style>\n",
              "<table border=\"1\" class=\"dataframe\">\n",
              "  <thead>\n",
              "    <tr style=\"text-align: right;\">\n",
              "      <th></th>\n",
              "      <th>X1</th>\n",
              "      <th>X2</th>\n",
              "      <th>X3</th>\n",
              "      <th>X4</th>\n",
              "      <th>Y</th>\n",
              "    </tr>\n",
              "  </thead>\n",
              "  <tbody>\n",
              "    <tr>\n",
              "      <th>0</th>\n",
              "      <td>4.725219</td>\n",
              "      <td>1.735492</td>\n",
              "      <td>4.956655</td>\n",
              "      <td>1.984024</td>\n",
              "      <td>6.442611</td>\n",
              "    </tr>\n",
              "    <tr>\n",
              "      <th>1</th>\n",
              "      <td>2.948350</td>\n",
              "      <td>3.917977</td>\n",
              "      <td>1.122311</td>\n",
              "      <td>2.076565</td>\n",
              "      <td>3.268741</td>\n",
              "    </tr>\n",
              "    <tr>\n",
              "      <th>2</th>\n",
              "      <td>2.056012</td>\n",
              "      <td>4.279370</td>\n",
              "      <td>3.592577</td>\n",
              "      <td>2.878457</td>\n",
              "      <td>3.040191</td>\n",
              "    </tr>\n",
              "    <tr>\n",
              "      <th>3</th>\n",
              "      <td>4.479831</td>\n",
              "      <td>4.364756</td>\n",
              "      <td>1.614712</td>\n",
              "      <td>3.498773</td>\n",
              "      <td>7.153415</td>\n",
              "    </tr>\n",
              "    <tr>\n",
              "      <th>4</th>\n",
              "      <td>3.310144</td>\n",
              "      <td>1.695486</td>\n",
              "      <td>1.332648</td>\n",
              "      <td>2.947337</td>\n",
              "      <td>3.784738</td>\n",
              "    </tr>\n",
              "    <tr>\n",
              "      <th>...</th>\n",
              "      <td>...</td>\n",
              "      <td>...</td>\n",
              "      <td>...</td>\n",
              "      <td>...</td>\n",
              "      <td>...</td>\n",
              "    </tr>\n",
              "    <tr>\n",
              "      <th>99995</th>\n",
              "      <td>3.596992</td>\n",
              "      <td>4.233839</td>\n",
              "      <td>1.935430</td>\n",
              "      <td>3.787543</td>\n",
              "      <td>6.270531</td>\n",
              "    </tr>\n",
              "    <tr>\n",
              "      <th>99996</th>\n",
              "      <td>2.140851</td>\n",
              "      <td>2.861804</td>\n",
              "      <td>4.098083</td>\n",
              "      <td>3.535171</td>\n",
              "      <td>1.552550</td>\n",
              "    </tr>\n",
              "    <tr>\n",
              "      <th>99997</th>\n",
              "      <td>1.049337</td>\n",
              "      <td>1.483073</td>\n",
              "      <td>3.130511</td>\n",
              "      <td>2.408602</td>\n",
              "      <td>0.982115</td>\n",
              "    </tr>\n",
              "    <tr>\n",
              "      <th>99998</th>\n",
              "      <td>3.932660</td>\n",
              "      <td>4.834658</td>\n",
              "      <td>3.405621</td>\n",
              "      <td>1.210054</td>\n",
              "      <td>7.815475</td>\n",
              "    </tr>\n",
              "    <tr>\n",
              "      <th>99999</th>\n",
              "      <td>3.189236</td>\n",
              "      <td>2.788036</td>\n",
              "      <td>3.898669</td>\n",
              "      <td>2.571389</td>\n",
              "      <td>3.695469</td>\n",
              "    </tr>\n",
              "  </tbody>\n",
              "</table>\n",
              "<p>100000 rows × 5 columns</p>\n",
              "</div>\n",
              "      <button class=\"colab-df-convert\" onclick=\"convertToInteractive('df-7ec2aaec-50a1-4c1e-b104-b88b5220c8e9')\"\n",
              "              title=\"Convert this dataframe to an interactive table.\"\n",
              "              style=\"display:none;\">\n",
              "        \n",
              "  <svg xmlns=\"http://www.w3.org/2000/svg\" height=\"24px\"viewBox=\"0 0 24 24\"\n",
              "       width=\"24px\">\n",
              "    <path d=\"M0 0h24v24H0V0z\" fill=\"none\"/>\n",
              "    <path d=\"M18.56 5.44l.94 2.06.94-2.06 2.06-.94-2.06-.94-.94-2.06-.94 2.06-2.06.94zm-11 1L8.5 8.5l.94-2.06 2.06-.94-2.06-.94L8.5 2.5l-.94 2.06-2.06.94zm10 10l.94 2.06.94-2.06 2.06-.94-2.06-.94-.94-2.06-.94 2.06-2.06.94z\"/><path d=\"M17.41 7.96l-1.37-1.37c-.4-.4-.92-.59-1.43-.59-.52 0-1.04.2-1.43.59L10.3 9.45l-7.72 7.72c-.78.78-.78 2.05 0 2.83L4 21.41c.39.39.9.59 1.41.59.51 0 1.02-.2 1.41-.59l7.78-7.78 2.81-2.81c.8-.78.8-2.07 0-2.86zM5.41 20L4 18.59l7.72-7.72 1.47 1.35L5.41 20z\"/>\n",
              "  </svg>\n",
              "      </button>\n",
              "      \n",
              "  <style>\n",
              "    .colab-df-container {\n",
              "      display:flex;\n",
              "      flex-wrap:wrap;\n",
              "      gap: 12px;\n",
              "    }\n",
              "\n",
              "    .colab-df-convert {\n",
              "      background-color: #E8F0FE;\n",
              "      border: none;\n",
              "      border-radius: 50%;\n",
              "      cursor: pointer;\n",
              "      display: none;\n",
              "      fill: #1967D2;\n",
              "      height: 32px;\n",
              "      padding: 0 0 0 0;\n",
              "      width: 32px;\n",
              "    }\n",
              "\n",
              "    .colab-df-convert:hover {\n",
              "      background-color: #E2EBFA;\n",
              "      box-shadow: 0px 1px 2px rgba(60, 64, 67, 0.3), 0px 1px 3px 1px rgba(60, 64, 67, 0.15);\n",
              "      fill: #174EA6;\n",
              "    }\n",
              "\n",
              "    [theme=dark] .colab-df-convert {\n",
              "      background-color: #3B4455;\n",
              "      fill: #D2E3FC;\n",
              "    }\n",
              "\n",
              "    [theme=dark] .colab-df-convert:hover {\n",
              "      background-color: #434B5C;\n",
              "      box-shadow: 0px 1px 3px 1px rgba(0, 0, 0, 0.15);\n",
              "      filter: drop-shadow(0px 1px 2px rgba(0, 0, 0, 0.3));\n",
              "      fill: #FFFFFF;\n",
              "    }\n",
              "  </style>\n",
              "\n",
              "      <script>\n",
              "        const buttonEl =\n",
              "          document.querySelector('#df-7ec2aaec-50a1-4c1e-b104-b88b5220c8e9 button.colab-df-convert');\n",
              "        buttonEl.style.display =\n",
              "          google.colab.kernel.accessAllowed ? 'block' : 'none';\n",
              "\n",
              "        async function convertToInteractive(key) {\n",
              "          const element = document.querySelector('#df-7ec2aaec-50a1-4c1e-b104-b88b5220c8e9');\n",
              "          const dataTable =\n",
              "            await google.colab.kernel.invokeFunction('convertToInteractive',\n",
              "                                                     [key], {});\n",
              "          if (!dataTable) return;\n",
              "\n",
              "          const docLinkHtml = 'Like what you see? Visit the ' +\n",
              "            '<a target=\"_blank\" href=https://colab.research.google.com/notebooks/data_table.ipynb>data table notebook</a>'\n",
              "            + ' to learn more about interactive tables.';\n",
              "          element.innerHTML = '';\n",
              "          dataTable['output_type'] = 'display_data';\n",
              "          await google.colab.output.renderOutput(dataTable, element);\n",
              "          const docLink = document.createElement('div');\n",
              "          docLink.innerHTML = docLinkHtml;\n",
              "          element.appendChild(docLink);\n",
              "        }\n",
              "      </script>\n",
              "    </div>\n",
              "  </div>\n",
              "  "
            ]
          },
          "metadata": {},
          "execution_count": 5
        }
      ]
    },
    {
      "cell_type": "code",
      "source": [
        "X = df.drop(['Y'], axis = 1)"
      ],
      "metadata": {
        "id": "THy1Wp3hMlJQ"
      },
      "execution_count": 7,
      "outputs": []
    },
    {
      "cell_type": "code",
      "source": [
        "X"
      ],
      "metadata": {
        "colab": {
          "base_uri": "https://localhost:8080/",
          "height": 424
        },
        "id": "11f-MiS2bovH",
        "outputId": "b6af8089-07ce-4ac4-f3a0-9755f2ad279e"
      },
      "execution_count": 8,
      "outputs": [
        {
          "output_type": "execute_result",
          "data": {
            "text/plain": [
              "             X1        X2        X3        X4\n",
              "0      4.725219  1.735492  4.956655  1.984024\n",
              "1      2.948350  3.917977  1.122311  2.076565\n",
              "2      2.056012  4.279370  3.592577  2.878457\n",
              "3      4.479831  4.364756  1.614712  3.498773\n",
              "4      3.310144  1.695486  1.332648  2.947337\n",
              "...         ...       ...       ...       ...\n",
              "99995  3.596992  4.233839  1.935430  3.787543\n",
              "99996  2.140851  2.861804  4.098083  3.535171\n",
              "99997  1.049337  1.483073  3.130511  2.408602\n",
              "99998  3.932660  4.834658  3.405621  1.210054\n",
              "99999  3.189236  2.788036  3.898669  2.571389\n",
              "\n",
              "[100000 rows x 4 columns]"
            ],
            "text/html": [
              "\n",
              "  <div id=\"df-e6321108-8c6b-44c0-bec7-d47bd69e2e54\">\n",
              "    <div class=\"colab-df-container\">\n",
              "      <div>\n",
              "<style scoped>\n",
              "    .dataframe tbody tr th:only-of-type {\n",
              "        vertical-align: middle;\n",
              "    }\n",
              "\n",
              "    .dataframe tbody tr th {\n",
              "        vertical-align: top;\n",
              "    }\n",
              "\n",
              "    .dataframe thead th {\n",
              "        text-align: right;\n",
              "    }\n",
              "</style>\n",
              "<table border=\"1\" class=\"dataframe\">\n",
              "  <thead>\n",
              "    <tr style=\"text-align: right;\">\n",
              "      <th></th>\n",
              "      <th>X1</th>\n",
              "      <th>X2</th>\n",
              "      <th>X3</th>\n",
              "      <th>X4</th>\n",
              "    </tr>\n",
              "  </thead>\n",
              "  <tbody>\n",
              "    <tr>\n",
              "      <th>0</th>\n",
              "      <td>4.725219</td>\n",
              "      <td>1.735492</td>\n",
              "      <td>4.956655</td>\n",
              "      <td>1.984024</td>\n",
              "    </tr>\n",
              "    <tr>\n",
              "      <th>1</th>\n",
              "      <td>2.948350</td>\n",
              "      <td>3.917977</td>\n",
              "      <td>1.122311</td>\n",
              "      <td>2.076565</td>\n",
              "    </tr>\n",
              "    <tr>\n",
              "      <th>2</th>\n",
              "      <td>2.056012</td>\n",
              "      <td>4.279370</td>\n",
              "      <td>3.592577</td>\n",
              "      <td>2.878457</td>\n",
              "    </tr>\n",
              "    <tr>\n",
              "      <th>3</th>\n",
              "      <td>4.479831</td>\n",
              "      <td>4.364756</td>\n",
              "      <td>1.614712</td>\n",
              "      <td>3.498773</td>\n",
              "    </tr>\n",
              "    <tr>\n",
              "      <th>4</th>\n",
              "      <td>3.310144</td>\n",
              "      <td>1.695486</td>\n",
              "      <td>1.332648</td>\n",
              "      <td>2.947337</td>\n",
              "    </tr>\n",
              "    <tr>\n",
              "      <th>...</th>\n",
              "      <td>...</td>\n",
              "      <td>...</td>\n",
              "      <td>...</td>\n",
              "      <td>...</td>\n",
              "    </tr>\n",
              "    <tr>\n",
              "      <th>99995</th>\n",
              "      <td>3.596992</td>\n",
              "      <td>4.233839</td>\n",
              "      <td>1.935430</td>\n",
              "      <td>3.787543</td>\n",
              "    </tr>\n",
              "    <tr>\n",
              "      <th>99996</th>\n",
              "      <td>2.140851</td>\n",
              "      <td>2.861804</td>\n",
              "      <td>4.098083</td>\n",
              "      <td>3.535171</td>\n",
              "    </tr>\n",
              "    <tr>\n",
              "      <th>99997</th>\n",
              "      <td>1.049337</td>\n",
              "      <td>1.483073</td>\n",
              "      <td>3.130511</td>\n",
              "      <td>2.408602</td>\n",
              "    </tr>\n",
              "    <tr>\n",
              "      <th>99998</th>\n",
              "      <td>3.932660</td>\n",
              "      <td>4.834658</td>\n",
              "      <td>3.405621</td>\n",
              "      <td>1.210054</td>\n",
              "    </tr>\n",
              "    <tr>\n",
              "      <th>99999</th>\n",
              "      <td>3.189236</td>\n",
              "      <td>2.788036</td>\n",
              "      <td>3.898669</td>\n",
              "      <td>2.571389</td>\n",
              "    </tr>\n",
              "  </tbody>\n",
              "</table>\n",
              "<p>100000 rows × 4 columns</p>\n",
              "</div>\n",
              "      <button class=\"colab-df-convert\" onclick=\"convertToInteractive('df-e6321108-8c6b-44c0-bec7-d47bd69e2e54')\"\n",
              "              title=\"Convert this dataframe to an interactive table.\"\n",
              "              style=\"display:none;\">\n",
              "        \n",
              "  <svg xmlns=\"http://www.w3.org/2000/svg\" height=\"24px\"viewBox=\"0 0 24 24\"\n",
              "       width=\"24px\">\n",
              "    <path d=\"M0 0h24v24H0V0z\" fill=\"none\"/>\n",
              "    <path d=\"M18.56 5.44l.94 2.06.94-2.06 2.06-.94-2.06-.94-.94-2.06-.94 2.06-2.06.94zm-11 1L8.5 8.5l.94-2.06 2.06-.94-2.06-.94L8.5 2.5l-.94 2.06-2.06.94zm10 10l.94 2.06.94-2.06 2.06-.94-2.06-.94-.94-2.06-.94 2.06-2.06.94z\"/><path d=\"M17.41 7.96l-1.37-1.37c-.4-.4-.92-.59-1.43-.59-.52 0-1.04.2-1.43.59L10.3 9.45l-7.72 7.72c-.78.78-.78 2.05 0 2.83L4 21.41c.39.39.9.59 1.41.59.51 0 1.02-.2 1.41-.59l7.78-7.78 2.81-2.81c.8-.78.8-2.07 0-2.86zM5.41 20L4 18.59l7.72-7.72 1.47 1.35L5.41 20z\"/>\n",
              "  </svg>\n",
              "      </button>\n",
              "      \n",
              "  <style>\n",
              "    .colab-df-container {\n",
              "      display:flex;\n",
              "      flex-wrap:wrap;\n",
              "      gap: 12px;\n",
              "    }\n",
              "\n",
              "    .colab-df-convert {\n",
              "      background-color: #E8F0FE;\n",
              "      border: none;\n",
              "      border-radius: 50%;\n",
              "      cursor: pointer;\n",
              "      display: none;\n",
              "      fill: #1967D2;\n",
              "      height: 32px;\n",
              "      padding: 0 0 0 0;\n",
              "      width: 32px;\n",
              "    }\n",
              "\n",
              "    .colab-df-convert:hover {\n",
              "      background-color: #E2EBFA;\n",
              "      box-shadow: 0px 1px 2px rgba(60, 64, 67, 0.3), 0px 1px 3px 1px rgba(60, 64, 67, 0.15);\n",
              "      fill: #174EA6;\n",
              "    }\n",
              "\n",
              "    [theme=dark] .colab-df-convert {\n",
              "      background-color: #3B4455;\n",
              "      fill: #D2E3FC;\n",
              "    }\n",
              "\n",
              "    [theme=dark] .colab-df-convert:hover {\n",
              "      background-color: #434B5C;\n",
              "      box-shadow: 0px 1px 3px 1px rgba(0, 0, 0, 0.15);\n",
              "      filter: drop-shadow(0px 1px 2px rgba(0, 0, 0, 0.3));\n",
              "      fill: #FFFFFF;\n",
              "    }\n",
              "  </style>\n",
              "\n",
              "      <script>\n",
              "        const buttonEl =\n",
              "          document.querySelector('#df-e6321108-8c6b-44c0-bec7-d47bd69e2e54 button.colab-df-convert');\n",
              "        buttonEl.style.display =\n",
              "          google.colab.kernel.accessAllowed ? 'block' : 'none';\n",
              "\n",
              "        async function convertToInteractive(key) {\n",
              "          const element = document.querySelector('#df-e6321108-8c6b-44c0-bec7-d47bd69e2e54');\n",
              "          const dataTable =\n",
              "            await google.colab.kernel.invokeFunction('convertToInteractive',\n",
              "                                                     [key], {});\n",
              "          if (!dataTable) return;\n",
              "\n",
              "          const docLinkHtml = 'Like what you see? Visit the ' +\n",
              "            '<a target=\"_blank\" href=https://colab.research.google.com/notebooks/data_table.ipynb>data table notebook</a>'\n",
              "            + ' to learn more about interactive tables.';\n",
              "          element.innerHTML = '';\n",
              "          dataTable['output_type'] = 'display_data';\n",
              "          await google.colab.output.renderOutput(dataTable, element);\n",
              "          const docLink = document.createElement('div');\n",
              "          docLink.innerHTML = docLinkHtml;\n",
              "          element.appendChild(docLink);\n",
              "        }\n",
              "      </script>\n",
              "    </div>\n",
              "  </div>\n",
              "  "
            ]
          },
          "metadata": {},
          "execution_count": 8
        }
      ]
    },
    {
      "cell_type": "code",
      "source": [
        "y = df['Y']\n",
        "y"
      ],
      "metadata": {
        "id": "VlYsSTrfMvA4",
        "colab": {
          "base_uri": "https://localhost:8080/"
        },
        "outputId": "80cdb510-5a58-47c2-faab-617e41159d75"
      },
      "execution_count": 9,
      "outputs": [
        {
          "output_type": "execute_result",
          "data": {
            "text/plain": [
              "0        6.442611\n",
              "1        3.268741\n",
              "2        3.040191\n",
              "3        7.153415\n",
              "4        3.784738\n",
              "           ...   \n",
              "99995    6.270531\n",
              "99996    1.552550\n",
              "99997    0.982115\n",
              "99998    7.815475\n",
              "99999    3.695469\n",
              "Name: Y, Length: 100000, dtype: float64"
            ]
          },
          "metadata": {},
          "execution_count": 9
        }
      ]
    },
    {
      "cell_type": "code",
      "source": [
        "X_train, X_test, y_train, y_test = sklearn.model_selection.train_test_split(X, y, test_size=0.3, random_state=42)\n",
        "X_train.shape, X_test.shape, y_train.shape, y_test.shape"
      ],
      "metadata": {
        "colab": {
          "base_uri": "https://localhost:8080/"
        },
        "id": "vZI2w-EPcUHm",
        "outputId": "83219ac3-9dbf-4cef-9a4d-d20e30ca8298"
      },
      "execution_count": 10,
      "outputs": [
        {
          "output_type": "execute_result",
          "data": {
            "text/plain": [
              "((70000, 4), (30000, 4), (70000,), (30000,))"
            ]
          },
          "metadata": {},
          "execution_count": 10
        }
      ]
    },
    {
      "cell_type": "code",
      "source": [
        "from sklearn import preprocessing\n",
        "scaler = preprocessing.MinMaxScaler()\n",
        "scaler.fit(X_train)\n",
        "train_features = scaler.transform(X_train)\n",
        "test_features = scaler.transform(X_test)\n"
      ],
      "metadata": {
        "id": "MXEUI5j3bBTy"
      },
      "execution_count": null,
      "outputs": []
    },
    {
      "cell_type": "code",
      "source": [
        "test_features"
      ],
      "metadata": {
        "colab": {
          "base_uri": "https://localhost:8080/"
        },
        "id": "ehCLPByBAxGc",
        "outputId": "23dba6f0-472a-40f1-fe55-33fe32b0b34c"
      },
      "execution_count": null,
      "outputs": [
        {
          "output_type": "execute_result",
          "data": {
            "text/plain": [
              "array([[0.1827092 , 0.00573433, 0.71337059],\n",
              "       [0.11174035, 0.17909944, 0.87801167],\n",
              "       [0.65821597, 0.77453235, 0.96570729],\n",
              "       ...,\n",
              "       [0.64025318, 0.29137216, 0.4689263 ],\n",
              "       [0.32775612, 0.1025758 , 0.15283047],\n",
              "       [0.95199251, 0.5150051 , 0.44657199]])"
            ]
          },
          "metadata": {},
          "execution_count": 11
        }
      ]
    },
    {
      "cell_type": "code",
      "source": [
        "est_gp = SymbolicRegressor(population_size=5000, generations=40, \n",
        "                           tournament_size=20, stopping_criteria=0.01, \n",
        "                           const_range=(- 1.0, 1.0), init_depth=(2, 6), \n",
        "                           init_method='half and half', \n",
        "                           #function_set=('add', 'sub', 'mul', 'div'), \n",
        "                           metric='mean absolute error', parsimony_coefficient=0.001, \n",
        "                           p_crossover=0.95, p_subtree_mutation=0.01, p_hoist_mutation=0.01, \n",
        "                           p_point_mutation=0.01, p_point_replace=0.05, max_samples=1.0, \n",
        "                           feature_names=X_train.columns, warm_start=False, low_memory=False, \n",
        "                           n_jobs=1, verbose=1, random_state=None)"
      ],
      "metadata": {
        "id": "zw3ufOjX9o9d"
      },
      "execution_count": 11,
      "outputs": []
    },
    {
      "cell_type": "code",
      "source": [
        "est_gp.fit(X_train, y_train)\n"
      ],
      "metadata": {
        "colab": {
          "base_uri": "https://localhost:8080/"
        },
        "id": "bJCwEI4Tcc46",
        "outputId": "e38e4ff9-6e8f-4454-cff4-a930fdb1d05d"
      },
      "execution_count": 12,
      "outputs": [
        {
          "output_type": "stream",
          "name": "stdout",
          "text": [
            "    |   Population Average    |             Best Individual              |\n",
            "---- ------------------------- ------------------------------------------ ----------\n",
            " Gen   Length          Fitness   Length          Fitness      OOB Fitness  Time Left\n",
            "   0    30.34      1.64281e+07        7          1.46918              N/A     32.55m\n",
            "   1     8.92          3.73927        7          1.41538              N/A     15.61m\n",
            "   2     6.78          2.80803       13          1.39683              N/A     13.24m\n",
            "   3     8.24          2.98726       15          1.36618              N/A     14.42m\n",
            "   4     9.75          2.85805       13          1.34092              N/A     15.53m\n",
            "   5    11.38           2.5892       17          1.26394              N/A     15.75m\n",
            "   6    12.70          2.50623       31          1.30561              N/A     16.86m\n",
            "   7    13.31            2.427       19           1.2878              N/A     17.91m\n",
            "   8    14.15          2.52712       21          1.26328              N/A     17.33m\n",
            "   9    16.58          2.32856       29          1.14852              N/A     19.00m\n",
            "  10    20.81          2.18876       31          1.14466              N/A     20.70m\n",
            "  11    25.55          2.21341       29          1.08094              N/A     21.98m\n",
            "  12    33.24          2.30008       47          1.03981              N/A     25.66m\n",
            "  13    37.28          2.37355       67          1.01124              N/A     18.57m\n",
            "  14    41.31          2.37312       51          1.00083              N/A     19.54m\n",
            "  15    45.99          2.19366       51           0.9936              N/A     20.24m\n",
            "  16    47.58          2.14008       61         0.981069              N/A     20.36m\n",
            "  17    40.81          2.33292       99         0.968571              N/A     16.63m\n",
            "  18    39.59          2.48909       83         0.953848              N/A     15.92m\n",
            "  19    43.59          4.62759       83         0.948206              N/A     16.12m\n",
            "  20    49.84          2.43312      127         0.938214              N/A     17.07m\n",
            "  21    59.09          2.23792       95         0.926897              N/A     18.57m\n",
            "  22    65.70          2.95185      123         0.918634              N/A     19.58m\n",
            "  23    66.32          2.11074       89         0.917658              N/A     18.03m\n",
            "  24    61.93          2.27187      145         0.905561              N/A     15.95m\n",
            "  25    59.90          2.33188      103         0.902734              N/A     14.39m\n",
            "  26    60.73          2.37326       97         0.901371              N/A     13.68m\n",
            "  27    60.63          2.31515      111         0.896815              N/A     12.43m\n",
            "  28    58.23          2.20175      111         0.880558              N/A     11.04m\n",
            "  29    53.89          2.59632       97         0.878939              N/A      9.44m\n",
            "  30    52.83          2.52432      125         0.867905              N/A      8.33m\n",
            "  31    52.14          2.29875      123         0.869212              N/A      7.40m\n",
            "  32    52.37          2.38241       77         0.854714              N/A      6.44m\n",
            "  33    55.43          2.39633       75         0.865422              N/A      5.74m\n",
            "  34    61.90          2.32263       77         0.854714              N/A      5.26m\n",
            "  35    69.00          2.23646      109         0.832629              N/A      4.58m\n",
            "  36    76.62          2.29918      109         0.832629              N/A      3.78m\n",
            "  37    81.86          2.33738      109         0.824784              N/A      2.61m\n",
            "  38    84.25          2.33846      109         0.824784              N/A      1.34m\n",
            "  39    84.77          2.27449      109         0.824784              N/A      0.00s\n"
          ]
        },
        {
          "output_type": "execute_result",
          "data": {
            "text/plain": [
              "SymbolicRegressor(feature_names=Index(['X1', 'X2', 'X3', 'X4'], dtype='object'),\n",
              "                  generations=40, p_crossover=0.95, population_size=5000,\n",
              "                  stopping_criteria=0.01, verbose=1)"
            ]
          },
          "metadata": {},
          "execution_count": 12
        }
      ]
    },
    {
      "cell_type": "code",
      "source": [
        "t0 = time.time()\n",
        "y_gp1 = est_gp.predict(X_test)\n",
        "print('Time to predict:', time.time() - t0, 'seconds')"
      ],
      "metadata": {
        "colab": {
          "base_uri": "https://localhost:8080/"
        },
        "id": "FrdSvpTxcfQK",
        "outputId": "18f27da5-f75d-495a-de26-6636b2727ddf"
      },
      "execution_count": 13,
      "outputs": [
        {
          "output_type": "stream",
          "name": "stdout",
          "text": [
            "Time to predict: 0.014410972595214844 seconds\n"
          ]
        }
      ]
    },
    {
      "cell_type": "code",
      "source": [
        "score_gp1 = est_gp.score(X_test, y_test)\n",
        "print('R2:', score_gp1)"
      ],
      "metadata": {
        "colab": {
          "base_uri": "https://localhost:8080/"
        },
        "id": "e_l_M7Sbcg6_",
        "outputId": "103d473e-bda0-40e4-9a6f-8cb692635482"
      },
      "execution_count": 14,
      "outputs": [
        {
          "output_type": "stream",
          "name": "stdout",
          "text": [
            "R2: 0.6845885607897022\n"
          ]
        }
      ]
    },
    {
      "cell_type": "code",
      "source": [
        "converter = {\n",
        "    'add': lambda x, y : x + y,\n",
        "    'sub': lambda x, y : x - y,\n",
        "    'mul': lambda x, y : x*y,\n",
        "    'div': lambda x, y : x/y,\n",
        "    'sqrt': lambda x : x**0.5,\n",
        "    'log': lambda x : log(x),\n",
        "    'abs': lambda x : abs(x),\n",
        "    'neg': lambda x : -x,\n",
        "    'inv': lambda x : 1/x,\n",
        "    'max': lambda x, y : max(x, y),\n",
        "    'min': lambda x, y : min(x, y),\n",
        "    'sin': lambda x : sin(x),\n",
        "    'cos': lambda x : cos(x),\n",
        "    'pow': lambda x, y : x**y,\n",
        "}"
      ],
      "metadata": {
        "id": "HItROjYTckUZ"
      },
      "execution_count": 15,
      "outputs": []
    },
    {
      "cell_type": "code",
      "source": [
        "!pip install sympy==1.4"
      ],
      "metadata": {
        "colab": {
          "base_uri": "https://localhost:8080/"
        },
        "id": "fQJQD8mKwmo8",
        "outputId": "68450fe4-983b-49e2-ee75-b35aa89811ff"
      },
      "execution_count": null,
      "outputs": [
        {
          "output_type": "stream",
          "name": "stdout",
          "text": [
            "Looking in indexes: https://pypi.org/simple, https://us-python.pkg.dev/colab-wheels/public/simple/\n",
            "Requirement already satisfied: sympy==1.4 in /usr/local/lib/python3.7/dist-packages (1.4)\n",
            "Requirement already satisfied: mpmath>=0.19 in /usr/local/lib/python3.7/dist-packages (from sympy==1.4) (1.2.1)\n"
          ]
        }
      ]
    },
    {
      "cell_type": "code",
      "source": [
        "next_e = sympify(str(est_gp._program), locals=converter)\n",
        "next_e"
      ],
      "metadata": {
        "id": "ogUvYg6fcmS1",
        "colab": {
          "base_uri": "https://localhost:8080/",
          "height": 148
        },
        "outputId": "aa4c5495-1034-4b14-8086-bbfa66a0ab44"
      },
      "execution_count": 16,
      "outputs": [
        {
          "output_type": "execute_result",
          "data": {
            "text/plain": [
              "0.515*X1 + 0.53045*X2 + 1.515*X3/X4 - 2.191705625 + 0.515*(X3/X4 - 0.998)*(X3 - X4**2 + (-0.7098*X1 - 0.3549*X2 - 1.0647*X3/X4 + 1.0625706 - 0.3549*(X3 - X4**2)*(X3/X4 - 0.998)/X3 - 0.456976*X4*(X2 - X4**2)/X3**2)/X3)/X3 - 0.34814*(X2 - X4**2)/X3**2"
            ],
            "text/latex": "$\\displaystyle 0.515 X_{1} + 0.53045 X_{2} + \\frac{1.515 X_{3}}{X_{4}} - 2.191705625 + \\frac{0.515 \\left(\\frac{X_{3}}{X_{4}} - 0.998\\right) \\left(X_{3} - X_{4}^{2} + \\frac{- 0.7098 X_{1} - 0.3549 X_{2} - \\frac{1.0647 X_{3}}{X_{4}} + 1.0625706 - \\frac{0.3549 \\left(X_{3} - X_{4}^{2}\\right) \\left(\\frac{X_{3}}{X_{4}} - 0.998\\right)}{X_{3}} - \\frac{0.456976 X_{4} \\left(X_{2} - X_{4}^{2}\\right)}{X_{3}^{2}}}{X_{3}}\\right)}{X_{3}} - \\frac{0.34814 \\left(X_{2} - X_{4}^{2}\\right)}{X_{3}^{2}}$"
          },
          "metadata": {},
          "execution_count": 16
        }
      ]
    },
    {
      "cell_type": "code",
      "source": [
        "str(est_gp._program)"
      ],
      "metadata": {
        "colab": {
          "base_uri": "https://localhost:8080/",
          "height": 36
        },
        "id": "QSN47hPizcCn",
        "outputId": "80510dd7-c178-45e4-ad3e-9dfc2ac8c9c7"
      },
      "execution_count": null,
      "outputs": [
        {
          "output_type": "execute_result",
          "data": {
            "text/plain": [
              "'add(div(add(X1, div(div(-0.676, -0.258), div(X3, X1))), div(div(X3, X2), div(X2, mul(X3, div(-0.676, -0.258))))), X1)'"
            ],
            "application/vnd.google.colaboratory.intrinsic+json": {
              "type": "string"
            }
          },
          "metadata": {},
          "execution_count": 19
        }
      ]
    },
    {
      "cell_type": "code",
      "source": [
        "from sklearn.ensemble import RandomForestRegressor\n",
        "from sklearn.tree import DecisionTreeRegressor\n",
        "\n",
        "est_tree = DecisionTreeRegressor()\n",
        "est_tree.fit(X_train, y_train)\n",
        "est_rf = RandomForestRegressor(n_estimators=10)\n",
        "est_rf.fit(X_train, y_train)"
      ],
      "metadata": {
        "colab": {
          "base_uri": "https://localhost:8080/"
        },
        "id": "2pJb2HzgdSB2",
        "outputId": "fe74e2a3-12a1-45b3-912f-9fadc0c5947d"
      },
      "execution_count": 17,
      "outputs": [
        {
          "output_type": "execute_result",
          "data": {
            "text/plain": [
              "RandomForestRegressor(n_estimators=10)"
            ]
          },
          "metadata": {},
          "execution_count": 17
        }
      ]
    },
    {
      "cell_type": "code",
      "source": [
        "score_rf = est_rf.score(X_test, y_test)\n",
        "score_rf"
      ],
      "metadata": {
        "colab": {
          "base_uri": "https://localhost:8080/"
        },
        "id": "y8ADtVbTdhdQ",
        "outputId": "183ec863-d4a0-4968-9ef4-9951267cf317"
      },
      "execution_count": 18,
      "outputs": [
        {
          "output_type": "execute_result",
          "data": {
            "text/plain": [
              "0.9942151276560968"
            ]
          },
          "metadata": {},
          "execution_count": 18
        }
      ]
    },
    {
      "cell_type": "code",
      "source": [
        "score_dt = est_tree.score(X_test, y_test)\n",
        "score_dt"
      ],
      "metadata": {
        "id": "UhaDUDiL0zaX",
        "colab": {
          "base_uri": "https://localhost:8080/"
        },
        "outputId": "8bdbd788-7474-43d6-8bf3-e53661664e92"
      },
      "execution_count": 19,
      "outputs": [
        {
          "output_type": "execute_result",
          "data": {
            "text/plain": [
              "0.9785313767114836"
            ]
          },
          "metadata": {},
          "execution_count": 19
        }
      ]
    },
    {
      "cell_type": "code",
      "source": [
        "import os\n",
        "import random\n",
        "\n",
        "os.chdir(\"/content/AI-Feynman/example_data\")\n",
        "\n",
        "def getY(m1,m2,x2,x1,y2,y1,z2,z1):\n",
        "  y = 9.18*m1*m2/((x2-x1)**2+(y2-y1)**2+(z2-z1)**2)\n",
        "  return y\n",
        "\n",
        "def getRow():\n",
        "  [m1,m2,x2,x1,y2,y1,z2,z1]=[random.random() for x in range(8)]\n",
        "  \n",
        "  y=getY(m1,m2,x2,x1,y2,y1,z2,z1)\n",
        "  return str(m1)+\" \"+str(m2)+\" \"+str(x2)+\" \"+str(x1)+\" \"+str(y2)+\" \"+str(y1)+\" \"+str(z2)+\" \"+str(z1)+\"\\n\"\n",
        "\n",
        "with open(\"duplicateVarsExample.txt\", \"w\") as f:\n",
        "  for _ in range(1000):\n",
        "    f.write(getRow())\n",
        "f.close()\n",
        "\n",
        "# switch back to the code directory\n",
        "os.chdir(\"/content/AI-Feynman/Code\")\n"
      ],
      "metadata": {
        "id": "e0_7gDO50zc6"
      },
      "execution_count": null,
      "outputs": []
    }
  ]
}