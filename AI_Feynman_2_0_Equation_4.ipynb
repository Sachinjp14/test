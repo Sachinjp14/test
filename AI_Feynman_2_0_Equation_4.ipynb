{
  "cells": [
    {
      "cell_type": "markdown",
      "metadata": {
        "id": "ir7_gq53qkUC"
      },
      "source": [
        "# AI Feynman 2.0: Learning Regression Equations From Data"
      ]
    },
    {
      "cell_type": "markdown",
      "metadata": {
        "id": "e2Lh5Lakqo_l"
      },
      "source": [
        "### Clone repository and install dependencies"
      ]
    },
    {
      "cell_type": "code",
      "execution_count": 1,
      "metadata": {
        "colab": {
          "base_uri": "https://localhost:8080/"
        },
        "id": "EBVOTDjUWEzw",
        "outputId": "29a3ca60-2b9b-436b-b964-991cc1cdeda7"
      },
      "outputs": [
        {
          "output_type": "stream",
          "name": "stdout",
          "text": [
            "Cloning into 'AI-Feynman'...\n",
            "remote: Enumerating objects: 525, done.\u001b[K\n",
            "remote: Counting objects: 100% (32/32), done.\u001b[K\n",
            "remote: Compressing objects: 100% (23/23), done.\u001b[K\n",
            "remote: Total 525 (delta 11), reused 25 (delta 9), pack-reused 493\u001b[K\n",
            "Receiving objects: 100% (525/525), 31.36 MiB | 14.55 MiB/s, done.\n",
            "Resolving deltas: 100% (318/318), done.\n",
            "HEAD is now at 28edde1 Add files via upload\n"
          ]
        }
      ],
      "source": [
        "!git clone https://github.com/SJ001/AI-Feynman.git\n",
        "!cd /content/AI-Feynman && git reset --hard 28edde1a36a166a081de84999ab4fd40071957db"
      ]
    },
    {
      "cell_type": "markdown",
      "metadata": {
        "id": "0_s1t2sIqwnK"
      },
      "source": [
        "Look at what we downloaded"
      ]
    },
    {
      "cell_type": "code",
      "execution_count": 2,
      "metadata": {
        "colab": {
          "base_uri": "https://localhost:8080/"
        },
        "id": "4waRdiP0WGWc",
        "outputId": "efbea18e-a4e7-40b8-c839-f2d2d5613852"
      },
      "outputs": [
        {
          "output_type": "stream",
          "name": "stdout",
          "text": [
            "Code  example_data  LICENSE  README.md\trequirements.txt\n"
          ]
        }
      ],
      "source": [
        "!ls /content/AI-Feynman\n",
        "# %pycat AI-Feynman/requirements.txt if you need to fix the dependencies"
      ]
    },
    {
      "cell_type": "markdown",
      "metadata": {
        "id": "zNyUWmlYq-Rk"
      },
      "source": [
        "Fix broken requirements file (may not be needed if later versions fix this)."
      ]
    },
    {
      "cell_type": "code",
      "execution_count": 3,
      "metadata": {
        "colab": {
          "base_uri": "https://localhost:8080/"
        },
        "id": "6JmUiyv3W95L",
        "outputId": "73f37fd9-18fc-4b24-c880-59e78fc0a30f"
      },
      "outputs": [
        {
          "output_type": "stream",
          "name": "stdout",
          "text": [
            "Overwriting AI-Feynman/requirements.txt\n"
          ]
        }
      ],
      "source": [
        "%%writefile AI-Feynman/requirements.txt\n",
        "torch>=1.4.0\n",
        "matplotlib\n",
        "sympy==1.4\n",
        "pandas\n",
        "scipy\n",
        "sortedcontainers"
      ]
    },
    {
      "cell_type": "markdown",
      "metadata": {
        "id": "Kbqe9q-SrE4q"
      },
      "source": [
        "Install dependencies not already installed in Google Collab"
      ]
    },
    {
      "cell_type": "code",
      "execution_count": 4,
      "metadata": {
        "colab": {
          "base_uri": "https://localhost:8080/"
        },
        "id": "Um22QVI3WlJT",
        "outputId": "f1da88dd-ca81-402b-de25-b42d84721640"
      },
      "outputs": [
        {
          "output_type": "stream",
          "name": "stdout",
          "text": [
            "Looking in indexes: https://pypi.org/simple, https://us-python.pkg.dev/colab-wheels/public/simple/\n",
            "Requirement already satisfied: torch>=1.4.0 in /usr/local/lib/python3.7/dist-packages (from -r AI-Feynman/requirements.txt (line 1)) (1.11.0+cu113)\n",
            "Requirement already satisfied: matplotlib in /usr/local/lib/python3.7/dist-packages (from -r AI-Feynman/requirements.txt (line 2)) (3.2.2)\n",
            "Collecting sympy==1.4\n",
            "  Downloading sympy-1.4-py2.py3-none-any.whl (5.3 MB)\n",
            "\u001b[K     |████████████████████████████████| 5.3 MB 8.6 MB/s \n",
            "\u001b[?25hRequirement already satisfied: pandas in /usr/local/lib/python3.7/dist-packages (from -r AI-Feynman/requirements.txt (line 4)) (1.3.5)\n",
            "Requirement already satisfied: scipy in /usr/local/lib/python3.7/dist-packages (from -r AI-Feynman/requirements.txt (line 5)) (1.4.1)\n",
            "Requirement already satisfied: sortedcontainers in /usr/local/lib/python3.7/dist-packages (from -r AI-Feynman/requirements.txt (line 6)) (2.4.0)\n",
            "Requirement already satisfied: mpmath>=0.19 in /usr/local/lib/python3.7/dist-packages (from sympy==1.4->-r AI-Feynman/requirements.txt (line 3)) (1.2.1)\n",
            "Requirement already satisfied: typing-extensions in /usr/local/lib/python3.7/dist-packages (from torch>=1.4.0->-r AI-Feynman/requirements.txt (line 1)) (4.2.0)\n",
            "Requirement already satisfied: pyparsing!=2.0.4,!=2.1.2,!=2.1.6,>=2.0.1 in /usr/local/lib/python3.7/dist-packages (from matplotlib->-r AI-Feynman/requirements.txt (line 2)) (3.0.9)\n",
            "Requirement already satisfied: numpy>=1.11 in /usr/local/lib/python3.7/dist-packages (from matplotlib->-r AI-Feynman/requirements.txt (line 2)) (1.21.6)\n",
            "Requirement already satisfied: kiwisolver>=1.0.1 in /usr/local/lib/python3.7/dist-packages (from matplotlib->-r AI-Feynman/requirements.txt (line 2)) (1.4.2)\n",
            "Requirement already satisfied: python-dateutil>=2.1 in /usr/local/lib/python3.7/dist-packages (from matplotlib->-r AI-Feynman/requirements.txt (line 2)) (2.8.2)\n",
            "Requirement already satisfied: cycler>=0.10 in /usr/local/lib/python3.7/dist-packages (from matplotlib->-r AI-Feynman/requirements.txt (line 2)) (0.11.0)\n",
            "Requirement already satisfied: six>=1.5 in /usr/local/lib/python3.7/dist-packages (from python-dateutil>=2.1->matplotlib->-r AI-Feynman/requirements.txt (line 2)) (1.15.0)\n",
            "Requirement already satisfied: pytz>=2017.3 in /usr/local/lib/python3.7/dist-packages (from pandas->-r AI-Feynman/requirements.txt (line 4)) (2022.1)\n",
            "Installing collected packages: sympy\n",
            "  Attempting uninstall: sympy\n",
            "    Found existing installation: sympy 1.7.1\n",
            "    Uninstalling sympy-1.7.1:\n",
            "      Successfully uninstalled sympy-1.7.1\n",
            "Successfully installed sympy-1.4\n"
          ]
        }
      ],
      "source": [
        "!pip install -r AI-Feynman/requirements.txt"
      ]
    },
    {
      "cell_type": "markdown",
      "metadata": {
        "id": "fR33HG3TrLRL"
      },
      "source": [
        "Check that fortran is installed"
      ]
    },
    {
      "cell_type": "code",
      "execution_count": 5,
      "metadata": {
        "colab": {
          "base_uri": "https://localhost:8080/"
        },
        "id": "WwBFL0AwXcUZ",
        "outputId": "f05da2b7-6015-4391-a618-828650af8683"
      },
      "outputs": [
        {
          "output_type": "stream",
          "name": "stdout",
          "text": [
            "GNU Fortran (Ubuntu 7.5.0-3ubuntu1~18.04) 7.5.0\n",
            "Copyright (C) 2017 Free Software Foundation, Inc.\n",
            "This is free software; see the source for copying conditions.  There is NO\n",
            "warranty; not even for MERCHANTABILITY or FITNESS FOR A PARTICULAR PURPOSE.\n",
            "\n"
          ]
        }
      ],
      "source": [
        "!gfortran --version"
      ]
    },
    {
      "cell_type": "markdown",
      "metadata": {
        "id": "FtKFAwpNsHX7"
      },
      "source": [
        "Check the OS version"
      ]
    },
    {
      "cell_type": "code",
      "execution_count": 6,
      "metadata": {
        "colab": {
          "base_uri": "https://localhost:8080/"
        },
        "id": "Hy62bRwAcp5g",
        "outputId": "310add98-1ea4-4126-9d17-0c7dccbe196d"
      },
      "outputs": [
        {
          "output_type": "stream",
          "name": "stdout",
          "text": [
            "No LSB modules are available.\n",
            "Distributor ID:\tUbuntu\n",
            "Description:\tUbuntu 18.04.5 LTS\n",
            "Release:\t18.04\n",
            "Codename:\tbionic\n"
          ]
        }
      ],
      "source": [
        "!lsb_release -a"
      ]
    },
    {
      "cell_type": "markdown",
      "metadata": {
        "id": "NTOdJQLOrv20"
      },
      "source": [
        "Install the csh shell"
      ]
    },
    {
      "cell_type": "code",
      "execution_count": 7,
      "metadata": {
        "colab": {
          "base_uri": "https://localhost:8080/"
        },
        "id": "F5TroOkDc9jK",
        "outputId": "bfbd573b-62a4-42f0-99f9-d7be007792ae"
      },
      "outputs": [
        {
          "output_type": "stream",
          "name": "stdout",
          "text": [
            "Reading package lists... Done\n",
            "Building dependency tree       \n",
            "Reading state information... Done\n",
            "The following package was automatically installed and is no longer required:\n",
            "  libnvidia-common-460\n",
            "Use 'sudo apt autoremove' to remove it.\n",
            "The following NEW packages will be installed:\n",
            "  csh\n",
            "0 upgraded, 1 newly installed, 0 to remove and 45 not upgraded.\n",
            "Need to get 243 kB of archives.\n",
            "After this operation, 358 kB of additional disk space will be used.\n",
            "Get:1 http://archive.ubuntu.com/ubuntu bionic-updates/universe amd64 csh amd64 20110502-3ubuntu0.18.04.1 [243 kB]\n",
            "Fetched 243 kB in 1s (444 kB/s)\n",
            "debconf: unable to initialize frontend: Dialog\n",
            "debconf: (No usable dialog-like program is installed, so the dialog based frontend cannot be used. at /usr/share/perl5/Debconf/FrontEnd/Dialog.pm line 76, <> line 1.)\n",
            "debconf: falling back to frontend: Readline\n",
            "debconf: unable to initialize frontend: Readline\n",
            "debconf: (This frontend requires a controlling tty.)\n",
            "debconf: falling back to frontend: Teletype\n",
            "dpkg-preconfigure: unable to re-open stdin: \n",
            "Selecting previously unselected package csh.\n",
            "(Reading database ... 155632 files and directories currently installed.)\n",
            "Preparing to unpack .../csh_20110502-3ubuntu0.18.04.1_amd64.deb ...\n",
            "Unpacking csh (20110502-3ubuntu0.18.04.1) ...\n",
            "Setting up csh (20110502-3ubuntu0.18.04.1) ...\n",
            "update-alternatives: using /bin/bsd-csh to provide /bin/csh (csh) in auto mode\n",
            "Processing triggers for man-db (2.8.3-2ubuntu0.1) ...\n"
          ]
        }
      ],
      "source": [
        "!sudo apt-get install csh"
      ]
    },
    {
      "cell_type": "markdown",
      "metadata": {
        "id": "8KcupiFsr4gr"
      },
      "source": [
        "Set loose permissions to avoid some reported file permissions issues"
      ]
    },
    {
      "cell_type": "code",
      "execution_count": 8,
      "metadata": {
        "id": "QJBFXqQVX5AN"
      },
      "outputs": [],
      "source": [
        "!chmod +777 /content/AI-Feynman/Code/*"
      ]
    },
    {
      "cell_type": "markdown",
      "metadata": {
        "id": "pgzVt-kUrbmj"
      },
      "source": [
        "### Compile the fortran code"
      ]
    },
    {
      "cell_type": "markdown",
      "metadata": {
        "id": "4MotXJzusela"
      },
      "source": [
        "Look at the code directory"
      ]
    },
    {
      "cell_type": "code",
      "execution_count": 9,
      "metadata": {
        "colab": {
          "base_uri": "https://localhost:8080/"
        },
        "id": "xxzHegrIYa8e",
        "outputId": "4049cc19-92dc-48eb-ae1c-cc9f4cd848c4"
      },
      "outputs": [
        {
          "output_type": "stream",
          "name": "stdout",
          "text": [
            "total 1244\n",
            "-rwxrwxrwx 1 root root     11 Jun  7 09:48 10ops.txt\n",
            "-rwxrwxrwx 1 root root     15 Jun  7 09:48 14ops.txt\n",
            "-rwxrwxrwx 1 root root     19 Jun  7 09:48 19ops.txt\n",
            "-rwxrwxrwx 1 root root      8 Jun  7 09:48 7ops.txt\n",
            "-rwxrwxrwx 1 root root    138 Jun  7 09:48 ai_feynman_example.py\n",
            "-rwxrwxrwx 1 root root   1287 Jun  7 09:48 ai_feynman_terminal_example.py\n",
            "-rwxrwxrwx 1 root root 960508 Jun  7 09:48 arity2templates.txt\n",
            "-rwxrwxrwx 1 root root    653 Jun  7 09:48 brute_force_oneFile_mdl_v2.scr\n",
            "-rwxrwxrwx 1 root root    654 Jun  7 09:48 brute_force_oneFile_mdl_v3.scr\n",
            "-rwxrwxrwx 1 root root    541 Jun  7 09:48 brute_force_oneFile_v1.scr\n",
            "-rwxrwxrwx 1 root root    608 Jun  7 09:48 brute_force_oneFile_v2.scr\n",
            "-rwxrwxrwx 1 root root    609 Jun  7 09:48 brute_force_oneFile_v3.scr\n",
            "-rwxrwxrwx 1 root root    616 Jun  7 09:48 compile.sh\n",
            "-rwxrwxrwx 1 root root   4444 Jun  7 09:48 dimensionalAnalysis.py\n",
            "-rwxrwxrwx 1 root root   6168 Jun  7 09:48 get_pareto.py\n",
            "-rwxrwxrwx 1 root root   1745 Jun  7 09:48 getPowers.py\n",
            "-rwxrwxrwx 1 root root   2395 Jun  7 09:48 RPN_to_eq.py\n",
            "-rwxrwxrwx 1 root root   5232 Jun  7 09:48 RPN_to_pytorch.py\n",
            "-rwxrwxrwx 1 root root   5457 Jun  7 09:48 S_add_bf_on_numbers_on_pareto.py\n",
            "-rwxrwxrwx 1 root root   7962 Jun  7 09:48 S_add_snap_expr_on_pareto_polyfit.py\n",
            "-rwxrwxrwx 1 root root   9774 Jun  7 09:48 S_add_snap_expr_on_pareto.py\n",
            "-rwxrwxrwx 1 root root    902 Jun  7 09:48 S_add_sym_on_pareto.py\n",
            "-rwxrwxrwx 1 root root    627 Jun  7 09:48 S_brute_force_number.py\n",
            "-rwxrwxrwx 1 root root   1151 Jun  7 09:48 S_brute_force.py\n",
            "-rwxrwxrwx 1 root root   5519 Jun  7 09:48 S_change_output.py\n",
            "-rwxrwxrwx 1 root root   1509 Jun  7 09:48 S_combine_pareto.py\n",
            "-rwxrwxrwx 1 root root   5668 Jun  7 09:48 S_final_gd.py\n",
            "-rwxrwxrwx 1 root root    478 Jun  7 09:48 S_get_number_DL.py\n",
            "-rwxrwxrwx 1 root root    726 Jun  7 09:48 S_get_number_DL_snapped.py\n",
            "-rwxrwxrwx 1 root root   1857 Jun  7 09:48 S_get_symbolic_expr_error.py\n",
            "-rwxrwxrwx 1 root root   3789 Jun  7 09:48 S_NN_eval.py\n",
            "-rwxrwxrwx 1 root root   5052 Jun  7 09:48 S_NN_train.py\n",
            "-rwxrwxrwx 1 root root   2665 Jun  7 09:48 S_polyfit.py\n",
            "-rwxrwxrwx 1 root root   1537 Jun  7 09:48 S_polyfit_utils.py\n",
            "-rwxrwxrwx 1 root root   1259 Jun  7 09:48 S_remove_input_neuron.py\n",
            "-rwxrwxrwx 1 root root  11505 Jun  7 09:48 S_run_aifeynman.py\n",
            "-rwxrwxrwx 1 root root  12007 Jun  7 09:48 S_run_bf_polyfit.py\n",
            "-rwxrwxrwx 1 root root  14519 Jun  7 09:48 S_separability.py\n",
            "-rwxrwxrwx 1 root root   2570 Jun  7 09:48 S_snap.py\n",
            "-rwxrwxrwx 1 root root  20319 Jun  7 09:48 S_symmetry.py\n",
            "-rwxrwxrwx 1 root root   5247 Jun  7 09:48 symbolic_regress1.f\n",
            "-rwxrwxrwx 1 root root   9151 Jun  7 09:48 symbolic_regress2.f\n",
            "-rwxrwxrwx 1 root root   9141 Jun  7 09:48 symbolic_regress3.f\n",
            "-rwxrwxrwx 1 root root   8162 Jun  7 09:48 symbolic_regress_mdl2.f\n",
            "-rwxrwxrwx 1 root root   9135 Jun  7 09:48 symbolic_regress_mdl3.f\n",
            "-rwxrwxrwx 1 root root   9590 Jun  7 09:48 tools.f\n"
          ]
        }
      ],
      "source": [
        "!ls -l /content/AI-Feynman/Code"
      ]
    },
    {
      "cell_type": "markdown",
      "metadata": {
        "id": "jsdWh0MbsZ9e"
      },
      "source": [
        "Compile .f files into .x files"
      ]
    },
    {
      "cell_type": "code",
      "execution_count": 10,
      "metadata": {
        "id": "cHJqLCM_dRzD"
      },
      "outputs": [],
      "source": [
        "!cd /content/AI-Feynman/Code/ && ./compile.sh"
      ]
    },
    {
      "cell_type": "markdown",
      "metadata": {
        "id": "4yfMwApUtwQT"
      },
      "source": [
        "### Run the first example from the AI-Feynman repository"
      ]
    },
    {
      "cell_type": "markdown",
      "metadata": {
        "id": "srBnePXLs2jT"
      },
      "source": [
        "Change working directory to the Code directory"
      ]
    },
    {
      "cell_type": "code",
      "execution_count": 11,
      "metadata": {
        "colab": {
          "base_uri": "https://localhost:8080/"
        },
        "id": "RsOEGP9-s0bq",
        "outputId": "ad62cd97-e621-48d4-afef-15b9e7058f8a"
      },
      "outputs": [
        {
          "output_type": "stream",
          "name": "stdout",
          "text": [
            "/content/AI-Feynman/Code\n"
          ]
        }
      ],
      "source": [
        "import os\n",
        "os.chdir(\"/content/AI-Feynman/Code/\")\n",
        "print(os.getcwd())"
      ]
    },
    {
      "cell_type": "code",
      "execution_count": 12,
      "metadata": {
        "colab": {
          "base_uri": "https://localhost:8080/"
        },
        "id": "Qg8AHI11tBqj",
        "outputId": "c597fbf2-77c3-4e0f-da02-ebebbfefe2b6"
      },
      "outputs": [
        {
          "output_type": "stream",
          "name": "stdout",
          "text": [
            "/content/AI-Feynman/Code\n"
          ]
        }
      ],
      "source": [
        "!pwd"
      ]
    },
    {
      "cell_type": "markdown",
      "metadata": {
        "id": "rjtWDJtoz9FM"
      },
      "source": [
        "Check that the bruteforce code runs without errors"
      ]
    },
    {
      "cell_type": "code",
      "execution_count": 13,
      "metadata": {
        "colab": {
          "base_uri": "https://localhost:8080/"
        },
        "id": "rLTaPvpun3QZ",
        "outputId": "a4180ea0-afd6-4b28-80e6-8a41ab24d7b3"
      },
      "outputs": [
        {
          "output_type": "execute_result",
          "data": {
            "text/plain": [
              "1"
            ]
          },
          "metadata": {},
          "execution_count": 13
        }
      ],
      "source": [
        "from S_brute_force import brute_force\n",
        "brute_force(\"/content/AI-Feynman/example_data/\",\"equation4.txt\",30,\"14ops.txt\")"
      ]
    },
    {
      "cell_type": "markdown",
      "metadata": {
        "id": "qCyuBoLNtjaM"
      },
      "source": [
        "Look at the first line of the example 1 file"
      ]
    },
    {
      "cell_type": "code",
      "execution_count": 14,
      "metadata": {
        "colab": {
          "base_uri": "https://localhost:8080/"
        },
        "id": "4l2H6hpT2abY",
        "outputId": "95a73ba5-778f-4637-f1e5-edc22e0fbb28"
      },
      "outputs": [
        {
          "output_type": "stream",
          "name": "stdout",
          "text": [
            "4.725218875\t1.735492125\t4.956654512\t1.984023577\t6.44261068\r\n"
          ]
        }
      ],
      "source": [
        "!head -n 1 /content/AI-Feynman/example_data/equation4.txt"
      ]
    },
    {
      "cell_type": "code",
      "execution_count": null,
      "metadata": {
        "colab": {
          "base_uri": "https://localhost:8080/"
        },
        "id": "cArs6MVap768",
        "outputId": "abf76a69-3e2f-429f-88c6-8935f1f729d6"
      },
      "outputs": [
        {
          "data": {
            "text/plain": [
              "3.4621995070941636"
            ]
          },
          "execution_count": 47,
          "metadata": {},
          "output_type": "execute_result"
        }
      ],
      "source": [
        "# Example 1 has data generated from an equation, where the last column is the regression target, and the rest of the columns are the input data\n",
        "# The following example shows the relationship between the first line of the file example1.txt and the formula used to make the data\n",
        "x=[1.6821347439986711,1.1786188905177983,4.749225735259924,1.3238356535004034,3.462199507094163]\n",
        "x0,x1,x2,x3=x[0],x[1],x[2],x[3]\n",
        "(x0**2 - 2*x0*x1 + x1**2 + x2**2 - 2*x2*x3 + x3**2)**0.5"
      ]
    },
    {
      "cell_type": "markdown",
      "metadata": {
        "id": "OmFXwbhMt_Ra"
      },
      "source": [
        "Run the code. It takes a long time, so go get some coffee."
      ]
    },
    {
      "cell_type": "code",
      "execution_count": 15,
      "metadata": {
        "colab": {
          "base_uri": "https://localhost:8080/"
        },
        "id": "I6GEtqkYYwfF",
        "outputId": "77afc420-2680-4d64-f9bf-201bb8842522"
      },
      "outputs": [
        {
          "output_type": "stream",
          "name": "stdout",
          "text": [
            "Checking for brute force + \n",
            "\n",
            "Checking for brute force * \n",
            "\n",
            "Checking polyfit \n",
            "\n",
            "Complexity  RMSE  Expression\n",
            "[45.87818267439574, 31.45099156544488, '0.000051736747*exp(sqrt(exp(x1)))']\n",
            "[47.364837379700745, 30.73171343069086, '0.067123257837*exp(x1)']\n",
            "[47.858652548298366, 30.120389906373806, x0 + 0.638013660907745]\n",
            "[48.37105017175968, 30.112879076869948, 3.64029872417450]\n",
            "[56.68919803762227, 30.048355590523133, x1 + log(x0) - 0.371791124343872]\n",
            "[58.579597678170934, 29.98524065699895, '-0.344592659630+(x1-cos((x3-x2)))']\n",
            "[68.15066022535952, 29.26224541220321, '-0.663063957902*(x1*((cos((x3-x2))-1)-1))']\n",
            "[154.87386421513767, 29.03767695475516, -0.703660547733307*x0*cos(x2 - 1.00423872470856*x3) + 1.26931965351105*x0]\n",
            "[158.82639594986074, 29.003654141162922, -0.72329169511795*x0*cos(x2 - 0.999126970767975*x3) + x0 + 1.08865141868591]\n",
            "[158.8519318645875, 28.99086369189027, -0.728763282299042*x1*cos(x2 - 1.00113439559937*x3) + x1 + 1.09756743907928]\n",
            "[1465.0578966546868, 28.805010734468862, '-0.00650378674967059*x0**3 + 0.0065065938291615*x0**2*x1 + 0.000707069422010446*x0**2*x2 - 0.000797438365519883*x0**2*x3 + 0.144315216278534*x0**2 + 0.0129988432195583*x0*x1**2 + 0.000742063464528014*x0*x1*x2 - 0.000596730496592015*x0*x1*x3 - 0.349731510700852*x0*x1 + 0.0587751882680969*x0*x2**2 - 0.189009860084835*x0*x2*x3 + 0.20552630091274*x0*x2 + 0.0588483738795996*x0*x3**2 + 0.223402231924712*x0*x3 - 0.146930784494358*x0 - 0.00649227265341569*x1**3 + 0.00647818385447641*x1**2*x2 + 0.000333408031242677*x1**2*x3 + 0.103710167361699*x1**2 + 0.0651556906512229*x1*x2**2 - 0.195289654530246*x1*x2*x3 + 0.151832410866425*x1*x2 + 0.0652664795564321*x1*x3**2 + 0.188371960744255*x1*x3 + 0.113371590939718*x1 + 6.12753932719284e-6*x2**3 - 0.000271418360694115*x2**2*x3 - 0.0399975601951682*x2**2 + 0.000678017877481308*x2*x3**2 + 0.211239569833526*x2*x3 - 0.328686608057265*x2 - 0.000214708969220753*x3**3 - 0.0410030574069313*x3**2 - 0.394465205258014*x3 + 0.872838082348519']\n",
            "Checking for brute force + \n",
            "\n",
            "Checking for brute force * \n",
            "\n",
            "Checking polyfit \n",
            "\n",
            "Complexity  RMSE  Expression\n",
            "[21.381542951184585, 32.40768768916493, 'tan(-666.000000000000+exp(exp(pi)))']\n",
            "[37.7672998572285, 30.233191806081102, 'tan(-3.139253335280+pi)']\n",
            "[46.78464226977325, 26.8463919308807, 1.21221780776978]\n",
            "[93.76161983570555, 26.84363354542913, tan(0.887731075286865*x3**(-0.00738819967955351))]\n",
            "[95.84481244516975, 26.840990060072013, tan(0.0362291189120284*x1 + 0.76712429523468)]\n",
            "[95.85394707732041, 26.835586688779376, tan(0.0365045019681862*x0 + 0.76617306470871)]\n",
            "[104.57036588531624, 26.82954319131521, tan((x0 + x1)**0.14972397685051 - 0.43113961815834)]\n",
            "[164.55808384518255, 26.72485358611177, -tan(0.87442946434021*(x0 + x1)**(-1.17750895023346) - 0.996507048606873)]\n",
            "[201.8022124125359, 26.351073198356012, -0.899814426898956*tan(0.0788157656788826*cos(x2 - 1.0162992477417*x3) - 0.944159119548303)]\n",
            "[201.9157573397745, 26.350068101190967, -0.995676517486572*tan(0.0812830775976181*cos(x2 - 1.01554071903229*x3) - 0.895772099494934)]\n",
            "Checking for brute force + \n",
            "\n",
            "Checking for brute force * \n",
            "\n",
            "Checking polyfit \n",
            "\n",
            "Complexity  RMSE  Expression\n",
            "[16.136430453348055, 1000000, 'acos(-666.000000000000+exp(exp(pi)))']\n",
            "[21.381542951184585, 32.40768768916493, 'tan(-666.000000000000+exp(exp(pi)))']\n",
            "[37.7672998572285, 30.233191806081102, 'tan(-3.139253335280+pi)']\n",
            "[46.78464226977325, 26.8463919308807, 1.21221780776978]\n",
            "[93.76161983570555, 26.84363354542913, tan(0.887731075286865*x3**(-0.00738819967955351))]\n",
            "[95.84481244516975, 26.840990060072013, tan(0.0362291189120284*x1 + 0.76712429523468)]\n",
            "[95.85394707732041, 26.835586688779376, tan(0.0365045019681862*x0 + 0.76617306470871)]\n",
            "[104.57036588531624, 26.82954319131521, tan((x0 + x1)**0.14972397685051 - 0.43113961815834)]\n",
            "[164.55808384518255, 26.72485358611177, -tan(0.87442946434021*(x0 + x1)**(-1.17750895023346) - 0.996507048606873)]\n",
            "[201.8022124125359, 26.351073198356012, -0.899814426898956*tan(0.0788157656788826*cos(x2 - 1.0162992477417*x3) - 0.944159119548303)]\n",
            "[201.9157573397745, 26.350068101190967, -0.995676517486572*tan(0.0812830775976181*cos(x2 - 1.01554071903229*x3) - 0.895772099494934)]\n",
            "Checking for brute force + \n",
            "\n",
            "Checking for brute force * \n",
            "\n",
            "Checking polyfit \n",
            "\n",
            "Complexity  RMSE  Expression\n",
            "[13.381542951184585, 34.71710716819896, 'log(666.000000000000*pi)']\n",
            "[21.381542951184585, 32.40768768916493, 'tan(-666.000000000000+exp(exp(pi)))']\n",
            "[37.7672998572285, 30.233191806081102, 'tan(-3.139253335280+pi)']\n",
            "[46.78464226977325, 26.8463919308807, 1.21221780776978]\n",
            "[93.76161983570555, 26.84363354542913, tan(0.887731075286865*x3**(-0.00738819967955351))]\n",
            "[95.84481244516975, 26.840990060072013, tan(0.0362291189120284*x1 + 0.76712429523468)]\n",
            "[95.85394707732041, 26.835586688779376, tan(0.0365045019681862*x0 + 0.76617306470871)]\n",
            "[104.57036588531624, 26.82954319131521, tan((x0 + x1)**0.14972397685051 - 0.43113961815834)]\n",
            "[164.55808384518255, 26.72485358611177, -tan(0.87442946434021*(x0 + x1)**(-1.17750895023346) - 0.996507048606873)]\n",
            "[201.8022124125359, 26.351073198356012, -0.899814426898956*tan(0.0788157656788826*cos(x2 - 1.0162992477417*x3) - 0.944159119548303)]\n",
            "[201.9157573397745, 26.350068101190967, -0.995676517486572*tan(0.0812830775976181*cos(x2 - 1.01554071903229*x3) - 0.895772099494934)]\n",
            "Checking for brute force + \n",
            "\n",
            "Checking for brute force * \n",
            "\n",
            "Checking polyfit \n",
            "\n",
            "Complexity  RMSE  Expression\n",
            "[13.381542951184585, 34.71710716819896, 'log(666.000000000000*pi)']\n",
            "[21.381542951184585, 32.40768768916493, 'tan(-666.000000000000+exp(exp(pi)))']\n",
            "[37.7672998572285, 30.233191806081102, 'tan(-3.139253335280+pi)']\n",
            "[37.76735377126184, 28.380861862587476, '1/(-427.458205273979*(x1-(x1+1)))']\n",
            "[42.418849940880804, 28.3808618622418, '1/(136.064168882757*pi)']\n",
            "[45.251633893196825, 27.307484291870583, 0.418889191645090]\n",
            "[46.78464226977325, 26.8463919308807, 1.21221780776978]\n",
            "[93.76161983570555, 26.84363354542913, tan(0.887731075286865*x3**(-0.00738819967955351))]\n",
            "[95.84481244516975, 26.840990060072013, tan(0.0362291189120284*x1 + 0.76712429523468)]\n",
            "[95.85394707732041, 26.835586688779376, tan(0.0365045019681862*x0 + 0.76617306470871)]\n",
            "[104.57036588531624, 26.82954319131521, tan((x0 + x1)**0.14972397685051 - 0.43113961815834)]\n",
            "[164.55808384518255, 26.72485358611177, -tan(0.87442946434021*(x0 + x1)**(-1.17750895023346) - 0.996507048606873)]\n",
            "[201.8022124125359, 26.351073198356012, -0.899814426898956*tan(0.0788157656788826*cos(x2 - 1.0162992477417*x3) - 0.944159119548303)]\n",
            "[201.9157573397745, 26.350068101190967, -0.995676517486572*tan(0.0812830775976181*cos(x2 - 1.01554071903229*x3) - 0.895772099494934)]\n",
            "Checking for brute force + \n",
            "\n",
            "Checking for brute force * \n",
            "\n",
            "Checking polyfit \n",
            "\n",
            "Complexity  RMSE  Expression\n",
            "[13.381542951184585, 34.71710716819896, 'log(666.000000000000*pi)']\n",
            "[21.381542951184585, 32.40768768916493, 'tan(-666.000000000000+exp(exp(pi)))']\n",
            "[37.7672998572285, 30.233191806081102, 'tan(-3.139253335280+pi)']\n",
            "[37.76735377126184, 28.380861862587476, '1/(-427.458205273979*(x1-(x1+1)))']\n",
            "[42.418849940880804, 28.3808618622418, '1/(136.064168882757*pi)']\n",
            "[45.251633893196825, 27.307484291870583, 0.418889191645090]\n",
            "[46.78464226977325, 26.8463919308807, 1.21221780776978]\n",
            "[93.76161983570555, 26.84363354542913, tan(0.887731075286865*x3**(-0.00738819967955351))]\n",
            "[95.84481244516975, 26.840990060072013, tan(0.0362291189120284*x1 + 0.76712429523468)]\n",
            "[95.85394707732041, 26.835586688779376, tan(0.0365045019681862*x0 + 0.76617306470871)]\n",
            "[104.57036588531624, 26.82954319131521, tan((x0 + x1)**0.14972397685051 - 0.43113961815834)]\n",
            "[164.55808384518255, 26.72485358611177, -tan(0.87442946434021*(x0 + x1)**(-1.17750895023346) - 0.996507048606873)]\n",
            "[201.8022124125359, 26.351073198356012, -0.899814426898956*tan(0.0788157656788826*cos(x2 - 1.0162992477417*x3) - 0.944159119548303)]\n",
            "[201.9157573397745, 26.350068101190967, -0.995676517486572*tan(0.0812830775976181*cos(x2 - 1.01554071903229*x3) - 0.895772099494934)]\n",
            "Checking for brute force + \n",
            "\n",
            "Checking for brute force * \n",
            "\n",
            "Checking polyfit \n",
            "\n",
            "Complexity  RMSE  Expression\n",
            "[13.381542951184585, 34.71710716819896, 'log(666.000000000000*pi)']\n",
            "[21.381542951184585, 32.40768768916493, 'tan(-666.000000000000+exp(exp(pi)))']\n",
            "[37.7672998572285, 30.233191806081102, 'tan(-3.139253335280+pi)']\n",
            "[37.76735377126184, 28.380861862587476, '1/(-427.458205273979*(x1-(x1+1)))']\n",
            "[42.418849940880804, 28.3808618622418, '1/(136.064168882757*pi)']\n",
            "[45.251633893196825, 27.307484291870583, 0.418889191645090]\n",
            "[46.78464226977325, 26.8463919308807, 1.21221780776978]\n",
            "[93.76161983570555, 26.84363354542913, tan(0.887731075286865*x3**(-0.00738819967955351))]\n",
            "[95.84481244516975, 26.840990060072013, tan(0.0362291189120284*x1 + 0.76712429523468)]\n",
            "[95.85394707732041, 26.835586688779376, tan(0.0365045019681862*x0 + 0.76617306470871)]\n",
            "[104.57036588531624, 26.82954319131521, tan((x0 + x1)**0.14972397685051 - 0.43113961815834)]\n",
            "[164.55808384518255, 26.72485358611177, -tan(0.87442946434021*(x0 + x1)**(-1.17750895023346) - 0.996507048606873)]\n",
            "[201.8022124125359, 26.351073198356012, -0.899814426898956*tan(0.0788157656788826*cos(x2 - 1.0162992477417*x3) - 0.944159119548303)]\n",
            "[201.9157573397745, 26.350068101190967, -0.995676517486572*tan(0.0812830775976181*cos(x2 - 1.01554071903229*x3) - 0.895772099494934)]\n",
            "Checking for brute force + \n",
            "\n",
            "Checking for brute force * \n",
            "\n",
            "Checking polyfit \n",
            "\n",
            "Complexity  RMSE  Expression\n",
            "[13.381542951184585, 34.71710716819896, 'log(666.000000000000*pi)']\n",
            "[21.381542951184585, 32.40768768916493, 'tan(-666.000000000000+exp(exp(pi)))']\n",
            "[37.7672998572285, 30.233191806081102, 'tan(-3.139253335280+pi)']\n",
            "[37.76735377126184, 28.380861862587476, '1/(-427.458205273979*(x1-(x1+1)))']\n",
            "[42.418849940880804, 28.3808618622418, '1/(136.064168882757*pi)']\n",
            "[45.251633893196825, 27.307484291870583, 0.418889191645090]\n",
            "[46.78464226977325, 26.8463919308807, 1.21221780776978]\n",
            "[93.76161983570555, 26.84363354542913, tan(0.887731075286865*x3**(-0.00738819967955351))]\n",
            "[95.84481244516975, 26.840990060072013, tan(0.0362291189120284*x1 + 0.76712429523468)]\n",
            "[95.85394707732041, 26.835586688779376, tan(0.0365045019681862*x0 + 0.76617306470871)]\n",
            "[104.57036588531624, 26.82954319131521, tan((x0 + x1)**0.14972397685051 - 0.43113961815834)]\n",
            "[164.55808384518255, 26.72485358611177, -tan(0.87442946434021*(x0 + x1)**(-1.17750895023346) - 0.996507048606873)]\n",
            "[201.8022124125359, 26.351073198356012, -0.899814426898956*tan(0.0788157656788826*cos(x2 - 1.0162992477417*x3) - 0.944159119548303)]\n",
            "[201.9157573397745, 26.350068101190967, -0.995676517486572*tan(0.0812830775976181*cos(x2 - 1.01554071903229*x3) - 0.895772099494934)]\n",
            "Checking for brute force + \n",
            "\n",
            "Checking for brute force * \n",
            "\n",
            "Checking polyfit \n",
            "\n",
            "Complexity  RMSE  Expression\n",
            "[13.381542951184585, 34.71710716819896, 'log(666.000000000000*pi)']\n",
            "[21.381542951184585, 32.40768768916493, 'tan(-666.000000000000+exp(exp(pi)))']\n",
            "[37.7672998572285, 30.233191806081102, 'tan(-3.139253335280+pi)']\n",
            "[37.76735377126184, 28.380861862587476, '1/(-427.458205273979*(x1-(x1+1)))']\n",
            "[42.418849940880804, 28.3808618622418, '1/(136.064168882757*pi)']\n",
            "[45.251633893196825, 27.307484291870583, 0.418889191645090]\n",
            "[46.78464226977325, 26.8463919308807, 1.21221780776978]\n",
            "[93.76161983570555, 26.84363354542913, tan(0.887731075286865*x3**(-0.00738819967955351))]\n",
            "[95.84481244516975, 26.840990060072013, tan(0.0362291189120284*x1 + 0.76712429523468)]\n",
            "[95.85394707732041, 26.835586688779376, tan(0.0365045019681862*x0 + 0.76617306470871)]\n",
            "[104.57036588531624, 26.82954319131521, tan((x0 + x1)**0.14972397685051 - 0.43113961815834)]\n",
            "[164.55808384518255, 26.72485358611177, -tan(0.87442946434021*(x0 + x1)**(-1.17750895023346) - 0.996507048606873)]\n",
            "[201.8022124125359, 26.351073198356012, -0.899814426898956*tan(0.0788157656788826*cos(x2 - 1.0162992477417*x3) - 0.944159119548303)]\n",
            "[201.9157573397745, 26.350068101190967, -0.995676517486572*tan(0.0812830775976181*cos(x2 - 1.01554071903229*x3) - 0.895772099494934)]\n",
            "Checking for brute force + \n",
            "\n",
            "Checking for brute force * \n",
            "\n",
            "Checking polyfit \n",
            "\n",
            "Complexity  RMSE  Expression\n",
            "[13.381542951184585, 30.92163084658155, 'atan(666.000000000000*pi)']\n",
            "[14.136430453348053, 30.92155287468792, 'atan(666.000000000000*x0)']\n",
            "[20.991183425621394, 30.90965653202808, 'atan(666.000000000000*sin(exp(exp(x3))))']\n",
            "[35.27286090669611, 30.880505324988928, 'atan(-666.000000000000*(sin(x1)-1))']\n",
            "[37.7672998572285, 30.233191806081102, 'tan(-3.139253335280+pi)']\n",
            "[37.76735377126184, 28.380861862587476, '1/(-427.458205273979*(x1-(x1+1)))']\n",
            "[42.418849940880804, 28.3808618622418, '1/(136.064168882757*pi)']\n",
            "[45.251633893196825, 27.307484291870583, 0.418889191645090]\n",
            "[46.78464226977325, 26.8463919308807, 1.21221780776978]\n",
            "[93.76161983570555, 26.84363354542913, tan(0.887731075286865*x3**(-0.00738819967955351))]\n",
            "[95.84481244516975, 26.840990060072013, tan(0.0362291189120284*x1 + 0.76712429523468)]\n",
            "[95.85394707732041, 26.835586688779376, tan(0.0365045019681862*x0 + 0.76617306470871)]\n",
            "[104.57036588531624, 26.82954319131521, tan((x0 + x1)**0.14972397685051 - 0.43113961815834)]\n",
            "[164.55808384518255, 26.72485358611177, -tan(0.87442946434021*(x0 + x1)**(-1.17750895023346) - 0.996507048606873)]\n",
            "[201.8022124125359, 26.351073198356012, -0.899814426898956*tan(0.0788157656788826*cos(x2 - 1.0162992477417*x3) - 0.944159119548303)]\n",
            "[201.9157573397745, 26.350068101190967, -0.995676517486572*tan(0.0812830775976181*cos(x2 - 1.01554071903229*x3) - 0.895772099494934)]\n",
            "Checking for symmetry \n",
            " equation4.txt_train\n",
            "Training a NN on the data... \n",
            "\n",
            "tensor(0.1178, grad_fn=<DivBackward0>)\n",
            "tensor(0.0973, grad_fn=<DivBackward0>)\n",
            "tensor(0.1482, grad_fn=<DivBackward0>)\n",
            "tensor(0.0947, grad_fn=<DivBackward0>)\n",
            "NN loss:  tensor(0.0627, grad_fn=<DivBackward0>) \n",
            "\n",
            "Checking for brute force + \n",
            "\n",
            "Checking for brute force * \n",
            "\n",
            "Checking polyfit \n",
            "\n",
            "Complexity  RMSE  Expression\n",
            "[47.364837379700745, 30.73171343069086, '0.067123257837*exp(x1)']\n",
            "[47.858652548298366, 30.120389906373806, x0 + 0.638013660907745]\n",
            "[48.37105017175968, 30.112879076869948, 3.64029872417450]\n",
            "[53.969957203734126, 29.98524065699895, '-0.344592659630+(x1-cos(x2))']\n",
            "[63.008950775283225, 29.26224541220321, '-0.663063957902*(x1*((cos(x2)-1)-1))']\n",
            "[104.46329651092388, 29.035084377699, -0.704226315021515*x0*cos(x2) + 1.27064263820648*x0]\n",
            "[108.17766957720812, 29.00321800367694, -0.723174870014191*x0*cos(x2) + x0 + 1.08785891532898]\n",
            "[108.20331548032927, 28.990175117204245, -0.72891229391098*x1*cos(x2) + x1 + 1.09865367412567]\n",
            "[108.34893529411748, 28.3822356156462, '0.665535172046*(x0-(x1*(cos(x2)-1)))']\n",
            "[108.35968802288089, 28.355058255125595, '0.668019990381*(x1-(x0*(cos(x2)-1)))']\n",
            "[153.87551734495062, 28.333879340344666, -0.705789029598236*x0*(cos(x2) - 1.06231355667114) + 0.598840534687042*x1]\n",
            "Checking for brute force + \n",
            "\n",
            "Checking for brute force * \n",
            "\n",
            "Checking polyfit \n",
            "\n",
            "Complexity  RMSE  Expression\n",
            "[37.7672998572285, 30.233191806081102, 'tan(-3.139253335280+pi)']\n",
            "[46.78464226977325, 26.8463919308807, 1.21221780776978]\n",
            "[104.57036588531624, 26.82954319131521, tan((x0 + x1)**0.14972397685051 - 0.43113961815834)]\n",
            "[151.13162135912003, 26.358877137964132, -0.900342583656311*tan(0.0788256898522377*cos(x2) - 0.94442668218403)]\n",
            "[151.24590575575996, 26.358692863941712, -0.995897710323334*tan(0.0812886357307434*cos(x2) - 0.896194517612457)]\n",
            "[151.32847045149666, 26.357800453240458, -1.08611023426056*tan(0.0828407034277916*cos(x2) - 0.85385400056839)]\n",
            "[168.92140425596173, 26.35009663341723, tan(log(x0 + x1 - 1.02496063709259*cos(x2))**0.258377015590668 - 0.267576843500137)]\n",
            "Checking for brute force + \n",
            "\n",
            "Checking for brute force * \n",
            "\n",
            "Checking polyfit \n",
            "\n",
            "Complexity  RMSE  Expression\n",
            "[16.136430453348055, 1000000, 'acos(-666.000000000000+exp(exp(pi)))']\n",
            "[37.7672998572285, 30.233191806081102, 'tan(-3.139253335280+pi)']\n",
            "[46.78464226977325, 26.8463919308807, 1.21221780776978]\n",
            "[104.57036588531624, 26.82954319131521, tan((x0 + x1)**0.14972397685051 - 0.43113961815834)]\n",
            "[151.13162135912003, 26.358877137964132, -0.900342583656311*tan(0.0788256898522377*cos(x2) - 0.94442668218403)]\n",
            "[151.24590575575996, 26.358692863941712, -0.995897710323334*tan(0.0812886357307434*cos(x2) - 0.896194517612457)]\n",
            "[151.32847045149666, 26.357800453240458, -1.08611023426056*tan(0.0828407034277916*cos(x2) - 0.85385400056839)]\n",
            "[168.92140425596173, 26.35009663341723, tan(log(x0 + x1 - 1.02496063709259*cos(x2))**0.258377015590668 - 0.267576843500137)]\n",
            "Checking for brute force + \n",
            "\n",
            "Checking for brute force * \n",
            "\n",
            "Checking polyfit \n",
            "\n",
            "Complexity  RMSE  Expression\n",
            "[13.381542951184585, 34.71710716819896, 'log(666.000000000000*pi)']\n",
            "[21.991183425621394, 34.69452307647911, 'log(666.000000000000*cos((x1)**(-1)))']\n",
            "[27.76308590236917, 34.693929953503385, 'log(-666.000000000000*((x1)**(-1)-1))']\n",
            "[34.27286090669611, 34.68054206004196, 'log(666.000000000000*(x1-cos(x2)))']\n",
            "[37.7672998572285, 30.233191806081102, 'tan(-3.139253335280+pi)']\n",
            "[46.78464226977325, 26.8463919308807, 1.21221780776978]\n",
            "[104.57036588531624, 26.82954319131521, tan((x0 + x1)**0.14972397685051 - 0.43113961815834)]\n",
            "[151.13162135912003, 26.358877137964132, -0.900342583656311*tan(0.0788256898522377*cos(x2) - 0.94442668218403)]\n",
            "[151.24590575575996, 26.358692863941712, -0.995897710323334*tan(0.0812886357307434*cos(x2) - 0.896194517612457)]\n",
            "[151.32847045149666, 26.357800453240458, -1.08611023426056*tan(0.0828407034277916*cos(x2) - 0.85385400056839)]\n",
            "[168.92140425596173, 26.35009663341723, tan(log(x0 + x1 - 1.02496063709259*cos(x2))**0.258377015590668 - 0.267576843500137)]\n",
            "Checking for brute force + \n",
            "\n",
            "Checking for brute force * \n",
            "\n",
            "Checking polyfit \n",
            "\n",
            "Complexity  RMSE  Expression\n",
            "[13.381542951184585, 34.71710716819896, 'log(666.000000000000*pi)']\n",
            "[21.991183425621394, 34.69452307647911, 'log(666.000000000000*cos((x1)**(-1)))']\n",
            "[27.76308590236917, 34.693929953503385, 'log(-666.000000000000*((x1)**(-1)-1))']\n",
            "[34.27286090669611, 34.68054206004196, 'log(666.000000000000*(x1-cos(x2)))']\n",
            "[37.7672998572285, 30.233191806081102, 'tan(-3.139253335280+pi)']\n",
            "[42.418849940880804, 28.3808618622418, '1/(136.064168882757*pi)']\n",
            "[45.251633893196825, 27.307484291870583, 0.418889191645090]\n",
            "[46.78464226977325, 26.8463919308807, 1.21221780776978]\n",
            "[104.57036588531624, 26.82954319131521, tan((x0 + x1)**0.14972397685051 - 0.43113961815834)]\n",
            "[151.13162135912003, 26.358877137964132, -0.900342583656311*tan(0.0788256898522377*cos(x2) - 0.94442668218403)]\n",
            "[151.24590575575996, 26.358692863941712, -0.995897710323334*tan(0.0812886357307434*cos(x2) - 0.896194517612457)]\n",
            "[151.32847045149666, 26.357800453240458, -1.08611023426056*tan(0.0828407034277916*cos(x2) - 0.85385400056839)]\n",
            "[168.92140425596173, 26.35009663341723, tan(log(x0 + x1 - 1.02496063709259*cos(x2))**0.258377015590668 - 0.267576843500137)]\n",
            "Checking for brute force + \n",
            "\n",
            "Checking for brute force * \n",
            "\n",
            "Checking polyfit \n",
            "\n",
            "Complexity  RMSE  Expression\n",
            "[13.381542951184585, 34.71710716819896, 'log(666.000000000000*pi)']\n",
            "[17.509775004326936, 28.54363281244904, 'exp(-0.000000000002*exp(((x2*exp(exp(x0))))**(-1)))']\n",
            "[42.418849940880804, 28.3808618622418, '1/(136.064168882757*pi)']\n",
            "[45.251633893196825, 27.307484291870583, 0.418889191645090]\n",
            "[46.78464226977325, 26.8463919308807, 1.21221780776978]\n",
            "[104.57036588531624, 26.82954319131521, tan((x0 + x1)**0.14972397685051 - 0.43113961815834)]\n",
            "[151.13162135912003, 26.358877137964132, -0.900342583656311*tan(0.0788256898522377*cos(x2) - 0.94442668218403)]\n",
            "[151.24590575575996, 26.358692863941712, -0.995897710323334*tan(0.0812886357307434*cos(x2) - 0.896194517612457)]\n",
            "[151.32847045149666, 26.357800453240458, -1.08611023426056*tan(0.0828407034277916*cos(x2) - 0.85385400056839)]\n",
            "[168.92140425596173, 26.35009663341723, tan(log(x0 + x1 - 1.02496063709259*cos(x2))**0.258377015590668 - 0.267576843500137)]\n",
            "Checking for brute force + \n",
            "\n",
            "Checking for brute force * \n",
            "\n",
            "Checking polyfit \n",
            "\n",
            "Complexity  RMSE  Expression\n",
            "[13.381542951184585, 34.71710716819896, 'log(666.000000000000*pi)']\n",
            "[17.509775004326936, 28.54363281244904, 'exp(-0.000000000002*exp(((x2*exp(exp(x0))))**(-1)))']\n",
            "[42.418849940880804, 28.3808618622418, '1/(136.064168882757*pi)']\n",
            "[45.251633893196825, 27.307484291870583, 0.418889191645090]\n",
            "[46.78464226977325, 26.8463919308807, 1.21221780776978]\n",
            "[104.57036588531624, 26.82954319131521, tan((x0 + x1)**0.14972397685051 - 0.43113961815834)]\n",
            "[151.13162135912003, 26.358877137964132, -0.900342583656311*tan(0.0788256898522377*cos(x2) - 0.94442668218403)]\n",
            "[151.24590575575996, 26.358692863941712, -0.995897710323334*tan(0.0812886357307434*cos(x2) - 0.896194517612457)]\n",
            "[151.32847045149666, 26.357800453240458, -1.08611023426056*tan(0.0828407034277916*cos(x2) - 0.85385400056839)]\n",
            "[168.92140425596173, 26.35009663341723, tan(log(x0 + x1 - 1.02496063709259*cos(x2))**0.258377015590668 - 0.267576843500137)]\n",
            "Checking for brute force + \n",
            "\n",
            "Checking for brute force * \n",
            "\n",
            "Checking polyfit \n",
            "\n",
            "Complexity  RMSE  Expression\n",
            "[13.381542951184585, 34.71710716819896, 'log(666.000000000000*pi)']\n",
            "[17.509775004326936, 28.54363281244904, 'exp(-0.000000000002*exp(((x2*exp(exp(x0))))**(-1)))']\n",
            "[42.418849940880804, 28.3808618622418, '1/(136.064168882757*pi)']\n",
            "[45.251633893196825, 27.307484291870583, 0.418889191645090]\n",
            "[46.78464226977325, 26.8463919308807, 1.21221780776978]\n",
            "[104.57036588531624, 26.82954319131521, tan((x0 + x1)**0.14972397685051 - 0.43113961815834)]\n",
            "[151.13162135912003, 26.358877137964132, -0.900342583656311*tan(0.0788256898522377*cos(x2) - 0.94442668218403)]\n",
            "[151.24590575575996, 26.358692863941712, -0.995897710323334*tan(0.0812886357307434*cos(x2) - 0.896194517612457)]\n",
            "[151.32847045149666, 26.357800453240458, -1.08611023426056*tan(0.0828407034277916*cos(x2) - 0.85385400056839)]\n",
            "[168.92140425596173, 26.35009663341723, tan(log(x0 + x1 - 1.02496063709259*cos(x2))**0.258377015590668 - 0.267576843500137)]\n",
            "Checking for brute force + \n",
            "\n",
            "Checking for brute force * \n",
            "\n",
            "Checking polyfit \n",
            "\n",
            "Complexity  RMSE  Expression\n",
            "[13.381542951184585, 34.71710716819896, 'log(666.000000000000*pi)']\n",
            "[17.509775004326936, 28.54363281244904, 'exp(-0.000000000002*exp(((x2*exp(exp(x0))))**(-1)))']\n",
            "[42.418849940880804, 28.3808618622418, '1/(136.064168882757*pi)']\n",
            "[45.251633893196825, 27.307484291870583, 0.418889191645090]\n",
            "[46.78464226977325, 26.8463919308807, 1.21221780776978]\n",
            "[104.57036588531624, 26.82954319131521, tan((x0 + x1)**0.14972397685051 - 0.43113961815834)]\n",
            "[151.13162135912003, 26.358877137964132, -0.900342583656311*tan(0.0788256898522377*cos(x2) - 0.94442668218403)]\n",
            "[151.24590575575996, 26.358692863941712, -0.995897710323334*tan(0.0812886357307434*cos(x2) - 0.896194517612457)]\n",
            "[151.32847045149666, 26.357800453240458, -1.08611023426056*tan(0.0828407034277916*cos(x2) - 0.85385400056839)]\n",
            "[168.92140425596173, 26.35009663341723, tan(log(x0 + x1 - 1.02496063709259*cos(x2))**0.258377015590668 - 0.267576843500137)]\n",
            "Checking for brute force + \n",
            "\n",
            "Checking for brute force * \n",
            "\n",
            "Checking polyfit \n",
            "\n",
            "Complexity  RMSE  Expression\n",
            "[13.381542951184585, 30.92163084658155, 'atan(666.000000000000*pi)']\n",
            "[14.136430453348053, 30.92155287468792, 'atan(666.000000000000*x0)']\n",
            "[17.509775004326936, 28.54363281244904, 'exp(-0.000000000002*exp(((x2*exp(exp(x0))))**(-1)))']\n",
            "[42.418849940880804, 28.3808618622418, '1/(136.064168882757*pi)']\n",
            "[45.251633893196825, 27.307484291870583, 0.418889191645090]\n",
            "[46.78464226977325, 26.8463919308807, 1.21221780776978]\n",
            "[104.57036588531624, 26.82954319131521, tan((x0 + x1)**0.14972397685051 - 0.43113961815834)]\n",
            "[151.13162135912003, 26.358877137964132, -0.900342583656311*tan(0.0788256898522377*cos(x2) - 0.94442668218403)]\n",
            "[151.24590575575996, 26.358692863941712, -0.995897710323334*tan(0.0812886357307434*cos(x2) - 0.896194517612457)]\n",
            "[151.32847045149666, 26.357800453240458, -1.08611023426056*tan(0.0828407034277916*cos(x2) - 0.85385400056839)]\n",
            "[168.92140425596173, 26.35009663341723, tan(log(x0 + x1 - 1.02496063709259*cos(x2))**0.258377015590668 - 0.267576843500137)]\n",
            "Checking for symmetry \n",
            " equation4.txt_train-translated_minus\n",
            "Found pretrained NN \n",
            "\n",
            "tensor(0.0926, grad_fn=<DivBackward0>)\n",
            "tensor(0.0689, grad_fn=<DivBackward0>)\n",
            "tensor(0.0959, grad_fn=<DivBackward0>)\n",
            "NN loss after training:  tensor(0.0109, grad_fn=<DivBackward0>) \n",
            "\n",
            "Checking for brute force + \n",
            "\n",
            "Checking for brute force * \n",
            "\n",
            "Checking polyfit \n",
            "\n",
            "Complexity  RMSE  Expression\n",
            "[40.23569524357777, 31.335506253658664, '0.000479498663*exp(x0)']\n",
            "[47.77387292436573, 29.956000398371916, 0.601601302623749*x0]\n",
            "[55.93694542564314, 29.884795287443453, '-2.694377689000+(x1+x0)']\n",
            "[61.57337069252438, 28.150500610067294, '0.367700325755*(x0*exp(cos((cos(x1)+1))))']\n",
            "[62.01700332768313, 27.740459369642874, '-0.333387633114*(x0*((cos(x1)-1)-1))']\n",
            "Checking for brute force + \n",
            "\n",
            "Checking for brute force * \n",
            "\n",
            "Checking polyfit \n",
            "\n",
            "Complexity  RMSE  Expression\n",
            "[37.7672998572285, 30.233191806081102, 'tan(-3.139253335280+pi)']\n",
            "[46.78464226977325, 26.8463919308807, 1.21221780776978]\n",
            "[97.0605908809893, 26.82954319131521, tan(x0**0.14972397685051 - 0.43113961815834)]\n",
            "[151.13162135912003, 26.358877137964132, -0.900342583656311*tan(0.0788256898522377*cos(x1) - 0.94442668218403)]\n",
            "[151.24590575575996, 26.358692863941712, -0.995897710323334*tan(0.0812886357307434*cos(x1) - 0.896194517612457)]\n",
            "[151.32847045149666, 26.357800453240458, -1.08611023426056*tan(0.0828407034277916*cos(x1) - 0.85385400056839)]\n",
            "[159.7021233070881, 26.35009663341723, tan(log(x0 - 1.02496063709259*cos(x1))**0.258377015590668 - 0.267576843500137)]\n",
            "[173.71300547890158, 25.791880474063174, -tan(0.763442099094391*x0**(-1.28449666500092)*exp(cos(x1)) - 1.00065922737122)]\n",
            "[216.39081054915374, 25.61312642499056, tan(sin(2.69833493614973*exp(x0**(-1.10593783855438)*cos(x1)) - 0.967151880264282) - 0.0478413589298725)]\n",
            "Checking for brute force + \n",
            "\n",
            "Checking for brute force * \n",
            "\n",
            "Checking polyfit \n",
            "\n",
            "Complexity  RMSE  Expression\n",
            "[16.136430453348055, 1000000, 'acos(-666.000000000000+exp(exp(pi)))']\n",
            "[29.0, 30.646613104423782, 'acos(0.000000000029*((cos(((x0*log(pi))+1))-1))**(-1))']\n",
            "[37.7672998572285, 30.233191806081102, 'tan(-3.139253335280+pi)']\n",
            "[46.78464226977325, 26.8463919308807, 1.21221780776978]\n",
            "[97.0605908809893, 26.82954319131521, tan(x0**0.14972397685051 - 0.43113961815834)]\n",
            "[151.13162135912003, 26.358877137964132, -0.900342583656311*tan(0.0788256898522377*cos(x1) - 0.94442668218403)]\n",
            "[151.24590575575996, 26.358692863941712, -0.995897710323334*tan(0.0812886357307434*cos(x1) - 0.896194517612457)]\n",
            "[151.32847045149666, 26.357800453240458, -1.08611023426056*tan(0.0828407034277916*cos(x1) - 0.85385400056839)]\n",
            "[159.7021233070881, 26.35009663341723, tan(log(x0 - 1.02496063709259*cos(x1))**0.258377015590668 - 0.267576843500137)]\n",
            "[173.71300547890158, 25.791880474063174, -tan(0.763442099094391*x0**(-1.28449666500092)*exp(cos(x1)) - 1.00065922737122)]\n",
            "[216.39081054915374, 25.61312642499056, tan(sin(2.69833493614973*exp(x0**(-1.10593783855438)*cos(x1)) - 0.967151880264282) - 0.0478413589298725)]\n",
            "Checking for brute force + \n",
            "\n",
            "Checking for brute force * \n",
            "\n",
            "Checking polyfit \n",
            "\n",
            "Complexity  RMSE  Expression\n",
            "[13.381542951184585, 34.71710716819896, 'log(666.000000000000*pi)']\n",
            "[29.0, 30.646613104423782, 'acos(0.000000000029*((cos(((x0*log(pi))+1))-1))**(-1))']\n",
            "[37.7672998572285, 30.233191806081102, 'tan(-3.139253335280+pi)']\n",
            "[46.78464226977325, 26.8463919308807, 1.21221780776978]\n",
            "[97.0605908809893, 26.82954319131521, tan(x0**0.14972397685051 - 0.43113961815834)]\n",
            "[151.13162135912003, 26.358877137964132, -0.900342583656311*tan(0.0788256898522377*cos(x1) - 0.94442668218403)]\n",
            "[151.24590575575996, 26.358692863941712, -0.995897710323334*tan(0.0812886357307434*cos(x1) - 0.896194517612457)]\n",
            "[151.32847045149666, 26.357800453240458, -1.08611023426056*tan(0.0828407034277916*cos(x1) - 0.85385400056839)]\n",
            "[159.7021233070881, 26.35009663341723, tan(log(x0 - 1.02496063709259*cos(x1))**0.258377015590668 - 0.267576843500137)]\n",
            "[173.71300547890158, 25.791880474063174, -tan(0.763442099094391*x0**(-1.28449666500092)*exp(cos(x1)) - 1.00065922737122)]\n",
            "[216.39081054915374, 25.61312642499056, tan(sin(2.69833493614973*exp(x0**(-1.10593783855438)*cos(x1)) - 0.967151880264282) - 0.0478413589298725)]\n",
            "Checking for brute force + \n",
            "\n",
            "Checking for brute force * \n",
            "\n",
            "Checking polyfit \n",
            "\n",
            "Complexity  RMSE  Expression\n",
            "[13.381542951184585, 34.71710716819896, 'log(666.000000000000*pi)']\n",
            "[19.37937836707126, 28.36561227946743, '1/(666.000000000000*(log(x0)/x0))']\n",
            "[45.251633893196825, 27.307484291870583, 0.418889191645090]\n",
            "[46.78464226977325, 26.8463919308807, 1.21221780776978]\n",
            "[97.0605908809893, 26.82954319131521, tan(x0**0.14972397685051 - 0.43113961815834)]\n",
            "[151.13162135912003, 26.358877137964132, -0.900342583656311*tan(0.0788256898522377*cos(x1) - 0.94442668218403)]\n",
            "[151.24590575575996, 26.358692863941712, -0.995897710323334*tan(0.0812886357307434*cos(x1) - 0.896194517612457)]\n",
            "[151.32847045149666, 26.357800453240458, -1.08611023426056*tan(0.0828407034277916*cos(x1) - 0.85385400056839)]\n",
            "[159.7021233070881, 26.35009663341723, tan(log(x0 - 1.02496063709259*cos(x1))**0.258377015590668 - 0.267576843500137)]\n",
            "[173.71300547890158, 25.791880474063174, -tan(0.763442099094391*x0**(-1.28449666500092)*exp(cos(x1)) - 1.00065922737122)]\n",
            "[216.39081054915374, 25.61312642499056, tan(sin(2.69833493614973*exp(x0**(-1.10593783855438)*cos(x1)) - 0.967151880264282) - 0.0478413589298725)]\n",
            "Checking for brute force + \n",
            "\n",
            "Checking for brute force * \n",
            "\n",
            "Checking polyfit \n",
            "\n",
            "Complexity  RMSE  Expression\n",
            "[1.0, 28.54362613351337, 'exp(-0.000000000000*exp(((x1*exp(x0)))**(-1)))']\n",
            "[19.37937836707126, 28.36561227946743, '1/(666.000000000000*(log(x0)/x0))']\n",
            "[45.251633893196825, 27.307484291870583, 0.418889191645090]\n",
            "[46.78464226977325, 26.8463919308807, 1.21221780776978]\n",
            "[97.0605908809893, 26.82954319131521, tan(x0**0.14972397685051 - 0.43113961815834)]\n",
            "[151.13162135912003, 26.358877137964132, -0.900342583656311*tan(0.0788256898522377*cos(x1) - 0.94442668218403)]\n",
            "[151.24590575575996, 26.358692863941712, -0.995897710323334*tan(0.0812886357307434*cos(x1) - 0.896194517612457)]\n",
            "[151.32847045149666, 26.357800453240458, -1.08611023426056*tan(0.0828407034277916*cos(x1) - 0.85385400056839)]\n",
            "[159.7021233070881, 26.35009663341723, tan(log(x0 - 1.02496063709259*cos(x1))**0.258377015590668 - 0.267576843500137)]\n",
            "[173.71300547890158, 25.791880474063174, -tan(0.763442099094391*x0**(-1.28449666500092)*exp(cos(x1)) - 1.00065922737122)]\n",
            "[216.39081054915374, 25.61312642499056, tan(sin(2.69833493614973*exp(x0**(-1.10593783855438)*cos(x1)) - 0.967151880264282) - 0.0478413589298725)]\n",
            "Checking for brute force + \n",
            "\n",
            "Checking for brute force * \n",
            "\n",
            "Checking polyfit \n",
            "\n",
            "Complexity  RMSE  Expression\n",
            "[1.0, 28.54362613351337, 'exp(-0.000000000000*exp(((x1*exp(x0)))**(-1)))']\n",
            "[19.37937836707126, 28.36561227946743, '1/(666.000000000000*(log(x0)/x0))']\n",
            "[45.251633893196825, 27.307484291870583, 0.418889191645090]\n",
            "[46.78464226977325, 26.8463919308807, 1.21221780776978]\n",
            "[97.0605908809893, 26.82954319131521, tan(x0**0.14972397685051 - 0.43113961815834)]\n",
            "[151.13162135912003, 26.358877137964132, -0.900342583656311*tan(0.0788256898522377*cos(x1) - 0.94442668218403)]\n",
            "[151.24590575575996, 26.358692863941712, -0.995897710323334*tan(0.0812886357307434*cos(x1) - 0.896194517612457)]\n",
            "[151.32847045149666, 26.357800453240458, -1.08611023426056*tan(0.0828407034277916*cos(x1) - 0.85385400056839)]\n",
            "[159.7021233070881, 26.35009663341723, tan(log(x0 - 1.02496063709259*cos(x1))**0.258377015590668 - 0.267576843500137)]\n",
            "[173.71300547890158, 25.791880474063174, -tan(0.763442099094391*x0**(-1.28449666500092)*exp(cos(x1)) - 1.00065922737122)]\n",
            "[216.39081054915374, 25.61312642499056, tan(sin(2.69833493614973*exp(x0**(-1.10593783855438)*cos(x1)) - 0.967151880264282) - 0.0478413589298725)]\n",
            "Checking for brute force + \n",
            "\n",
            "Checking for brute force * \n",
            "\n",
            "Checking polyfit \n",
            "\n",
            "Complexity  RMSE  Expression\n",
            "[1.0, 28.54362613351337, 'exp(-0.000000000000*exp(((x1*exp(x0)))**(-1)))']\n",
            "[19.37937836707126, 28.36561227946743, '1/(666.000000000000*(log(x0)/x0))']\n",
            "[45.251633893196825, 27.307484291870583, 0.418889191645090]\n",
            "[46.78464226977325, 26.8463919308807, 1.21221780776978]\n",
            "[97.0605908809893, 26.82954319131521, tan(x0**0.14972397685051 - 0.43113961815834)]\n",
            "[151.13162135912003, 26.358877137964132, -0.900342583656311*tan(0.0788256898522377*cos(x1) - 0.94442668218403)]\n",
            "[151.24590575575996, 26.358692863941712, -0.995897710323334*tan(0.0812886357307434*cos(x1) - 0.896194517612457)]\n",
            "[151.32847045149666, 26.357800453240458, -1.08611023426056*tan(0.0828407034277916*cos(x1) - 0.85385400056839)]\n",
            "[159.7021233070881, 26.35009663341723, tan(log(x0 - 1.02496063709259*cos(x1))**0.258377015590668 - 0.267576843500137)]\n",
            "[173.71300547890158, 25.791880474063174, -tan(0.763442099094391*x0**(-1.28449666500092)*exp(cos(x1)) - 1.00065922737122)]\n",
            "[216.39081054915374, 25.61312642499056, tan(sin(2.69833493614973*exp(x0**(-1.10593783855438)*cos(x1)) - 0.967151880264282) - 0.0478413589298725)]\n",
            "Checking for brute force + \n",
            "\n",
            "Checking for brute force * \n",
            "\n",
            "Checking polyfit \n",
            "\n",
            "Complexity  RMSE  Expression\n",
            "[1.0, 28.54362613351337, 'exp(-0.000000000000*exp(((x1*exp(x0)))**(-1)))']\n",
            "[19.37937836707126, 28.36561227946743, '1/(666.000000000000*(log(x0)/x0))']\n",
            "[45.251633893196825, 27.307484291870583, 0.418889191645090]\n",
            "[46.78464226977325, 26.8463919308807, 1.21221780776978]\n",
            "[97.0605908809893, 26.82954319131521, tan(x0**0.14972397685051 - 0.43113961815834)]\n",
            "[151.13162135912003, 26.358877137964132, -0.900342583656311*tan(0.0788256898522377*cos(x1) - 0.94442668218403)]\n",
            "[151.24590575575996, 26.358692863941712, -0.995897710323334*tan(0.0812886357307434*cos(x1) - 0.896194517612457)]\n",
            "[151.32847045149666, 26.357800453240458, -1.08611023426056*tan(0.0828407034277916*cos(x1) - 0.85385400056839)]\n",
            "[159.7021233070881, 26.35009663341723, tan(log(x0 - 1.02496063709259*cos(x1))**0.258377015590668 - 0.267576843500137)]\n",
            "[173.71300547890158, 25.791880474063174, -tan(0.763442099094391*x0**(-1.28449666500092)*exp(cos(x1)) - 1.00065922737122)]\n",
            "[216.39081054915374, 25.61312642499056, tan(sin(2.69833493614973*exp(x0**(-1.10593783855438)*cos(x1)) - 0.967151880264282) - 0.0478413589298725)]\n",
            "Checking for brute force + \n",
            "\n",
            "Checking for brute force * \n",
            "\n",
            "Checking polyfit \n",
            "\n",
            "Complexity  RMSE  Expression\n",
            "[1.0, 28.54362613351337, 'exp(-0.000000000000*exp(((x1*exp(x0)))**(-1)))']\n",
            "[19.37937836707126, 28.36561227946743, '1/(666.000000000000*(log(x0)/x0))']\n",
            "[45.251633893196825, 27.307484291870583, 0.418889191645090]\n",
            "[46.78464226977325, 26.8463919308807, 1.21221780776978]\n",
            "[97.0605908809893, 26.82954319131521, tan(x0**0.14972397685051 - 0.43113961815834)]\n",
            "[151.13162135912003, 26.358877137964132, -0.900342583656311*tan(0.0788256898522377*cos(x1) - 0.94442668218403)]\n",
            "[151.24590575575996, 26.358692863941712, -0.995897710323334*tan(0.0812886357307434*cos(x1) - 0.896194517612457)]\n",
            "[151.32847045149666, 26.357800453240458, -1.08611023426056*tan(0.0828407034277916*cos(x1) - 0.85385400056839)]\n",
            "[159.7021233070881, 26.35009663341723, tan(log(x0 - 1.02496063709259*cos(x1))**0.258377015590668 - 0.267576843500137)]\n",
            "[173.71300547890158, 25.791880474063174, -tan(0.763442099094391*x0**(-1.28449666500092)*exp(cos(x1)) - 1.00065922737122)]\n",
            "[216.39081054915374, 25.61312642499056, tan(sin(2.69833493614973*exp(x0**(-1.10593783855438)*cos(x1)) - 0.967151880264282) - 0.0478413589298725)]\n",
            "Checking for symmetry \n",
            " equation4.txt_train-translated_minus-translated_plus\n",
            "Found pretrained NN \n",
            "\n",
            "tensor(0.1547, grad_fn=<DivBackward0>)\n",
            "tensor(0.1315, grad_fn=<DivBackward0>)\n",
            "tensor(0.1390, grad_fn=<DivBackward0>)\n",
            "NN loss after training:  tensor(0.0972, grad_fn=<DivBackward0>) \n",
            "\n",
            "Checking for brute force + \n",
            "\n",
            "Checking for brute force * \n",
            "\n",
            "Checking polyfit \n",
            "\n",
            "Complexity  RMSE  Expression\n",
            "[31.849954803770522, 29.288144974790658, '0.01*x0**2 + 2.51']\n",
            "[48.349906094916825, 28.76705247286005, '0.002335505027+log(((x0*x0)+1))']\n",
            "[64.0030376117919, 28.623431215060467, '-1.232374988881+exp(sqrt(sqrt(sqrt((x0*x0)))))']\n",
            "Checking for brute force + \n",
            "\n",
            "Checking for brute force * \n",
            "\n",
            "Checking polyfit \n",
            "\n",
            "Complexity  RMSE  Expression\n",
            "[31.239545148081845, 30.23646231755158, -2.53536295528554e-5]\n",
            "[31.849954803770522, 29.288144974790658, '0.01*x0**2 + 2.51']\n",
            "[46.78464226977325, 26.8463919308807, 1.21221780776978]\n",
            "Checking for brute force + \n",
            "\n",
            "Checking for brute force * \n",
            "\n",
            "Checking polyfit \n",
            "\n",
            "Complexity  RMSE  Expression\n",
            "[16.136430453348055, 1000000, 'acos(-666.000000000000+exp(exp(pi)))']\n",
            "[31.239545148081845, 30.23646231755158, -2.53536295528554e-5]\n",
            "[31.849954803770522, 29.288144974790658, '0.01*x0**2 + 2.51']\n",
            "[46.78464226977325, 26.8463919308807, 1.21221780776978]\n",
            "Checking for brute force + \n",
            "\n",
            "Checking for brute force * \n",
            "\n",
            "Checking polyfit \n",
            "\n",
            "Complexity  RMSE  Expression\n",
            "[13.381542951184585, 34.71710716819896, 'log(666.000000000000*pi)']\n",
            "[24.57614592634255, 34.62121214465652, 'log(666.000000000000*sqrt((x0*x0)))']\n",
            "[31.239545148081845, 30.23646231755158, -2.53536295528554e-5]\n",
            "[31.849954803770522, 29.288144974790658, '0.01*x0**2 + 2.51']\n",
            "[46.78464226977325, 26.8463919308807, 1.21221780776978]\n",
            "Checking for brute force + \n",
            "\n",
            "Checking for brute force * \n",
            "\n",
            "Checking polyfit \n",
            "\n",
            "Complexity  RMSE  Expression\n",
            "[10.530406337099068, 30.357973166960903, '1/(0.580000000000000)']\n",
            "[31.239545148081845, 30.23646231755158, -2.53536295528554e-5]\n",
            "[31.849954803770522, 29.288144974790658, '0.01*x0**2 + 2.51']\n",
            "[42.418849940880804, 28.3808618622418, '1/(136.064168882757*pi)']\n",
            "[45.251633893196825, 27.307484291870583, 0.418889191645090]\n",
            "[46.78464226977325, 26.8463919308807, 1.21221780776978]\n",
            "Checking for brute force + \n",
            "\n",
            "Checking for brute force * \n",
            "\n",
            "Checking polyfit \n",
            "\n",
            "Complexity  RMSE  Expression\n",
            "[10.530406337099068, 30.357973166960903, '1/(0.580000000000000)']\n",
            "[31.239545148081845, 30.23646231755158, -2.53536295528554e-5]\n",
            "[31.849954803770522, 29.288144974790658, '0.01*x0**2 + 2.51']\n",
            "[42.418849940880804, 28.3808618622418, '1/(136.064168882757*pi)']\n",
            "[45.251633893196825, 27.307484291870583, 0.418889191645090]\n",
            "[46.78464226977325, 26.8463919308807, 1.21221780776978]\n",
            "Checking for brute force + \n",
            "\n",
            "Checking for brute force * \n",
            "\n",
            "Checking polyfit \n",
            "\n",
            "Complexity  RMSE  Expression\n",
            "[10.530406337099068, 30.357973166960903, '1/(0.580000000000000)']\n",
            "[31.239545148081845, 30.23646231755158, -2.53536295528554e-5]\n",
            "[31.849954803770522, 29.288144974790658, '0.01*x0**2 + 2.51']\n",
            "[42.418849940880804, 28.3808618622418, '1/(136.064168882757*pi)']\n",
            "[45.251633893196825, 27.307484291870583, 0.418889191645090]\n",
            "[46.78464226977325, 26.8463919308807, 1.21221780776978]\n",
            "Checking for brute force + \n",
            "\n",
            "Checking for brute force * \n",
            "\n",
            "Checking polyfit \n",
            "\n",
            "Complexity  RMSE  Expression\n",
            "[10.530406337099068, 30.357973166960903, '1/(0.580000000000000)']\n",
            "[18.553749273544767, 28.78566183492859, '(1.55000000000000)**2']\n",
            "[42.418849940880804, 28.3808618622418, '1/(136.064168882757*pi)']\n",
            "[45.251633893196825, 27.307484291870583, 0.418889191645090]\n",
            "[46.78464226977325, 26.8463919308807, 1.21221780776978]\n",
            "Checking for brute force + \n",
            "\n",
            "Checking for brute force * \n",
            "\n",
            "Checking polyfit \n",
            "\n",
            "Complexity  RMSE  Expression\n",
            "[10.530406337099068, 30.357973166960903, '1/(0.580000000000000)']\n",
            "[18.553749273544767, 28.78566183492859, '(1.55000000000000)**2']\n",
            "[42.418849940880804, 28.3808618622418, '1/(136.064168882757*pi)']\n",
            "[45.251633893196825, 27.307484291870583, 0.418889191645090]\n",
            "[46.78464226977325, 26.8463919308807, 1.21221780776978]\n",
            "Checking for brute force + \n",
            "\n",
            "Checking for brute force * \n",
            "\n",
            "Checking polyfit \n",
            "\n",
            "Complexity  RMSE  Expression\n",
            "[10.530406337099068, 30.357973166960903, '1/(0.580000000000000)']\n",
            "[18.553749273544767, 28.78566183492859, '(1.55000000000000)**2']\n",
            "[42.418849940880804, 28.3808618622418, '1/(136.064168882757*pi)']\n",
            "[45.251633893196825, 27.307484291870583, 0.418889191645090]\n",
            "[46.78464226977325, 26.8463919308807, 1.21221780776978]\n",
            "Checking for symmetry \n",
            " equation4.txt_train-translated_minus-translated_plus-translated_multiply\n",
            "Just one variable!\n",
            "equation4.txt_train-translated_minus-translated_plus-translated_multiply just one variable for ADD \n",
            "\n",
            "equation4.txt_train-translated_minus-translated_plus-translated_multiply just one variable for ADD \n",
            "\n",
            "equation4.txt_train-translated_minus-translated_plus-translated_multiply just one variable for ADD \n",
            "\n",
            "equation4.txt_train-translated_minus-translated_plus-translated_multiply just one variable for ADD \n",
            "\n",
            "equation4.txt_train-translated_minus-translated_plus-translated_multiply just one variable for ADD\n",
            "equation4.txt_train-translated_minus-translated_plus-translated_multiply just one variable for ADD\n"
          ]
        }
      ],
      "source": [
        "from S_run_aifeynman import run_aifeynman\n",
        "# Run example 1 as the regression dataset\n",
        "run_aifeynman(\"/content/AI-Feynman/example_data/\",\"equation4.txt\",30,\"14ops.txt\", polyfit_deg=3, NN_epochs=400)"
      ]
    },
    {
      "cell_type": "markdown",
      "metadata": {
        "id": "qC1qzqP-uMmP"
      },
      "source": [
        "### Assess the results"
      ]
    },
    {
      "cell_type": "code",
      "execution_count": 16,
      "metadata": {
        "colab": {
          "base_uri": "https://localhost:8080/"
        },
        "id": "6_t9u4eOZdYf",
        "outputId": "338a8007-1381-4cf3-c1c7-7b8ed8467bfb"
      },
      "outputs": [
        {
          "output_type": "stream",
          "name": "stdout",
          "text": [
            "      1.000000000000                      0               1             1.0000            26.5754            49.8289            49.8289\n",
            "      0.000000000000                    0J~              25             0.0000             4.6439             4.6439             4.6439\n"
          ]
        }
      ],
      "source": [
        "!cat results.dat "
      ]
    },
    {
      "cell_type": "markdown",
      "metadata": {
        "id": "V75LJuObuXnx"
      },
      "source": [
        "We found a candidate with an excellent fit, let's see what we got"
      ]
    },
    {
      "cell_type": "code",
      "execution_count": 17,
      "metadata": {
        "colab": {
          "base_uri": "https://localhost:8080/"
        },
        "id": "Irdi5kFSeY6a",
        "outputId": "f8c67f7f-e67f-4b7a-f17c-72d4b113cfdb"
      },
      "outputs": [
        {
          "output_type": "stream",
          "name": "stdout",
          "text": [
            "total 72\n",
            "drwxr-xr-x 2 root root 4096 Jun  7 10:48 mystery_world_acos\n",
            "drwxr-xr-x 2 root root 4096 Jun  7 10:48 mystery_world_asin\n",
            "drwxr-xr-x 2 root root 4096 Jun  7 10:48 mystery_world_atan\n",
            "drwxr-xr-x 2 root root 4096 Jun  7 10:49 mystery_world_cos\n",
            "drwxr-xr-x 2 root root 4096 Jun  7 10:51 mystery_world_exp\n",
            "drwxr-xr-x 2 root root 4096 Jun  7 10:52 mystery_world_inverse\n",
            "drwxr-xr-x 2 root root 4096 Jun  7 10:53 mystery_world_log\n",
            "drwxr-xr-x 2 root root 4096 Jun  7 10:54 mystery_world_sin\n",
            "drwxr-xr-x 2 root root 4096 Jun  7 10:56 mystery_world_sqrt\n",
            "drwxr-xr-x 2 root root 4096 Jun  7 10:57 mystery_world_squared\n",
            "drwxr-xr-x 2 root root 4096 Jun  7 10:58 mystery_world_tan\n",
            "drwxr-xr-x 3 root root 4096 Jun  7 10:07 NN_trained_models\n",
            "-rw-r--r-- 1 root root 1373 Jun  7 11:29 solution_before_snap_equation4.txt.txt\n",
            "-rw-r--r-- 1 root root 2198 Jun  7 11:32 solution_equation4.txt\n",
            "-rw-r--r-- 1 root root 1373 Jun  7 11:29 solution_first_snap_equation4.txt.txt\n",
            "drwxr-xr-x 2 root root 4096 Jun  7 10:11 translated_data_minus\n",
            "drwxr-xr-x 2 root root 4096 Jun  7 10:47 translated_data_multiply\n",
            "drwxr-xr-x 2 root root 4096 Jun  7 10:29 translated_data_plus\n"
          ]
        }
      ],
      "source": [
        "!ls -l /content/AI-Feynman/Code/results/"
      ]
    },
    {
      "cell_type": "code",
      "execution_count": 18,
      "metadata": {
        "colab": {
          "base_uri": "https://localhost:8080/"
        },
        "id": "i4Hb-1mfZ40K",
        "outputId": "fee8ee71-d018-4241-d37a-7b2667fb62ce"
      },
      "outputs": [
        {
          "output_type": "stream",
          "name": "stdout",
          "text": [
            "total 792\n",
            "-rw-r--r-- 1 root root 132811 Jun  7 10:08 equation4.txt_train.h5\n",
            "-rw-r--r-- 1 root root 132299 Jun  7 10:28 equation4.txt_train-translated_minus.h5\n",
            "-rw-r--r-- 1 root root 132299 Jun  7 10:11 equation4.txt_train-translated_minus_pretrained.h5\n",
            "-rw-r--r-- 1 root root 131787 Jun  7 10:46 equation4.txt_train-translated_minus-translated_plus.h5\n",
            "-rw-r--r-- 1 root root 131787 Jun  7 10:29 equation4.txt_train-translated_minus-translated_plus_pretrained.h5\n",
            "-rw-r--r-- 1 root root 131211 Jun  7 10:47 equation4.txt_train-translated_minus-translated_plus-translated_multiply_pretrained.h5\n"
          ]
        }
      ],
      "source": [
        "!ls -l /content/AI-Feynman/Code/results/NN_trained_models/models"
      ]
    },
    {
      "cell_type": "code",
      "execution_count": 19,
      "metadata": {
        "colab": {
          "base_uri": "https://localhost:8080/"
        },
        "id": "T-_FGDrKZ-UK",
        "outputId": "547d2d7b-0b70-478f-d015-c02a9d28db80"
      },
      "outputs": [
        {
          "output_type": "stream",
          "name": "stdout",
          "text": [
            "31.60750441493712 4.982167759328298 498216.77593282977 0.0 31.606902663440323 0\n",
            "30.873231836066854 4.835096718857622 483509.67188576225 1.0 28.54362613351337 exp(-0.000000000000*exp((((x2-x3)*exp((x0+x1))))**(-1)))\n",
            "31.604340405934845 4.8260711001977175 482607.11001977173 19.37937836707126 28.36561227946743 1/(666.000000000000*(log((x0+x1))/(x0+x1)))\n",
            "31.299578304666845 4.771224506507327 477122.4506507327 45.251633893196825 27.307484291870583 0.418889191645090\n",
            "30.72386300166433 4.7466563025319175 474665.63025319175 46.78464226977325 26.8463919308807 1.21221780776978\n",
            "30.724280393232515 4.746508062370731 474650.8062370731 93.76161983570555 26.84363354542913 tan(0.887731075286865*x3**(-0.00738819967955351))\n",
            "30.73363007640368 4.746365982834271 474636.59828342707 95.84481244516975 26.840990060072013 tan(0.0362291189120284*x1 + 0.76712429523468)\n",
            "30.735734286235147 4.746075524035798 474607.5524035798 95.85394707732041 26.835586688779376 tan(0.0365045019681862*x0 + 0.76617306470871)\n",
            "30.749329067424632 4.745750585891513 474575.0585891513 97.0605908809893 26.82954319131521 tan((x0+x1)**0.14972397685051 - 0.43113961815834)\n",
            "30.75258445716038 4.720217009163739 472021.7009163739 151.13162135912003 26.358877137964132 -0.900342583656311*tan(0.0788256898522377*cos((x2-x3)) - 0.94442668218403)\n",
            "30.75304212483 4.720206923296037 472020.6923296037 151.24590575575996 26.358692863941712 -0.995897710323334*tan(0.0812886357307434*cos((x2-x3)) - 0.896194517612457)\n",
            "30.753225775610346 4.720158077994984 472015.80779949843 151.32847045149666 26.357800453240458 -1.08611023426056*tan(0.0828407034277916*cos((x2-x3)) - 0.85385400056839)\n",
            "30.747585135519138 4.719736347539081 471973.63475390815 159.7021233070881 26.35009663341723 tan(log((x0+x1) - 1.02496063709259*cos((x2-x3)))**0.258377015590668 - 0.267576843500137)\n",
            "30.78120353971138 4.688845058076648 468884.5058076648 173.71300547890158 25.791880474063174 -tan(0.763442099094391*(x0+x1)**(-1.28449666500092)*exp(cos((x2-x3))) - 1.00065922737122)\n",
            "30.764982349946436 4.678811458815961 467881.1458815961 216.39081054915374 25.61312642499056 tan(sin(2.69833493614973*exp((x0+x1)**(-1.10593783855438)*cos((x2-x3))) - 0.967151880264282) - 0.0478413589298725)\n"
          ]
        }
      ],
      "source": [
        "!cat /content/AI-Feynman/Code/results/solution_equation4.txt"
      ]
    },
    {
      "cell_type": "markdown",
      "metadata": {
        "id": "wlPb6mmUuiVx"
      },
      "source": [
        "Note in the cell above that the solution with the lowest error is the formula this data was generated from"
      ]
    },
    {
      "cell_type": "markdown",
      "metadata": {
        "id": "jEW676sLuyby"
      },
      "source": [
        "### Try our own dataset generation and equation learning"
      ]
    },
    {
      "cell_type": "markdown",
      "metadata": {
        "id": "dPhMWSuKvV-d"
      },
      "source": [
        "The code below generates our regression example dataset\n",
        "\n",
        "We generate points for 4 columns, where x0 is from the same equation as x1, and x2 is from the same equation as x3\n",
        "The last column is Y"
      ]
    },
    {
      "cell_type": "code",
      "execution_count": null,
      "metadata": {
        "id": "5y4iD0fvbFEz"
      },
      "outputs": [],
      "source": [
        "import os\n",
        "import random\n",
        "\n",
        "os.chdir(\"/content/AI-Feynman/example_data\")\n",
        "\n",
        "def getY(m,v,u,w):\n",
        "  y = 1/2*m*(v**2+u**2+w**2)\n",
        "  return y\n",
        "\n",
        "def getRow():\n",
        "  [m,v,u,w]=[random.random() for x in range(4)]\n",
        "  y=getY(m,v,u,w)\n",
        "  return str(m)+\" \"+str(v)+\" \"+str(u)+\" \"+str(w)+\" \"+str(y)+\"\\n\"\n",
        "\n",
        "with open(\"Examplec.txt\", \"w\") as f:\n",
        "  for _ in range(10000):\n",
        "    f.write(getRow())\n",
        "f.close()\n",
        "\n",
        "# switch back to the code directory\n",
        "os.chdir(\"/content/AI-Feynman/Code\")"
      ]
    },
    {
      "cell_type": "markdown",
      "metadata": {
        "id": "rffFg4OeEWzg"
      },
      "source": [
        "Let's look at our data"
      ]
    },
    {
      "cell_type": "code",
      "execution_count": null,
      "metadata": {
        "id": "EMHOxgMtmNCv"
      },
      "outputs": [],
      "source": [
        "!head -n 10 ../example_data/duplicateVarsExample.txt"
      ]
    },
    {
      "cell_type": "markdown",
      "metadata": {
        "id": "irYPRgZWxzp2"
      },
      "source": [
        "Let's also plot the data for x01 and x23 against Y"
      ]
    },
    {
      "cell_type": "code",
      "execution_count": null,
      "metadata": {
        "id": "0rhkKvDxnTTx"
      },
      "outputs": [],
      "source": [
        "%matplotlib inline\n",
        "import matplotlib.pyplot as plt\n",
        "import pandas as pd\n",
        "plt.style.use('seaborn-whitegrid')\n",
        "import numpy as np\n",
        "\n",
        "df=pd.read_csv(\"../example_data/duplicateVarsExample.txt\",sep=\" \",header=None)\n",
        "df.plot.scatter(x=0, y=4)\n",
        "df.plot.scatter(x=2, y=4)"
      ]
    },
    {
      "cell_type": "markdown",
      "metadata": {
        "id": "DHwDA3S7yXHa"
      },
      "source": [
        "Now we run the experiment, and go get more coffee, because this is not going to be fast..."
      ]
    },
    {
      "cell_type": "code",
      "execution_count": null,
      "metadata": {
        "colab": {
          "base_uri": "https://localhost:8080/"
        },
        "id": "r__k40topc3Q",
        "outputId": "c12136dc-9c56-444b-c12a-da70260cb1ee"
      },
      "outputs": [
        {
          "name": "stdout",
          "output_type": "stream",
          "text": [
            "Checking for brute force + \n",
            "\n",
            "Checking for brute force * \n",
            "\n",
            "Checking polyfit \n",
            "\n",
            "Complexity  RMSE  Expression\n",
            "[29.0, 7.068485265203357e-08, '3.000000000000+log(sqrt(exp((x2-x0))))']\n",
            "Checking for brute force + \n",
            "\n",
            "Checking for brute force * \n",
            "\n",
            "Checking polyfit \n",
            "\n",
            "Complexity  RMSE  Expression\n",
            "[29.0, 7.068485265203357e-08, '3.000000000000+log(sqrt(exp((x2-x0))))']\n",
            "Checking for brute force + \n",
            "\n",
            "Checking for brute force * \n",
            "\n",
            "Checking polyfit \n",
            "\n",
            "Complexity  RMSE  Expression\n",
            "[29.0, 7.068485265203357e-08, '3.000000000000+log(sqrt(exp((x2-x0))))']\n",
            "Checking for brute force + \n",
            "\n",
            "Checking for brute force * \n",
            "\n",
            "Checking polyfit \n",
            "\n",
            "Complexity  RMSE  Expression\n",
            "[29.0, 7.068485265203357e-08, '3.000000000000+log(sqrt(exp((x2-x0))))']\n",
            "Checking for brute force + \n",
            "\n",
            "Checking for brute force * \n",
            "\n",
            "Checking polyfit \n",
            "\n",
            "Complexity  RMSE  Expression\n",
            "[0.0, 28.417163061949132, '1/(666.000000000000+(sin(pi))**(-1))']\n",
            "[29.0, 7.068485265203357e-08, '3.000000000000+log(sqrt(exp((x2-x0))))']\n",
            "Checking for brute force + \n",
            "\n",
            "Checking for brute force * \n",
            "\n",
            "Checking polyfit \n",
            "\n",
            "Complexity  RMSE  Expression\n",
            "[0.0, 28.417163061949132, '1/(666.000000000000+(sin(pi))**(-1))']\n",
            "[29.0, 7.068485265203357e-08, '3.000000000000+log(sqrt(exp((x2-x0))))']\n",
            "Checking for brute force + \n",
            "\n",
            "Checking for brute force * \n",
            "\n",
            "Checking polyfit \n",
            "\n",
            "Complexity  RMSE  Expression\n",
            "[0.0, 28.417163061949132, '1/(666.000000000000+(sin(pi))**(-1))']\n",
            "[29.0, 7.068485265203357e-08, '3.000000000000+log(sqrt(exp((x2-x0))))']\n",
            "Checking for brute force + \n",
            "\n",
            "Checking for brute force * \n",
            "\n",
            "Checking polyfit \n",
            "\n",
            "Complexity  RMSE  Expression\n",
            "[0.0, 28.417163061949132, '1/(666.000000000000+(sin(pi))**(-1))']\n",
            "[29.0, 7.068485265203357e-08, '3.000000000000+log(sqrt(exp((x2-x0))))']\n",
            "Checking for brute force + \n",
            "\n",
            "Checking for brute force * \n",
            "\n",
            "Checking polyfit \n",
            "\n",
            "Complexity  RMSE  Expression\n",
            "[0.0, 28.417163061949132, '1/(666.000000000000+(sin(pi))**(-1))']\n",
            "[29.0, 7.068485265203357e-08, '3.000000000000+log(sqrt(exp((x2-x0))))']\n",
            "Checking for brute force + \n",
            "\n",
            "Checking for brute force * \n",
            "\n",
            "Checking polyfit \n",
            "\n",
            "Complexity  RMSE  Expression\n",
            "[0.0, 28.417163061949132, '1/(666.000000000000+(sin(pi))**(-1))']\n",
            "[29.0, 7.068485265203357e-08, '3.000000000000+log(sqrt(exp((x2-x0))))']\n",
            "Checking for symmetry \n",
            " duplicateVarsExample.txt_train\n",
            "Training a NN on the data... \n",
            "\n",
            "tensor(0.0118, grad_fn=<DivBackward0>)\n",
            "tensor(0.0040, grad_fn=<DivBackward0>)\n",
            "tensor(0.0058, grad_fn=<DivBackward0>)\n",
            "tensor(0.0035, grad_fn=<DivBackward0>)\n",
            "NN loss:  tensor(0.0012, grad_fn=<DivBackward0>) \n",
            "\n",
            "Checking for brute force + \n",
            "\n",
            "Checking for brute force * \n",
            "\n",
            "Checking polyfit \n",
            "\n",
            "Complexity  RMSE  Expression\n",
            "[16.0, 1000000, '-0.25*z0 - 0.25*z1 + 3.0']\n",
            "[46.111989875455116, 26.52571415869016, '-0.190121889114+pi']\n",
            "[52.345764846366144, 24.14265598043676, '2.119735145670+cos(x0)']\n",
            "[54.47723245125141, 23.24435060937782, '2.321973682548+((x0+1))**(-1)']\n",
            "[54.96043519589129, 20.849473454687324, '3.245755586202+(x0/((sin(pi)-1)-1))']\n",
            "[54.960435201608725, 20.84898048947422, '3.245755599065+(x0/(cos(pi)-1))']\n",
            "[98.46542512670095, 20.81995511452485, 3.24480938911438 - 0.499451756477356*x0]\n",
            "Checking for brute force + \n",
            "\n",
            "Checking for brute force * \n",
            "\n",
            "Checking polyfit \n",
            "\n",
            "Complexity  RMSE  Expression\n",
            "[16.0, 1000000, '-0.25*z0 - 0.25*z1 + 3.0']\n",
            "[21.381542951184585, 32.399164098831456, 'tan(-666.000000000000+exp(exp(pi)))']\n",
            "[46.111989875455116, 26.52571415869016, '-0.190121889114+pi']\n",
            "[46.82695420369591, 23.261925893803944, 1.24829669564191]\n",
            "[46.827035123254966, 23.25941866275727, 1.24836671352386]\n",
            "[54.47723245125141, 23.24435060937782, '2.321973682548+((x0+1))**(-1)']\n",
            "[54.96043519589129, 20.849473454687324, '3.245755586202+(x0/((sin(pi)-1)-1))']\n",
            "[54.960435201608725, 20.84898048947422, '3.245755599065+(x0/(cos(pi)-1))']\n",
            "[98.46542512670095, 20.81995511452485, 3.24480938911438 - 0.499451756477356*x0]\n",
            "[101.14855139638149, 18.926940010700353, -tan(0.0201062001287937*x0 + 2.23634071103481)]\n",
            "Checking for brute force + \n",
            "\n",
            "Checking for brute force * \n",
            "\n",
            "Checking polyfit \n",
            "\n",
            "Complexity  RMSE  Expression\n",
            "[16.0, 1000000, '-0.25*z0 - 0.25*z1 + 3.0']\n",
            "[21.381542951184585, 32.399164098831456, 'tan(-666.000000000000+exp(exp(pi)))']\n",
            "[46.111989875455116, 26.52571415869016, '-0.190121889114+pi']\n",
            "[46.82695420369591, 23.261925893803944, 1.24829669564191]\n",
            "[46.827035123254966, 23.25941866275727, 1.24836671352386]\n",
            "[54.47723245125141, 23.24435060937782, '2.321973682548+((x0+1))**(-1)']\n",
            "[54.96043519589129, 20.849473454687324, '3.245755586202+(x0/((sin(pi)-1)-1))']\n",
            "[54.960435201608725, 20.84898048947422, '3.245755599065+(x0/(cos(pi)-1))']\n",
            "[98.46542512670095, 20.81995511452485, 3.24480938911438 - 0.499451756477356*x0]\n",
            "[101.14855139638149, 18.926940010700353, -tan(0.0201062001287937*x0 + 2.23634071103481)]\n",
            "Checking for brute force + \n",
            "\n",
            "Checking for brute force * \n",
            "\n",
            "Checking polyfit \n",
            "\n",
            "Complexity  RMSE  Expression\n",
            "[16.0, 1000000, '-0.25*z0 - 0.25*z1 + 3.0']\n",
            "[21.381542951184585, 32.399164098831456, 'tan(-666.000000000000+exp(exp(pi)))']\n",
            "[46.111989875455116, 26.52571415869016, '-0.190121889114+pi']\n",
            "[46.82695420369591, 23.261925893803944, 1.24829669564191]\n",
            "[46.827035123254966, 23.25941866275727, 1.24836671352386]\n",
            "[54.47723245125141, 23.24435060937782, '2.321973682548+((x0+1))**(-1)']\n",
            "[54.96043519589129, 20.849473454687324, '3.245755586202+(x0/((sin(pi)-1)-1))']\n",
            "[54.960435201608725, 20.84898048947422, '3.245755599065+(x0/(cos(pi)-1))']\n",
            "[98.46542512670095, 20.81995511452485, 3.24480938911438 - 0.499451756477356*x0]\n",
            "[101.14855139638149, 18.926940010700353, -tan(0.0201062001287937*x0 + 2.23634071103481)]\n",
            "Checking for brute force + \n",
            "\n",
            "Checking for brute force * \n",
            "\n",
            "Checking polyfit \n",
            "\n",
            "Complexity  RMSE  Expression\n",
            "[0.0, 28.417302075993604, '1/(666.000000000000+(pi/sin(pi)))']\n",
            "[44.92590687766518, 23.415266578371384, 0.334230095148087]\n",
            "[44.926480502058716, 23.413248042793057, 0.334363013505936]\n",
            "[46.82695420369591, 23.261925893803944, 1.24829669564191]\n",
            "[46.827035123254966, 23.25941866275727, 1.24836671352386]\n",
            "[54.47723245125141, 23.24435060937782, '2.321973682548+((x0+1))**(-1)']\n",
            "[54.96043519589129, 20.849473454687324, '3.245755586202+(x0/((sin(pi)-1)-1))']\n",
            "[54.960435201608725, 20.84898048947422, '3.245755599065+(x0/(cos(pi)-1))']\n",
            "[98.46542512670095, 20.81995511452485, 3.24480938911438 - 0.499451756477356*x0]\n",
            "[101.14855139638149, 18.926940010700353, -tan(0.0201062001287937*x0 + 2.23634071103481)]\n",
            "Checking for brute force + \n",
            "\n",
            "Checking for brute force * \n",
            "\n",
            "Checking polyfit \n",
            "\n",
            "Complexity  RMSE  Expression\n",
            "[0.0, 28.417302075993604, '1/(666.000000000000+(pi/sin(pi)))']\n",
            "[44.92590687766518, 23.415266578371384, 0.334230095148087]\n",
            "[44.926480502058716, 23.413248042793057, 0.334363013505936]\n",
            "[46.82695420369591, 23.261925893803944, 1.24829669564191]\n",
            "[46.827035123254966, 23.25941866275727, 1.24836671352386]\n",
            "[54.47723245125141, 23.24435060937782, '2.321973682548+((x0+1))**(-1)']\n",
            "[54.96043519589129, 20.849473454687324, '3.245755586202+(x0/((sin(pi)-1)-1))']\n",
            "[54.960435201608725, 20.84898048947422, '3.245755599065+(x0/(cos(pi)-1))']\n",
            "[98.46542512670095, 20.81995511452485, 3.24480938911438 - 0.499451756477356*x0]\n",
            "[101.14855139638149, 18.926940010700353, -tan(0.0201062001287937*x0 + 2.23634071103481)]\n",
            "Checking for brute force + \n",
            "\n",
            "Checking for brute force * \n",
            "\n",
            "Checking polyfit \n",
            "\n",
            "Complexity  RMSE  Expression\n",
            "[0.0, 28.417302075993604, '1/(666.000000000000+(pi/sin(pi)))']\n",
            "[43.679454016359344, 26.561642464978146, 0.140872380389326]\n",
            "[44.92590687766518, 23.415266578371384, 0.334230095148087]\n",
            "[44.926480502058716, 23.413248042793057, 0.334363013505936]\n",
            "[46.82695420369591, 23.261925893803944, 1.24829669564191]\n",
            "[46.827035123254966, 23.25941866275727, 1.24836671352386]\n",
            "[53.20027448968575, 23.243005154639405, 'asin(0.202119603672*(x0*(x0+1)))']\n",
            "[54.96043519589129, 20.849473454687324, '3.245755586202+(x0/((sin(pi)-1)-1))']\n",
            "[54.960435201608725, 20.84898048947422, '3.245755599065+(x0/(cos(pi)-1))']\n",
            "[67.832933739513, 20.727179280342387, 'asin(-0.398998701561+(-log(sin(sin(((x0+1))**(-1))))))']\n",
            "[77.80255768402095, 20.561329074111722, 'asin(-0.106301903995+sin(((cos(sin(sqrt(x0))))**(-1)-1)))']\n",
            "[101.14855139638149, 18.926940010700353, -tan(0.0201062001287937*x0 + 2.23634071103481)]\n",
            "Checking for brute force + \n",
            "\n",
            "Checking for brute force * \n",
            "\n",
            "Checking polyfit \n",
            "\n",
            "Complexity  RMSE  Expression\n",
            "[0.0, 28.417302075993604, '1/(666.000000000000+(pi/sin(pi)))']\n",
            "[43.679454016359344, 26.561642464978146, 0.140872380389326]\n",
            "[44.92590687766518, 23.415266578371384, 0.334230095148087]\n",
            "[44.926480502058716, 23.413248042793057, 0.334363013505936]\n",
            "[46.82695420369591, 23.261925893803944, 1.24829669564191]\n",
            "[46.827035123254966, 23.25941866275727, 1.24836671352386]\n",
            "[53.20027448968575, 23.243005154639405, 'asin(0.202119603672*(x0*(x0+1)))']\n",
            "[54.96043519589129, 20.849473454687324, '3.245755586202+(x0/((sin(pi)-1)-1))']\n",
            "[54.960435201608725, 20.84898048947422, '3.245755599065+(x0/(cos(pi)-1))']\n",
            "[67.832933739513, 20.727179280342387, 'asin(-0.398998701561+(-log(sin(sin(((x0+1))**(-1))))))']\n",
            "[77.80255768402095, 20.561329074111722, 'asin(-0.106301903995+sin(((cos(sin(sqrt(x0))))**(-1)-1)))']\n",
            "[101.14855139638149, 18.926940010700353, -tan(0.0201062001287937*x0 + 2.23634071103481)]\n",
            "Checking for brute force + \n",
            "\n",
            "Checking for brute force * \n",
            "\n",
            "Checking polyfit \n",
            "\n",
            "Complexity  RMSE  Expression\n",
            "[0.0, 28.417302075993604, '1/(666.000000000000+(pi/sin(pi)))']\n",
            "[43.679454016359344, 26.561642464978146, 0.140872380389326]\n",
            "[44.92590687766518, 23.415266578371384, 0.334230095148087]\n",
            "[44.926480502058716, 23.413248042793057, 0.334363013505936]\n",
            "[46.82695420369591, 23.261925893803944, 1.24829669564191]\n",
            "[46.827035123254966, 23.25941866275727, 1.24836671352386]\n",
            "[53.20027448968575, 23.243005154639405, 'asin(0.202119603672*(x0*(x0+1)))']\n",
            "[54.96043519589129, 20.849473454687324, '3.245755586202+(x0/((sin(pi)-1)-1))']\n",
            "[54.960435201608725, 20.84898048947422, '3.245755599065+(x0/(cos(pi)-1))']\n",
            "[67.832933739513, 20.727179280342387, 'asin(-0.398998701561+(-log(sin(sin(((x0+1))**(-1))))))']\n",
            "[77.80255768402095, 20.561329074111722, 'asin(-0.106301903995+sin(((cos(sin(sqrt(x0))))**(-1)-1)))']\n",
            "[101.14855139638149, 18.926940010700353, -tan(0.0201062001287937*x0 + 2.23634071103481)]\n",
            "Checking for brute force + \n",
            "\n",
            "Checking for brute force * \n",
            "\n",
            "Checking polyfit \n",
            "\n",
            "Complexity  RMSE  Expression\n",
            "[0.0, 28.417302075993604, '1/(666.000000000000+(pi/sin(pi)))']\n",
            "[43.679454016359344, 26.561642464978146, 0.140872380389326]\n",
            "[44.92590687766518, 23.415266578371384, 0.334230095148087]\n",
            "[44.926480502058716, 23.413248042793057, 0.334363013505936]\n",
            "[46.82695420369591, 23.261925893803944, 1.24829669564191]\n",
            "[46.827035123254966, 23.25941866275727, 1.24836671352386]\n",
            "[53.20027448968575, 23.243005154639405, 'asin(0.202119603672*(x0*(x0+1)))']\n",
            "[54.96043519589129, 20.849473454687324, '3.245755586202+(x0/((sin(pi)-1)-1))']\n",
            "[54.960435201608725, 20.84898048947422, '3.245755599065+(x0/(cos(pi)-1))']\n",
            "[67.832933739513, 20.727179280342387, 'asin(-0.398998701561+(-log(sin(sin(((x0+1))**(-1))))))']\n",
            "[77.80255768402095, 20.561329074111722, 'asin(-0.106301903995+sin(((cos(sin(sqrt(x0))))**(-1)-1)))']\n",
            "[101.14855139638149, 18.926940010700353, -tan(0.0201062001287937*x0 + 2.23634071103481)]\n",
            "Checking for symmetry \n",
            " duplicateVarsExample.txt_train-add_a\n",
            "Training a NN on the data... \n",
            "\n",
            "tensor(0.0275, grad_fn=<DivBackward0>)\n",
            "tensor(0.0068, grad_fn=<DivBackward0>)\n",
            "tensor(0.0040, grad_fn=<DivBackward0>)\n",
            "tensor(0.0070, grad_fn=<DivBackward0>)\n",
            "NN loss:  tensor(0.0023, grad_fn=<DivBackward0>) \n",
            "\n",
            "Checking for brute force + \n",
            "\n",
            "Checking for brute force * \n",
            "\n",
            "Checking polyfit \n",
            "\n",
            "Complexity  RMSE  Expression\n",
            "[10.754887502163468, 26.58120778678551, '1.5*x0 + 1.5']\n",
            "[46.111989875455116, 26.52571415869016, '-0.190121889114+pi']\n",
            "Checking for brute force + \n",
            "\n",
            "Checking for brute force * \n",
            "\n",
            "Checking polyfit \n",
            "\n",
            "Complexity  RMSE  Expression\n",
            "[10.754887502163468, 26.58120778678551, '1.5*x0 + 1.5']\n",
            "[27.991183425621394, 25.055135225378933, 'tan(-666.000000000000+exp((pi+(exp(pi)+1))))']\n",
            "[46.82695420369591, 23.261925893803944, 1.24829669564191]\n",
            "[46.827035123254966, 23.25941866275727, 1.24836671352386]\n",
            "Checking for brute force + \n",
            "\n",
            "Checking for brute force * \n",
            "\n",
            "Checking polyfit \n",
            "\n",
            "Complexity  RMSE  Expression\n",
            "[10.754887502163468, 26.58120778678551, '1.5*x0 + 1.5']\n",
            "[27.991183425621394, 25.055135225378933, 'tan(-666.000000000000+exp((pi+(exp(pi)+1))))']\n",
            "[46.82695420369591, 23.261925893803944, 1.24829669564191]\n",
            "[46.827035123254966, 23.25941866275727, 1.24836671352386]\n",
            "Checking for brute force + \n",
            "\n",
            "Checking for brute force * \n",
            "\n",
            "Checking polyfit \n",
            "\n",
            "Complexity  RMSE  Expression\n",
            "[10.754887502163468, 26.58120778678551, '1.5*x0 + 1.5']\n",
            "[27.991183425621394, 25.055135225378933, 'tan(-666.000000000000+exp((pi+(exp(pi)+1))))']\n",
            "[46.82695420369591, 23.261925893803944, 1.24829669564191]\n",
            "[46.827035123254966, 23.25941866275727, 1.24836671352386]\n",
            "Checking for brute force + \n",
            "\n",
            "Checking for brute force * \n",
            "\n",
            "Checking polyfit \n",
            "\n",
            "Complexity  RMSE  Expression\n",
            "[0.0, 28.417302075993604, '1/(666.000000000000+(pi/sin(pi)))']\n",
            "[10.754887502163468, 26.58120778678551, '1.5*x0 + 1.5']\n",
            "[27.991183425621394, 25.055135225378933, 'tan(-666.000000000000+exp((pi+(exp(pi)+1))))']\n",
            "[44.92590687766518, 23.415266578371384, 0.334230095148087]\n",
            "[44.926480502058716, 23.413248042793057, 0.334363013505936]\n",
            "[46.82695420369591, 23.261925893803944, 1.24829669564191]\n",
            "[46.827035123254966, 23.25941866275727, 1.24836671352386]\n",
            "Checking for brute force + \n",
            "\n",
            "Checking for brute force * \n",
            "\n",
            "Checking polyfit \n",
            "\n",
            "Complexity  RMSE  Expression\n",
            "[0.0, 28.417302075993604, '1/(666.000000000000+(pi/sin(pi)))']\n",
            "[10.754887502163468, 26.58120778678551, '1.5*x0 + 1.5']\n",
            "[27.991183425621394, 25.055135225378933, 'tan(-666.000000000000+exp((pi+(exp(pi)+1))))']\n",
            "[44.92590687766518, 23.415266578371384, 0.334230095148087]\n",
            "[44.926480502058716, 23.413248042793057, 0.334363013505936]\n",
            "[46.82695420369591, 23.261925893803944, 1.24829669564191]\n",
            "[46.827035123254966, 23.25941866275727, 1.24836671352386]\n",
            "Checking for brute force + \n",
            "\n",
            "Checking for brute force * \n",
            "\n",
            "Checking polyfit \n",
            "\n",
            "Complexity  RMSE  Expression\n",
            "[0.0, 28.417302075993604, '1/(666.000000000000+(pi/sin(pi)))']\n",
            "[10.754887502163468, 26.58120778678551, '1.5*x0 + 1.5']\n",
            "[27.991183425621394, 25.055135225378933, 'tan(-666.000000000000+exp((pi+(exp(pi)+1))))']\n",
            "[44.92590687766518, 23.415266578371384, 0.334230095148087]\n",
            "[44.926480502058716, 23.413248042793057, 0.334363013505936]\n",
            "[46.82695420369591, 23.261925893803944, 1.24829669564191]\n",
            "[46.827035123254966, 23.25941866275727, 1.24836671352386]\n",
            "Checking for brute force + \n",
            "\n",
            "Checking for brute force * \n",
            "\n",
            "Checking polyfit \n",
            "\n",
            "Complexity  RMSE  Expression\n",
            "[0.0, 28.417302075993604, '1/(666.000000000000+(pi/sin(pi)))']\n",
            "[10.754887502163468, 26.58120778678551, '1.5*x0 + 1.5']\n",
            "[27.991183425621394, 25.055135225378933, 'tan(-666.000000000000+exp((pi+(exp(pi)+1))))']\n",
            "[44.92590687766518, 23.415266578371384, 0.334230095148087]\n",
            "[44.926480502058716, 23.413248042793057, 0.334363013505936]\n",
            "[46.82695420369591, 23.261925893803944, 1.24829669564191]\n",
            "[46.827035123254966, 23.25941866275727, 1.24836671352386]\n",
            "Checking for brute force + \n",
            "\n",
            "Checking for brute force * \n",
            "\n",
            "Checking polyfit \n",
            "\n",
            "Complexity  RMSE  Expression\n",
            "[0.0, 28.417302075993604, '1/(666.000000000000+(pi/sin(pi)))']\n",
            "[10.754887502163468, 26.58120778678551, '1.5*x0 + 1.5']\n",
            "[27.991183425621394, 25.055135225378933, 'tan(-666.000000000000+exp((pi+(exp(pi)+1))))']\n",
            "[44.92590687766518, 23.415266578371384, 0.334230095148087]\n",
            "[44.926480502058716, 23.413248042793057, 0.334363013505936]\n",
            "[46.82695420369591, 23.261925893803944, 1.24829669564191]\n",
            "[46.827035123254966, 23.25941866275727, 1.24836671352386]\n",
            "Checking for brute force + \n",
            "\n",
            "Checking for brute force * \n",
            "\n",
            "Checking polyfit \n",
            "\n",
            "Complexity  RMSE  Expression\n",
            "[0.0, 26.86244459480529, 'atan(666.000000000000*sin(pi))']\n",
            "[10.754887502163468, 26.58120778678551, '1.5*x0 + 1.5']\n",
            "[27.991183425621394, 25.055135225378933, 'tan(-666.000000000000+exp((pi+(exp(pi)+1))))']\n",
            "[44.92590687766518, 23.415266578371384, 0.334230095148087]\n",
            "[44.926480502058716, 23.413248042793057, 0.334363013505936]\n",
            "[46.82695420369591, 23.261925893803944, 1.24829669564191]\n",
            "[46.827035123254966, 23.25941866275727, 1.24836671352386]\n",
            "Checking for symmetry \n",
            " duplicateVarsExample.txt_train-add_a-translated_divide\n",
            "Just one variable!\n",
            "duplicateVarsExample.txt_train-add_a-translated_divide just one variable for ADD \n",
            "\n",
            "duplicateVarsExample.txt_train-add_a-translated_divide just one variable for ADD \n",
            "\n",
            "duplicateVarsExample.txt_train-add_a-translated_divide just one variable for ADD \n",
            "\n",
            "duplicateVarsExample.txt_train-add_a-translated_divide just one variable for ADD \n",
            "\n",
            "duplicateVarsExample.txt_train-add_a-translated_divide just one variable for ADD\n",
            "duplicateVarsExample.txt_train-add_a-translated_divide just one variable for ADD\n",
            "Checking for brute force + \n",
            "\n",
            "Checking for brute force * \n",
            "\n",
            "Checking polyfit \n",
            "\n",
            "Complexity  RMSE  Expression\n",
            "[36.0938331163849, 26.55463262893464, 0.000733375549316406]\n",
            "[45.57575192915312, 26.28607662947571, 0.131101727485657*x0]\n",
            "[50.131792126776965, 26.146722041033108, sin(x0) - 0.456887632608414]\n",
            "[50.17806271064073, 26.093704664320935, '-0.471778598660+sin(x0)']\n",
            "[50.80332458305071, 25.36213044308748, '0.242571380637*(x0*x0)']\n",
            "[51.58508103985004, 25.04494914780952, '-0.156387836150+(x0/pi)']\n",
            "[53.13789305542357, 22.711131129214017, '-0.229411914517+(x0/(pi-1))']\n",
            "[56.19441105683863, 21.877064514371003, '0.805199247118+log(log(log((pi+exp(x0)))))']\n",
            "[60.128529091957546, 21.730114941614957, '-0.504139635631*sin((x0+(pi*sin((pi-1)))))']\n",
            "[61.06623733439405, 21.713672918099263, '-0.241417728867+(x0/sqrt((pi+1)))']\n",
            "[61.991464711628055, 21.623366319779937, '-0.245653445415+log(sqrt(exp(x0)))']\n",
            "[101.60297010360914, 21.62005630157757, log(exp(x0)**0.49825444817543) - 0.247309297323227]\n",
            "[103.74899618290516, 21.61455590672052, -0.507628083229065*cos(x0 + 1.07439557029713)]\n",
            "[147.55287026292595, 21.574233995890427, 0.290767163038254*x0 + 0.288200289011002*sin(sin(x0) - 0.999424755573273)]\n",
            "[150.1715562733069, 21.568544743062926, -0.44830858707428*cos(1.14489344538547*x0 + 1.00219166278839)]\n",
            "Checking for brute force + \n",
            "\n",
            "Checking for brute force * \n",
            "\n",
            "Checking polyfit \n",
            "\n",
            "Complexity  RMSE  Expression\n",
            "[1.0, 29.13896123799, 1.00000000000000]\n",
            "[36.0938331163849, 26.55463262893464, 0.000733375549316406]\n",
            "[45.57575192915312, 26.28607662947571, 0.131101727485657*x0]\n",
            "[50.131792126776965, 26.146722041033108, sin(x0) - 0.456887632608414]\n",
            "[50.17806271064073, 26.093704664320935, '-0.471778598660+sin(x0)']\n",
            "[50.80332458305071, 25.36213044308748, '0.242571380637*(x0*x0)']\n",
            "[51.58508103985004, 25.04494914780952, '-0.156387836150+(x0/pi)']\n",
            "[53.13789305542357, 22.711131129214017, '-0.229411914517+(x0/(pi-1))']\n",
            "[56.19441105683863, 21.877064514371003, '0.805199247118+log(log(log((pi+exp(x0)))))']\n",
            "[60.128529091957546, 21.730114941614957, '-0.504139635631*sin((x0+(pi*sin((pi-1)))))']\n",
            "[61.06623733439405, 21.713672918099263, '-0.241417728867+(x0/sqrt((pi+1)))']\n",
            "[61.991464711628055, 21.623366319779937, '-0.245653445415+log(sqrt(exp(x0)))']\n",
            "[101.60297010360914, 21.62005630157757, log(exp(x0)**0.49825444817543) - 0.247309297323227]\n",
            "[103.74899618290516, 21.61455590672052, -0.507628083229065*cos(x0 + 1.07439557029713)]\n",
            "[147.55287026292595, 21.574233995890427, 0.290767163038254*x0 + 0.288200289011002*sin(sin(x0) - 0.999424755573273)]\n",
            "[150.1715562733069, 21.568544743062926, -0.44830858707428*cos(1.14489344538547*x0 + 1.00219166278839)]\n",
            "Checking for brute force + \n",
            "\n",
            "Checking for brute force * \n",
            "\n",
            "Checking polyfit \n",
            "\n",
            "Complexity  RMSE  Expression\n",
            "[1.0, 29.13896123799, 1.00000000000000]\n",
            "[23.05958486796149, 26.55628787162993, 'sin(-3.141592741013+pi)']\n",
            "[36.0938331163849, 26.55463262893464, 0.000733375549316406]\n",
            "[45.57575192915312, 26.28607662947571, 0.131101727485657*x0]\n",
            "[49.23267003766413, 26.26762855113632, 'sin(0.244989055742*x0)']\n",
            "[50.131792126776965, 26.146722041033108, sin(x0) - 0.456887632608414]\n",
            "[50.13559865777674, 26.094751711994977, sin(sin(x0) - 0.458094716072083)]\n",
            "[50.17806271064073, 26.04915916485436, 'sin(-0.471778598660+sin(x0))']\n",
            "[50.80332458305071, 25.36213044308748, '0.242571380637*(x0*x0)']\n",
            "[51.58508103985004, 25.04494914780952, '-0.156387836150+(x0/pi)']\n",
            "[53.13789305542357, 22.711131129214017, '-0.229411914517+(x0/(pi-1))']\n",
            "[56.19441105683863, 21.877064514371003, '0.805199247118+log(log(log((pi+exp(x0)))))']\n",
            "[57.06808520043133, 21.834950582779808, 'sin(-0.241727145222+(x0*sin(sin(cos(cos(pi))))))']\n",
            "[60.128529091957546, 21.730114941614957, '-0.504139635631*sin((x0+(pi*sin((pi-1)))))']\n",
            "[61.06623733439405, 21.713672918099263, '-0.241417728867+(x0/sqrt((pi+1)))']\n",
            "[61.991464711628055, 21.623366319779937, '-0.245653445415+log(sqrt(exp(x0)))']\n",
            "[101.60297010360914, 21.62005630157757, log(exp(x0)**0.49825444817543) - 0.247309297323227]\n",
            "[103.74899618290516, 21.61455590672052, -0.507628083229065*cos(x0 + 1.07439557029713)]\n",
            "[147.55287026292595, 21.574233995890427, 0.290767163038254*x0 + 0.288200289011002*sin(sin(x0) - 0.999424755573273)]\n",
            "[150.1715562733069, 21.568544743062926, -0.44830858707428*cos(1.14489344538547*x0 + 1.00219166278839)]\n",
            "Checking for brute force + \n",
            "\n",
            "Checking for brute force * \n",
            "\n",
            "Checking polyfit \n",
            "\n",
            "Complexity  RMSE  Expression\n",
            "[1.0, 29.13896123799, 1.00000000000000]\n",
            "[23.05958486796149, 26.55628787162993, 'sin(-3.141592741013+pi)']\n",
            "[23.059584867961497, 26.541374445849623, 'tan(-3.141592741013+pi)']\n",
            "[45.57575192915312, 26.28607662947571, 0.131101727485657*x0]\n",
            "[48.31124898432042, 26.265929448869993, tan(0.129351451992989*x0)]\n",
            "[50.131792126776965, 26.146722041033108, sin(x0) - 0.456887632608414]\n",
            "[50.13559865777674, 26.094751711994977, sin(sin(x0) - 0.458094716072083)]\n",
            "[50.17806271064073, 26.04915916485436, 'sin(-0.471778598660+sin(x0))']\n",
            "[50.80332458305071, 25.36213044308748, '0.242571380637*(x0*x0)']\n",
            "[51.58508103985004, 25.04494914780952, '-0.156387836150+(x0/pi)']\n",
            "[53.13789305542357, 22.711131129214017, '-0.229411914517+(x0/(pi-1))']\n",
            "[56.19441105683863, 21.877064514371003, '0.805199247118+log(log(log((pi+exp(x0)))))']\n",
            "[57.06808520043133, 21.834950582779808, 'sin(-0.241727145222+(x0*sin(sin(cos(cos(pi))))))']\n",
            "[60.128529091957546, 21.730114941614957, '-0.504139635631*sin((x0+(pi*sin((pi-1)))))']\n",
            "[61.06623733439405, 21.713672918099263, '-0.241417728867+(x0/sqrt((pi+1)))']\n",
            "[61.991464711628055, 21.623366319779937, '-0.245653445415+log(sqrt(exp(x0)))']\n",
            "[64.87326936884726, 21.107845537121925, 'tan(-0.226330204688+(x0/(pi-cos((cos(log(x0))-1)))))']\n",
            "[256.0407598287253, 21.092340691593403, tan(x0*(3.14144492149353 - 1.00010001659393*cos(cos(log(x0)) - 1.00010192394257))**(-0.999759674072266) - 0.226004019379616)]\n",
            "Checking for brute force + \n",
            "\n",
            "Checking for brute force * \n",
            "\n",
            "Checking polyfit \n",
            "\n",
            "Complexity  RMSE  Expression\n",
            "[1.0, 29.13896123799, 1.00000000000000]\n",
            "[23.05958486796149, 26.55628787162993, 'sin(-3.141592741013+pi)']\n",
            "[23.059584867961497, 26.541374445849623, 'tan(-3.141592741013+pi)']\n",
            "[45.57575192915312, 26.28607662947571, 0.131101727485657*x0]\n",
            "[46.491967917867115, 22.696776318566315, 0.989639225493448]\n",
            "[56.19441105683863, 21.877064514371003, '0.805199247118+log(log(log((pi+exp(x0)))))']\n",
            "[57.06808520043133, 21.834950582779808, 'sin(-0.241727145222+(x0*sin(sin(cos(cos(pi))))))']\n",
            "[60.128529091957546, 21.730114941614957, '-0.504139635631*sin((x0+(pi*sin((pi-1)))))']\n",
            "[61.06623733439405, 21.713672918099263, '-0.241417728867+(x0/sqrt((pi+1)))']\n",
            "[61.991464711628055, 21.623366319779937, '-0.245653445415+log(sqrt(exp(x0)))']\n",
            "[64.87326936884726, 21.107845537121925, 'tan(-0.226330204688+(x0/(pi-cos((cos(log(x0))-1)))))']\n",
            "[256.0407598287253, 21.092340691593403, tan(x0*(3.14144492149353 - 1.00010001659393*cos(cos(log(x0)) - 1.00010192394257))**(-0.999759674072266) - 0.226004019379616)]\n",
            "Checking for brute force + \n",
            "\n",
            "Checking for brute force * \n",
            "\n",
            "Checking polyfit \n",
            "\n",
            "Complexity  RMSE  Expression\n",
            "[1.0, 29.13896123799, 1.00000000000000]\n",
            "[23.05958486796149, 26.55628787162993, 'sin(-3.141592741013+pi)']\n",
            "[23.059584867961497, 26.541374445849623, 'tan(-3.141592741013+pi)']\n",
            "[45.57575192915312, 26.28607662947571, 0.131101727485657*x0]\n",
            "[46.491967917867115, 22.696776318566315, 0.989639225493448]\n",
            "[56.19441105683863, 21.877064514371003, '0.805199247118+log(log(log((pi+exp(x0)))))']\n",
            "[57.06808520043133, 21.834950582779808, 'sin(-0.241727145222+(x0*sin(sin(cos(cos(pi))))))']\n",
            "[60.128529091957546, 21.730114941614957, '-0.504139635631*sin((x0+(pi*sin((pi-1)))))']\n",
            "[61.06623733439405, 21.713672918099263, '-0.241417728867+(x0/sqrt((pi+1)))']\n",
            "[61.991464711628055, 21.623366319779937, '-0.245653445415+log(sqrt(exp(x0)))']\n",
            "[64.87326936884726, 21.107845537121925, 'tan(-0.226330204688+(x0/(pi-cos((cos(log(x0))-1)))))']\n",
            "[256.0407598287253, 21.092340691593403, tan(x0*(3.14144492149353 - 1.00010001659393*cos(cos(log(x0)) - 1.00010192394257))**(-0.999759674072266) - 0.226004019379616)]\n",
            "Checking for brute force + \n",
            "\n",
            "Checking for brute force * \n",
            "\n",
            "Checking polyfit \n",
            "\n",
            "Complexity  RMSE  Expression\n",
            "[1.0, 29.13896123799, 1.00000000000000]\n",
            "[23.05958486796149, 26.55628787162993, 'sin(-3.141592741013+pi)']\n",
            "[23.059584867961497, 26.541374445849623, 'tan(-3.141592741013+pi)']\n",
            "[45.57575192915312, 26.28607662947571, 0.131101727485657*x0]\n",
            "[46.491967917867115, 22.696776318566315, 0.989639225493448]\n",
            "[56.19441105683863, 21.877064514371003, '0.805199247118+log(log(log((pi+exp(x0)))))']\n",
            "[57.06808520043133, 21.834950582779808, 'sin(-0.241727145222+(x0*sin(sin(cos(cos(pi))))))']\n",
            "[60.128529091957546, 21.730114941614957, '-0.504139635631*sin((x0+(pi*sin((pi-1)))))']\n",
            "[61.06623733439405, 21.713672918099263, '-0.241417728867+(x0/sqrt((pi+1)))']\n",
            "[61.991464711628055, 21.623366319779937, '-0.245653445415+log(sqrt(exp(x0)))']\n",
            "[64.87326936884726, 21.107845537121925, 'tan(-0.226330204688+(x0/(pi-cos((cos(log(x0))-1)))))']\n",
            "[256.0407598287253, 21.092340691593403, tan(x0*(3.14144492149353 - 1.00010001659393*cos(cos(log(x0)) - 1.00010192394257))**(-0.999759674072266) - 0.226004019379616)]\n",
            "Checking for brute force + \n",
            "\n",
            "Checking for brute force * \n",
            "\n",
            "Checking polyfit \n",
            "\n",
            "Complexity  RMSE  Expression\n",
            "[1.0, 29.13896123799, 1.00000000000000]\n",
            "[23.05958486796149, 26.55628787162993, 'sin(-3.141592741013+pi)']\n",
            "[23.059584867961497, 26.541374445849623, 'tan(-3.141592741013+pi)']\n",
            "[45.57575192915312, 26.28607662947571, 0.131101727485657*x0]\n",
            "[46.491967917867115, 22.696776318566315, 0.989639225493448]\n",
            "[56.19441105683863, 21.877064514371003, '0.805199247118+log(log(log((pi+exp(x0)))))']\n",
            "[57.06808520043133, 21.834950582779808, 'sin(-0.241727145222+(x0*sin(sin(cos(cos(pi))))))']\n",
            "[59.80405153127544, 21.72012670160854, 'asin(0.805199247118+log(log(log((pi+exp(x0))))))']\n",
            "[61.06623733439405, 21.713672918099263, '-0.241417728867+(x0/sqrt((pi+1)))']\n",
            "[61.991464711628055, 21.623366319779937, '-0.245653445415+log(sqrt(exp(x0)))']\n",
            "[64.87326936884726, 21.107845537121925, 'tan(-0.226330204688+(x0/(pi-cos((cos(log(x0))-1)))))']\n",
            "[256.0407598287253, 21.092340691593403, tan(x0*(3.14144492149353 - 1.00010001659393*cos(cos(log(x0)) - 1.00010192394257))**(-0.999759674072266) - 0.226004019379616)]\n",
            "Checking for brute force + \n",
            "\n",
            "Checking for brute force * \n",
            "\n",
            "Checking polyfit \n",
            "\n",
            "Complexity  RMSE  Expression\n",
            "[0.0, 23.105103126094672, 'sqrt(-1.000000000000+((x0+1)-x0))']\n",
            "[35.29593637118183, 23.078725803200104, 'sqrt(0.000000177939+(sin(pi)/x0))']\n",
            "[46.491967917867115, 22.696776318566315, 0.989639225493448]\n",
            "[56.19441105683863, 21.877064514371003, '0.805199247118+log(log(log((pi+exp(x0)))))']\n",
            "[57.06808520043133, 21.834950582779808, 'sin(-0.241727145222+(x0*sin(sin(cos(cos(pi))))))']\n",
            "[59.80405153127544, 21.72012670160854, 'asin(0.805199247118+log(log(log((pi+exp(x0))))))']\n",
            "[61.06623733439405, 21.713672918099263, '-0.241417728867+(x0/sqrt((pi+1)))']\n",
            "[61.991464711628055, 21.623366319779937, '-0.245653445415+log(sqrt(exp(x0)))']\n",
            "[64.87326936884726, 21.107845537121925, 'tan(-0.226330204688+(x0/(pi-cos((cos(log(x0))-1)))))']\n",
            "[256.0407598287253, 21.092340691593403, tan(x0*(3.14144492149353 - 1.00010001659393*cos(cos(log(x0)) - 1.00010192394257))**(-0.999759674072266) - 0.226004019379616)]\n",
            "Checking for brute force + \n",
            "\n",
            "Checking for brute force * \n",
            "\n",
            "Checking polyfit \n",
            "\n",
            "Complexity  RMSE  Expression\n",
            "[0.0, 23.105103126094672, 'sqrt(-1.000000000000+((x0+1)-x0))']\n",
            "[35.29593637118183, 23.078725803200104, 'sqrt(0.000000177939+(sin(pi)/x0))']\n",
            "[46.491967917867115, 22.696776318566315, 0.989639225493448]\n",
            "[56.19441105683863, 21.877064514371003, '0.805199247118+log(log(log((pi+exp(x0)))))']\n",
            "[57.06808520043133, 21.834950582779808, 'sin(-0.241727145222+(x0*sin(sin(cos(cos(pi))))))']\n",
            "[59.80405153127544, 21.72012670160854, 'asin(0.805199247118+log(log(log((pi+exp(x0))))))']\n",
            "[61.06623733439405, 21.713672918099263, '-0.241417728867+(x0/sqrt((pi+1)))']\n",
            "[61.991464711628055, 21.623366319779937, '-0.245653445415+log(sqrt(exp(x0)))']\n",
            "[64.87326936884726, 21.107845537121925, 'tan(-0.226330204688+(x0/(pi-cos((cos(log(x0))-1)))))']\n",
            "[256.0407598287253, 21.092340691593403, tan(x0*(3.14144492149353 - 1.00010001659393*cos(cos(log(x0)) - 1.00010192394257))**(-0.999759674072266) - 0.226004019379616)]\n",
            "Checking for symmetry \n",
            " duplicateVarsExample.txt_train-add_b\n",
            "Training a NN on the data... \n",
            "\n",
            "tensor(0.2621, grad_fn=<DivBackward0>)\n",
            "tensor(0.0837, grad_fn=<DivBackward0>)\n",
            "tensor(0.0313, grad_fn=<DivBackward0>)\n",
            "tensor(0.0091, grad_fn=<DivBackward0>)\n",
            "NN loss:  tensor(0.0054, grad_fn=<DivBackward0>) \n",
            "\n",
            "Checking for brute force + \n",
            "\n",
            "Checking for brute force * \n",
            "\n",
            "Checking polyfit \n",
            "\n",
            "Complexity  RMSE  Expression\n",
            "[0.0, 26.550399928140504, '0.0']\n",
            "Checking for brute force + \n",
            "\n",
            "Checking for brute force * \n",
            "\n",
            "Checking polyfit \n",
            "\n",
            "Complexity  RMSE  Expression\n",
            "[0.0, 26.550399928140504, '0.0']\n",
            "Checking for brute force + \n",
            "\n",
            "Checking for brute force * \n",
            "\n",
            "Checking polyfit \n",
            "\n",
            "Complexity  RMSE  Expression\n",
            "[0.0, 26.550399928140504, '0.0']\n",
            "Checking for brute force + \n",
            "\n",
            "Checking for brute force * \n",
            "\n",
            "Checking polyfit \n",
            "\n",
            "Complexity  RMSE  Expression\n",
            "[0.0, 26.540556036413385, 'tan(0.0)']\n",
            "Checking for brute force + \n",
            "\n",
            "Checking for brute force * \n",
            "\n",
            "Checking polyfit \n",
            "\n",
            "Complexity  RMSE  Expression\n",
            "[0.0, 26.540556036413385, 'tan(0.0)']\n",
            "[24.088409285113446, 22.696411838431025, 0.989634864641459]\n",
            "[46.49195419521098, 22.696044536650252, 0.989629812267632]\n",
            "Checking for brute force + \n",
            "\n",
            "Checking for brute force * \n",
            "\n",
            "Checking polyfit \n",
            "\n",
            "Complexity  RMSE  Expression\n",
            "[0.0, 26.540556036413385, 'tan(0.0)']\n",
            "[24.088409285113446, 22.696411838431025, 0.989634864641459]\n",
            "[46.49195419521098, 22.696044536650252, 0.989629812267632]\n",
            "Checking for brute force + \n",
            "\n",
            "Checking for brute force * \n",
            "\n",
            "Checking polyfit \n",
            "\n",
            "Complexity  RMSE  Expression\n",
            "[0.0, 26.540556036413385, 'tan(0.0)']\n",
            "[24.088409285113446, 22.696411838431025, 0.989634864641459]\n",
            "[46.49195419521098, 22.696044536650252, 0.989629812267632]\n",
            "Checking for brute force + \n",
            "\n",
            "Checking for brute force * \n",
            "\n",
            "Checking polyfit \n",
            "\n",
            "Complexity  RMSE  Expression\n",
            "[0.0, 26.540556036413385, 'tan(0.0)']\n",
            "[24.088409285113446, 22.696411838431025, 0.989634864641459]\n",
            "[46.49195419521098, 22.696044536650252, 0.989629812267632]\n",
            "Checking for brute force + \n",
            "\n",
            "Checking for brute force * \n",
            "\n",
            "Checking polyfit \n",
            "\n",
            "Complexity  RMSE  Expression\n",
            "[0.0, 26.540556036413385, 'tan(0.0)']\n",
            "[24.088409285113446, 22.696411838431025, 0.989634864641459]\n",
            "[46.49195419521098, 22.696044536650252, 0.989629812267632]\n",
            "Checking for brute force + \n",
            "\n",
            "Checking for brute force * \n",
            "\n",
            "Checking polyfit \n",
            "\n",
            "Complexity  RMSE  Expression\n",
            "[0.0, 26.540556036413385, 'tan(0.0)']\n",
            "[24.088409285113446, 22.696411838431025, 0.989634864641459]\n",
            "[46.49195419521098, 22.696044536650252, 0.989629812267632]\n",
            "Checking for symmetry \n",
            " duplicateVarsExample.txt_train-add_b-translated_divide\n",
            "Just one variable!\n",
            "duplicateVarsExample.txt_train-add_b-translated_divide just one variable for ADD \n",
            "\n",
            "duplicateVarsExample.txt_train-add_b-translated_divide just one variable for ADD \n",
            "\n",
            "duplicateVarsExample.txt_train-add_b-translated_divide just one variable for ADD \n",
            "\n",
            "duplicateVarsExample.txt_train-add_b-translated_divide just one variable for ADD \n",
            "\n",
            "duplicateVarsExample.txt_train-add_b-translated_divide just one variable for ADD\n",
            "duplicateVarsExample.txt_train-add_b-translated_divide just one variable for ADD\n"
          ]
        }
      ],
      "source": [
        "from S_run_aifeynman import run_aifeynman\n",
        "run_aifeynman(\"/content/AI-Feynman/example_data/\",\"duplicateVarsExample.txt\",30,\"14ops.txt\", polyfit_deg=3, NN_epochs=400)"
      ]
    },
    {
      "cell_type": "markdown",
      "metadata": {
        "id": "N68vBSQS23lc"
      },
      "source": [
        "Initial models quickly mapped to x0 and x2 (the system realized x1 and x3 are duplicates and so not needed)\n",
        "\n",
        "Later on the system found 3.000000000000+log(sqrt(exp((x2-x1)))) which is a bit crazy but looks like a plane\n",
        "\n",
        "We can see on Wolfram alpha that an equivalent form of this equation is:\n",
        "\n",
        "(x2 - x1)/2 + 3.000000000000 \n",
        "\n",
        "which is what we used to generate the dataset!\n",
        "\n",
        "Link: https://www.wolframalpha.com/input/?i=3.000000000000%2Blog%28sqrt%28exp%28%28x2-x1%29%29%29%29"
      ]
    },
    {
      "cell_type": "code",
      "execution_count": null,
      "metadata": {
        "colab": {
          "base_uri": "https://localhost:8080/"
        },
        "id": "YSnT1Gg03BST",
        "outputId": "8730eede-f196-40d3-e204-75be9a06bd0e"
      },
      "outputs": [
        {
          "name": "stdout",
          "output_type": "stream",
          "text": [
            "total 88\n",
            "drwxr-xr-x 2 root root 4096 May 23 13:33 mystery_world_acos\n",
            "drwxr-xr-x 2 root root 4096 May 23 13:34 mystery_world_asin\n",
            "drwxr-xr-x 2 root root 4096 May 23 13:35 mystery_world_atan\n",
            "drwxr-xr-x 2 root root 4096 May 23 13:36 mystery_world_cos\n",
            "drwxr-xr-x 2 root root 4096 May 23 13:37 mystery_world_exp\n",
            "drwxr-xr-x 2 root root 4096 May 23 13:38 mystery_world_inverse\n",
            "drwxr-xr-x 2 root root 4096 May 23 13:39 mystery_world_log\n",
            "drwxr-xr-x 2 root root 4096 May 23 13:39 mystery_world_sin\n",
            "drwxr-xr-x 2 root root 4096 May 23 13:40 mystery_world_sqrt\n",
            "drwxr-xr-x 2 root root 4096 May 23 13:40 mystery_world_squared\n",
            "drwxr-xr-x 2 root root 4096 May 23 13:41 mystery_world_tan\n",
            "drwxr-xr-x 3 root root 4096 May 23 11:55 NN_trained_models\n",
            "drwxr-xr-x 2 root root 4096 May 23 12:58 separable_add\n",
            "-rw-r--r-- 1 root root  258 May 23 13:42 solution_before_snap_duplicateVarsExample.txt.txt\n",
            "-rw-r--r-- 1 root root  160 May 23 12:47 solution_before_snap_example1.txt.txt\n",
            "-rw-r--r-- 1 root root  493 May 23 13:42 solution_duplicateVarsExample.txt\n",
            "-rw-r--r-- 1 root root  284 May 23 12:47 solution_example1.txt\n",
            "-rw-r--r-- 1 root root  258 May 23 13:42 solution_first_snap_duplicateVarsExample.txt.txt\n",
            "-rw-r--r-- 1 root root  160 May 23 12:47 solution_first_snap_example1.txt.txt\n",
            "drwxr-xr-x 2 root root 4096 May 23 13:32 translated_data_divide\n",
            "drwxr-xr-x 2 root root 4096 May 23 12:18 translated_data_minus\n",
            "drwxr-xr-x 2 root root 4096 May 23 12:33 translated_data_multiply\n"
          ]
        }
      ],
      "source": [
        "!ls -l /content/AI-Feynman/Code/results/"
      ]
    },
    {
      "cell_type": "code",
      "execution_count": null,
      "metadata": {
        "colab": {
          "base_uri": "https://localhost:8080/"
        },
        "id": "rfPnJPCaA6WW",
        "outputId": "867a77a3-f449-4414-93f6-0d79333f8b31"
      },
      "outputs": [
        {
          "name": "stdout",
          "output_type": "stream",
          "text": [
            "31.581778404445394 4.828690629737295 48286.90629737295 0.0 28.417163061949132 1/(666.000000000000+(sin(pi))**(-1))\n",
            "26.833966784432945 4.746480350409578 47464.80350409578 2.0 26.84311792531227 3.00000000000000\n",
            "26.833966784432945 4.746185194393747 47461.85194393747 10.754887502163468 26.837626745880836 (1.5*(x0/x1) + 1.5)+(sqrt(-1.000000000000+((x2+1)-x2)))\n",
            "3.1042861079542714e-08 -24.9387673881546 -249387.67388154598 24.651484454403228 3.109445586250041e-08 0.5*log(exp(-1.0*x0 + x2)) + 3.0\n"
          ]
        }
      ],
      "source": [
        "!cat /content/AI-Feynman/Code/results/solution_duplicateVarsExample.txt"
      ]
    },
    {
      "cell_type": "markdown",
      "metadata": {
        "id": "Lr7TWHpdAzKP"
      },
      "source": [
        "The solver settled on *log(sqrt(exp(-x1 + x3))) + 3.0* which we know is correct\n",
        "\n",
        "Now, that was a bit of a softball problem as it has an exact solution. Let's now add noise to the dataset and see how the library holds up"
      ]
    },
    {
      "cell_type": "markdown",
      "metadata": {
        "id": "BBx752pb3gA6"
      },
      "source": [
        "### Let's add small amount of noise to every variabe and see the fit quality"
      ]
    },
    {
      "cell_type": "markdown",
      "metadata": {
        "id": "sxD1DilJBf2a"
      },
      "source": [
        "We do the same thing as before, but now we add or subtract noise to x0,x1,x2,x3 after generating y"
      ]
    },
    {
      "cell_type": "code",
      "execution_count": null,
      "metadata": {
        "id": "nEWAmNke3nuM"
      },
      "outputs": [],
      "source": [
        "import os\n",
        "import random\n",
        "import numpy as np\n",
        "\n",
        "os.chdir(\"/content/AI-Feynman/example_data\")\n",
        "\n",
        "def getY(x01,x23):\n",
        "  y = -0.5*x01+0.5*x23+3\n",
        "  return y\n",
        "\n",
        "def getRow():\n",
        "  x=[random.random() for x in range(4)]\n",
        "  x[1]=x[0]\n",
        "  x[3]=x[2]\n",
        "  y=getY(x[1],x[3])\n",
        "  mu=0\n",
        "  sigma=0.05\n",
        "  noise=np.random.normal(mu, sigma, 4)\n",
        "  x=x+noise\n",
        "  return str(x[0])+\" \"+str(x[1])+\" \"+str(x[2])+\" \"+str(x[3])+\" \"+str(y)+\"\\n\"\n",
        "\n",
        "with open(\"duplicateVarsWithNoise100k.txt\", \"w\") as f:\n",
        "  for _ in range(100000):\n",
        "    f.write(getRow())\n",
        "f.close()\n",
        "\n",
        "# switch back to the code directory\n",
        "os.chdir(\"/content/AI-Feynman/Code\")"
      ]
    },
    {
      "cell_type": "markdown",
      "metadata": {
        "id": "GhKiDHU4Eau_"
      },
      "source": [
        "Let's have a look at the data"
      ]
    },
    {
      "cell_type": "code",
      "execution_count": null,
      "metadata": {
        "colab": {
          "base_uri": "https://localhost:8080/"
        },
        "id": "r66strV1DrLD",
        "outputId": "020764db-5cce-4054-cb60-258e91bb1308"
      },
      "outputs": [
        {
          "name": "stdout",
          "output_type": "stream",
          "text": [
            "0.24658538894044763 0.13528964909109784 0.7167726232164163 0.7613120782784784 3.2656571497233786\n",
            "0.2744040465350253 0.22317445738298491 0.22430267199045523 0.26809637801190395 3.0181081263737215\n",
            "-0.012179437736629266 0.13175034433494237 0.45762143661421895 0.505653926918747 3.2226869325112513\n",
            "0.8709211751354147 0.9791763375471095 0.14712982438738045 0.13246639853674866 2.5897597225282847\n",
            "0.27261467565387654 0.36572759769000307 0.34024664201389243 0.40912560582738366 3.015864739527045\n",
            "0.43253988893728534 0.37860683920153904 0.013577517341750335 0.06781195506790083 2.7866547678093876\n",
            "0.9110207591374523 0.8733512599139964 0.5663716610173677 0.6014830839798686 2.8456507353167524\n",
            "0.9795695029287032 0.9190975772304248 0.6232141532118675 0.5961506288289266 2.837360094281111\n",
            "0.22845677552495508 0.19391464651128826 0.44802027841275277 0.35270070599824 3.1006802445665063\n",
            "0.6595280064935026 0.692156853631994 0.22211600273205026 0.1993943083609775 2.7216271055639694\n",
            "0.5237647068075513 0.5168276493649244 0.7190612928512174 0.6624365723584664 3.089306657947109\n",
            "0.746099645532904 0.747136921501013 0.9894813258403787 0.990297002981478 3.0694059062979187\n",
            "0.7604754982403262 0.8195519823355322 0.5515225244122145 0.5614021236269828 2.9109948996953268\n",
            "0.07605402612979265 0.12729646969842234 0.5700723046338451 0.5360196816172514 3.216563838875799\n",
            "0.3411370396059788 0.4110929805684643 0.6541136235862548 0.5982201236618775 3.1332975404447354\n",
            "0.09667744819508856 0.043717710166587674 0.3284615089327539 0.2559270725311338 3.1448319448290176\n",
            "0.4266044966238626 0.3344650209702018 0.735861939453897 0.7736495010495975 3.1660280509263634\n",
            "0.25080176973780255 0.28445290644235977 -0.058452211703250656 0.04324386606276378 2.9123562530510743\n",
            "0.030824891761758698 0.09274584224310627 0.27765355215883447 0.23152022874044048 3.0941338179086424\n",
            "0.5200568552227435 0.5952950201411671 0.7740467374108093 0.7390280922680148 3.160771147503813\n"
          ]
        }
      ],
      "source": [
        "!head -n 20 ../example_data/duplicateVarsWithNoise100k.txt"
      ]
    },
    {
      "cell_type": "markdown",
      "metadata": {
        "id": "EK45_2NtEquA"
      },
      "source": [
        "Now let's plot the data"
      ]
    },
    {
      "cell_type": "code",
      "execution_count": null,
      "metadata": {
        "colab": {
          "base_uri": "https://localhost:8080/",
          "height": 1000
        },
        "id": "yeHBIS9DEc8H",
        "outputId": "82c63915-633c-4122-8e97-d77010d097eb"
      },
      "outputs": [
        {
          "data": {
            "text/plain": [
              "<matplotlib.axes._subplots.AxesSubplot at 0x7ff8e181bb10>"
            ]
          },
          "execution_count": 29,
          "metadata": {},
          "output_type": "execute_result"
        },
        {
          "data": {
            "image/png": "[encoded data removed]",
            "text/plain": [
              "<Figure size 432x288 with 1 Axes>"
            ]
          },
          "metadata": {},
          "output_type": "display_data"
        },
        {
          "data": {
            "image/png": "[encoded data removed]",
            "text/plain": [
              "<Figure size 432x288 with 1 Axes>"
            ]
          },
          "metadata": {},
          "output_type": "display_data"
        },
        {
          "data": {
            "image/png": "[encoded data removed]",
            "text/plain": [
              "<Figure size 432x288 with 1 Axes>"
            ]
          },
          "metadata": {},
          "output_type": "display_data"
        },
        {
          "data": {
            "image/png": "[encoded data removed]",
            "text/plain": [
              "<Figure size 432x288 with 1 Axes>"
            ]
          },
          "metadata": {},
          "output_type": "display_data"
        }
      ],
      "source": [
        "%matplotlib inline\n",
        "import matplotlib.pyplot as plt\n",
        "import pandas as pd\n",
        "plt.style.use('seaborn-whitegrid')\n",
        "import numpy as np\n",
        "\n",
        "df=pd.read_csv(\"../example_data/duplicateVarsWithNoise100k.txt\",sep=\" \",header=None)\n",
        "df.plot.scatter(x=0, y=4)\n",
        "df.plot.scatter(x=1, y=4)\n",
        "df.plot.scatter(x=2, y=4)\n",
        "df.plot.scatter(x=3, y=4)"
      ]
    },
    {
      "cell_type": "code",
      "execution_count": null,
      "metadata": {
        "colab": {
          "base_uri": "https://localhost:8080/"
        },
        "id": "3WaejzZWEwMx",
        "outputId": "5e7f7e6f-6837-447f-8e46-3fe6a44459f6"
      },
      "outputs": [
        {
          "name": "stdout",
          "output_type": "stream",
          "text": [
            "Checking for brute force + \n",
            "\n",
            "Checking for brute force * \n",
            "\n",
            "Checking polyfit \n",
            "\n",
            "Complexity  RMSE  Expression\n",
            "[44.87052513523241, 26.91401828379588, '-0.080410728286+pi']\n",
            "[48.09194877783831, 26.835945935286453, 2.99998533725739]\n",
            "[52.372814580925414, 26.57617583325315, cos(x0) + 2.1598539352417]\n",
            "[58.32994587457764, 26.57528754714436, '1.769022682129+sqrt((x2+1))']\n",
            "[58.57398871319263, 26.32626357847806, '2.793420736004+(x3/((x0+1)+1))']\n",
            "[58.58148203693512, 26.323341844310665, '2.807967441813+(x2/((x0+1)+1))']\n",
            "[60.71188352073511, 25.13221764830332, '3.021468115532+(cos(x0)-cos(x3))']\n",
            "[64.71669142579017, 24.759406291459783, '3.031554214430+((x3-x0)/(pi-1))']\n",
            "[67.61789036815233, 24.742397397015846, '3.033791703770+((x3-x0)/((cos(x3))**(-1)+1))']\n",
            "[71.16498974901769, 24.697915192622236, '2.009047906648+sqrt((sin((x3-sin(x0)))+1))']\n",
            "[72.1692487654074, 24.542400611551233, '4.029975261394+(-sqrt(exp(sin((x0-x3)))))']\n",
            "[78.0865028781028, 24.303487658958183, '2.988682309278*sqrt(exp(sin(((x3-x0)/pi))))']\n",
            "[150.56892318349344, 24.252443197526382, -0.477748479561452*x0 + 0.472277372730945*x3 + 3.00272679328918]\n",
            "[150.5809566167637, 24.247342464466534, -0.478998242395383*x0 + 0.475149571917152*x3 + 3.0017217604088]\n",
            "[150.6158360713324, 24.233789203720708, -0.483407884836197*x1 + 0.482542455196381*x3 + 3.00044173933564]\n",
            "[246.15650601414842, 24.037620913616966, '-0.26693145702291*x0 - 0.267040847152668*x1 + 0.26756658553232*x2 + 0.267516179381394*x3 + 2.99948209652892']\n",
            "Checking for brute force + \n",
            "\n",
            "Checking for brute force * \n",
            "\n",
            "Checking polyfit \n",
            "\n",
            "Complexity  RMSE  Expression\n",
            "[44.87052513523241, 26.91401828379588, '-0.080410728286+pi']\n",
            "[46.82635707310015, 23.533035815300224, 1.24778013331224]\n",
            "[46.82644412328864, 23.53171890804123, 1.24785542488098]\n",
            "[95.76893621087717, 23.34798225361397, tan(0.0299762394279242*x3 + 0.879640745762099)]\n",
            "[96.4111506576941, 23.254855435171855, tan(0.0182454716414213*x2 - 2.25555387488847)]\n",
            "[146.18890692853972, 23.25317840873579, -0.828967869281769*tan(0.0182727593928576*x0 + 2.14809836131784)]\n",
            "[158.68360359899364, 22.553291658621305, tan(cos(0.367808403503174*x0*exp(-0.998546302318573*x2)) - 0.095238983631134)]\n",
            "[158.6837871845202, 22.55160875120017, tan(cos(0.367830590338628*x1*exp(-0.998547911643982*x3)) - 0.0952452048659325)]\n",
            "Checking for brute force + \n",
            "\n",
            "Checking for brute force * \n",
            "\n",
            "Checking polyfit \n",
            "\n",
            "Complexity  RMSE  Expression\n",
            "[44.87052513523241, 26.91401828379588, '-0.080410728286+pi']\n",
            "[46.462036743038034, 24.340601352501736, -0.969318985939026]\n",
            "[46.82635707310015, 23.533035815300224, 1.24778013331224]\n",
            "[46.82644412328864, 23.53171890804123, 1.24785542488098]\n",
            "[95.76893621087717, 23.34798225361397, tan(0.0299762394279242*x3 + 0.879640745762099)]\n",
            "[96.4111506576941, 23.254855435171855, tan(0.0182454716414213*x2 - 2.25555387488847)]\n",
            "[146.18890692853972, 23.25317840873579, -0.828967869281769*tan(0.0182727593928576*x0 + 2.14809836131784)]\n",
            "[158.68360359899364, 22.553291658621305, tan(cos(0.367808403503174*x0*exp(-0.998546302318573*x2)) - 0.095238983631134)]\n",
            "[158.6837871845202, 22.55160875120017, tan(cos(0.367830590338628*x1*exp(-0.998547911643982*x3)) - 0.0952452048659325)]\n",
            "Checking for brute force + \n",
            "\n",
            "Checking for brute force * \n",
            "\n",
            "Checking polyfit \n",
            "\n",
            "Complexity  RMSE  Expression\n",
            "[44.87052513523241, 26.91401828379588, '-0.080410728286+pi']\n",
            "[46.462036743038034, 24.340601352501736, -0.969318985939026]\n",
            "[46.82635707310015, 23.533035815300224, 1.24778013331224]\n",
            "[46.82644412328864, 23.53171890804123, 1.24785542488098]\n",
            "[95.76893621087717, 23.34798225361397, tan(0.0299762394279242*x3 + 0.879640745762099)]\n",
            "[96.4111506576941, 23.254855435171855, tan(0.0182454716414213*x2 - 2.25555387488847)]\n",
            "[146.18890692853972, 23.25317840873579, -0.828967869281769*tan(0.0182727593928576*x0 + 2.14809836131784)]\n",
            "[158.68360359899364, 22.553291658621305, tan(cos(0.367808403503174*x0*exp(-0.998546302318573*x2)) - 0.095238983631134)]\n",
            "[158.6837871845202, 22.55160875120017, tan(cos(0.367830590338628*x1*exp(-0.998547911643982*x3)) - 0.0952452048659325)]\n",
            "Checking for brute force + \n",
            "\n",
            "Checking for brute force * \n",
            "\n",
            "Checking polyfit \n",
            "\n",
            "Complexity  RMSE  Expression\n",
            "[0.0, 28.41841148693958, 8.91505505199440e-11]\n",
            "[28.9542308905603, 28.418388976623707, 5.20106162353067e-6]\n",
            "[44.87052513523241, 26.91401828379588, '-0.080410728286+pi']\n",
            "[44.928734333772304, 23.68711848642442, 0.334885776042938]\n",
            "[46.82635707310015, 23.533035815300224, 1.24778013331224]\n",
            "[46.82644412328864, 23.53171890804123, 1.24785542488098]\n",
            "[95.76893621087717, 23.34798225361397, tan(0.0299762394279242*x3 + 0.879640745762099)]\n",
            "[96.4111506576941, 23.254855435171855, tan(0.0182454716414213*x2 - 2.25555387488847)]\n",
            "[146.18890692853972, 23.25317840873579, -0.828967869281769*tan(0.0182727593928576*x0 + 2.14809836131784)]\n",
            "[158.68360359899364, 22.553291658621305, tan(cos(0.367808403503174*x0*exp(-0.998546302318573*x2)) - 0.095238983631134)]\n",
            "[158.6837871845202, 22.55160875120017, tan(cos(0.367830590338628*x1*exp(-0.998547911643982*x3)) - 0.0952452048659325)]\n",
            "Checking for brute force + \n",
            "\n",
            "Checking for brute force * \n",
            "\n",
            "Checking polyfit \n",
            "\n",
            "Complexity  RMSE  Expression\n",
            "[0.0, 28.41841148693958, 8.91505505199440e-11]\n",
            "[28.9542308905603, 28.418388976623707, 5.20106162353067e-6]\n",
            "[44.87052513523241, 26.91401828379588, '-0.080410728286+pi']\n",
            "[44.928734333772304, 23.68711848642442, 0.334885776042938]\n",
            "[46.82635707310015, 23.533035815300224, 1.24778013331224]\n",
            "[46.82644412328864, 23.53171890804123, 1.24785542488098]\n",
            "[95.76893621087717, 23.34798225361397, tan(0.0299762394279242*x3 + 0.879640745762099)]\n",
            "[96.4111506576941, 23.254855435171855, tan(0.0182454716414213*x2 - 2.25555387488847)]\n",
            "[145.81271247631113, 22.83508880839687, 1.08784983339214*exp(-0.146312326192856*x0 + 0.157507166266441*x3)]\n",
            "[158.68360359899364, 22.553291658621305, tan(cos(0.367808403503174*x0*exp(-0.998546302318573*x2)) - 0.095238983631134)]\n",
            "[158.6837871845202, 22.55160875120017, tan(cos(0.367830590338628*x1*exp(-0.998547911643982*x3)) - 0.0952452048659325)]\n",
            "Checking for brute force + \n",
            "\n",
            "Checking for brute force * \n",
            "\n",
            "Checking polyfit \n",
            "\n",
            "Complexity  RMSE  Expression\n",
            "[0.0, 28.41841148693958, 8.91505505199440e-11]\n",
            "[28.9542308905603, 28.418388976623707, 5.20106162353067e-6]\n",
            "[43.65195603044541, 26.8102596387285, 0.138212758406052]\n",
            "[43.651964378138516, 26.81024879479088, 0.138213558132255]\n",
            "[44.928734333772304, 23.68711848642442, 0.334885776042938]\n",
            "[46.82635707310015, 23.533035815300224, 1.24778013331224]\n",
            "[46.82644412328864, 23.53171890804123, 1.24785542488098]\n",
            "[95.76893621087717, 23.34798225361397, tan(0.0299762394279242*x3 + 0.879640745762099)]\n",
            "[96.4111506576941, 23.254855435171855, tan(0.0182454716414213*x2 - 2.25555387488847)]\n",
            "[145.81271247631113, 22.83508880839687, 1.08784983339214*exp(-0.146312326192856*x0 + 0.157507166266441*x3)]\n",
            "[158.68360359899364, 22.553291658621305, tan(cos(0.367808403503174*x0*exp(-0.998546302318573*x2)) - 0.095238983631134)]\n",
            "[158.6837871845202, 22.55160875120017, tan(cos(0.367830590338628*x1*exp(-0.998547911643982*x3)) - 0.0952452048659325)]\n",
            "Checking for brute force + \n",
            "\n",
            "Checking for brute force * \n",
            "\n",
            "Checking polyfit \n",
            "\n",
            "Complexity  RMSE  Expression\n",
            "[0.0, 28.41841148693958, 8.91505505199440e-11]\n",
            "[28.9542308905603, 28.418388976623707, 5.20106162353067e-6]\n",
            "[43.65195603044541, 26.8102596387285, 0.138212758406052]\n",
            "[43.651964378138516, 26.81024879479088, 0.138213558132255]\n",
            "[44.928734333772304, 23.68711848642442, 0.334885776042938]\n",
            "[46.82635707310015, 23.533035815300224, 1.24778013331224]\n",
            "[46.82644412328864, 23.53171890804123, 1.24785542488098]\n",
            "[95.76893621087717, 23.34798225361397, tan(0.0299762394279242*x3 + 0.879640745762099)]\n",
            "[96.4111506576941, 23.254855435171855, tan(0.0182454716414213*x2 - 2.25555387488847)]\n",
            "[145.81271247631113, 22.83508880839687, 1.08784983339214*exp(-0.146312326192856*x0 + 0.157507166266441*x3)]\n",
            "[158.68360359899364, 22.553291658621305, tan(cos(0.367808403503174*x0*exp(-0.998546302318573*x2)) - 0.095238983631134)]\n",
            "[158.6837871845202, 22.55160875120017, tan(cos(0.367830590338628*x1*exp(-0.998547911643982*x3)) - 0.0952452048659325)]\n",
            "[194.68506662418307, 22.46844869562252, (-0.0595745195864963*x0 + 0.0583312051052354*x3 + 1.34567010402679)**1.85027873516083]\n",
            "Checking for brute force + \n",
            "\n",
            "Checking for brute force * \n",
            "\n"
          ]
        }
      ],
      "source": [
        "from S_run_aifeynman import run_aifeynman\n",
        "run_aifeynman(\"/content/AI-Feynman/example_data/\",\"duplicateVarsWithNoise100k.txt\",30,\"14ops.txt\", polyfit_deg=3, NN_epochs=600)"
      ]
    },
    {
      "cell_type": "code",
      "execution_count": null,
      "metadata": {
        "id": "MU7AgMaY6GEj"
      },
      "outputs": [],
      "source": [
        "!cat /content/AI-Feynman/Code/results/solution_duplicateVarsWithNoise100k.txt"
      ]
    },
    {
      "cell_type": "code",
      "execution_count": null,
      "metadata": {
        "id": "YCqI4u3z7bwX"
      },
      "outputs": [],
      "source": [
        "!cp -r /content/AI-Feynman /content/gdrive/My\\ Drive/Lemay.ai_research/"
      ]
    },
    {
      "cell_type": "code",
      "execution_count": null,
      "metadata": {
        "id": "DWwOCnPbJWIe"
      },
      "outputs": [],
      "source": [
        "# from S_run_aifeynman import run_aifeynman\n",
        "# run_aifeynman(\"/content/gdrive/My Drive/Lemay.ai_research/AI-Feynman/example_data/\",\"duplicateVarsWithNoise.txt\",30,\"19ops.txt\", polyfit_deg=3, NN_epochs=1000)"
      ]
    },
    {
      "cell_type": "code",
      "execution_count": null,
      "metadata": {
        "id": "5BlxdiAGuuOh"
      },
      "outputs": [],
      "source": [
        "import os\n",
        "import random\n",
        "import numpy as np\n",
        "os.chdir(\"/content/gdrive/My Drive/Lemay.ai_research/AI-Feynman/example_data\")\n",
        "\n",
        "def getY(x01,x23):\n",
        "  y = -0.5*x01+0.5*x23+3\n",
        "  return y\n",
        "\n",
        "def getRow():\n",
        "  x=[0 for x in range(4)]\n",
        "  x[1]=random.random()\n",
        "  x[3]=random.random()\n",
        "  y=getY(x[1],x[3])\n",
        "  mu=0\n",
        "  sigma=0.05\n",
        "  noise=np.random.normal(mu, sigma, 4)\n",
        "  x=x+noise\n",
        "  return str(x[1])+\" \"+str(x[3])+\" \"+str(y)+\"\\n\"\n",
        "\n",
        "with open(\"varsWithNoise.txt\", \"w\") as f:\n",
        "  for _ in range(100000):\n",
        "    f.write(getRow())\n",
        "f.close()\n",
        "\n",
        "# switch back to the code directory\n",
        "os.chdir(\"/content/gdrive/My Drive/Lemay.ai_research/AI-Feynman/Code\")"
      ]
    },
    {
      "cell_type": "code",
      "execution_count": null,
      "metadata": {
        "id": "hhBVHdOdmN6u"
      },
      "outputs": [],
      "source": [
        "%matplotlib inline\n",
        "import matplotlib.pyplot as plt\n",
        "import pandas as pd\n",
        "plt.style.use('seaborn-whitegrid')\n",
        "import numpy as np\n",
        "\n",
        "df=pd.read_csv(\"../example_data/varsWithNoise.txt\",sep=\" \",header=None)\n",
        "df.plot.scatter(x=0, y=2)\n",
        "df.plot.scatter(x=1, y=2)"
      ]
    },
    {
      "cell_type": "code",
      "execution_count": null,
      "metadata": {
        "id": "0cOAKEZ5RMEW"
      },
      "outputs": [],
      "source": [
        "from S_run_aifeynman import run_aifeynman\n",
        "run_aifeynman(\"/content/gdrive/My Drive/Lemay.ai_research/AI-Feynman/example_data/\",\"varsWithNoise.txt\",30,\"14ops.txt\", polyfit_deg=3, NN_epochs=1000)"
      ]
    },
    {
      "cell_type": "code",
      "execution_count": null,
      "metadata": {
        "id": "xnrg6-NzRg4t"
      },
      "outputs": [],
      "source": [
        ""
      ]
    }
  ],
  "metadata": {
    "colab": {
      "collapsed_sections": [],
      "name": "AI_Feynman_2_0_Equation_4.ipynb",
      "provenance": []
    },
    "kernelspec": {
      "display_name": "Python 3",
      "name": "python3"
    }
  },
  "nbformat": 4,
  "nbformat_minor": 0
}